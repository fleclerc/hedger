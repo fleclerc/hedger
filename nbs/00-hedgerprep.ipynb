{
 "cells": [
  {
   "cell_type": "code",
   "execution_count": 1,
   "metadata": {},
   "outputs": [],
   "source": [
    "#| default_exp hedgerprep"
   ]
  },
  {
   "cell_type": "markdown",
   "metadata": {},
   "source": [
    "# Documentation\n",
    "## Datasets\n",
    "* xdf: raw data "
   ]
  },
  {
   "cell_type": "code",
   "execution_count": 2,
   "metadata": {},
   "outputs": [],
   "source": [
    "#| export\n",
    "import pandas as pd\n",
    "import numpy as np\n",
    "import matplotlib.pyplot as plot\n",
    "from fastai.tabular.all import *\n",
    "import nbdev\n",
    "import gzip"
   ]
  },
  {
   "cell_type": "code",
   "execution_count": 3,
   "metadata": {},
   "outputs": [],
   "source": [
    "#| export\n",
    "def is_notebook():\n",
    "    try:\n",
    "        shell = get_ipython().__class__.__name__\n",
    "        if shell == 'ZMQInteractiveShell':\n",
    "            return True   # Jupyter notebook or qtconsole\n",
    "        elif shell == 'TerminalInteractiveShell':\n",
    "            return False  # Terminal running IPython\n",
    "        else:\n",
    "            return False  # Other type (?)\n",
    "    except NameError:\n",
    "        return False      # Probably standard Python interpreter"
   ]
  },
  {
   "cell_type": "markdown",
   "metadata": {},
   "source": [
    "# Parameters"
   ]
  },
  {
   "cell_type": "code",
   "execution_count": 4,
   "metadata": {},
   "outputs": [
    {
     "name": "stdout",
     "output_type": "stream",
     "text": [
      "Running in Jupyter Notebook\n"
     ]
    }
   ],
   "source": [
    "#| export\n",
    "\n",
    "stop_loss_tick = 2\n",
    "tick_size = 0.01\n",
    "\n",
    "if is_notebook():\n",
    "    data_dir = Path(\"../market\")\n",
    "    save_dir = Path(\"../market/save\")\n",
    "    market_open = \"09:30\"\n",
    "    rows_to_load = 3_000_000     # should be -1 for training, or positive smaller for faster testing\n",
    "    load_date = \"20250103\"\n",
    "\n",
    "    day_sample_count = 5000\n",
    "    print(\"Running in Jupyter Notebook\")\n",
    "else:\n",
    "    data_dir = Path(\"../market\")\n",
    "    save_dir = Path(\"../market/save\")\n",
    "    market_open = \"09:30\"\n",
    "    rows_to_load = -1     # should be -1 for training, or positive smaller for faster testing\n",
    "\n",
    "    day_sample_count = 5000\n"
   ]
  },
  {
   "cell_type": "markdown",
   "metadata": {},
   "source": [
    "# Load data"
   ]
  },
  {
   "cell_type": "code",
   "execution_count": 5,
   "metadata": {},
   "outputs": [],
   "source": [
    "#| export\n",
    "def load_data(date):\n",
    "    file_path = data_dir / f\"xnas-itch-{date}.mbp-10.csv\"\n",
    "    if not file_path.exists():\n",
    "        file_path = data_dir / f\"xnas-itch-{date}.mbp-10.csv.gz\"\n",
    "        if file_path.exists():\n",
    "            with gzip.open(file_path, 'rb') as f:\n",
    "                decompressed_data = f.read()\n",
    "            df = pd.read_csv(io.BytesIO(decompressed_data), nrows=rows_to_load if rows_to_load > 0 else None)\n",
    "        else:\n",
    "            raise FileNotFoundError(f\"Neither {file_path} nor its .gz version exists.\")\n",
    "    else:\n",
    "        df = pd.read_csv(file_path, nrows=rows_to_load if rows_to_load > 0 else None)\n",
    "    return df"
   ]
  },
  {
   "cell_type": "code",
   "execution_count": 6,
   "metadata": {},
   "outputs": [
    {
     "data": {
      "application/vnd.microsoft.datawrangler.viewer.v0+json": {
       "columns": [
        {
         "name": "index",
         "rawType": "int64",
         "type": "integer"
        },
        {
         "name": "ts_recv",
         "rawType": "object",
         "type": "string"
        },
        {
         "name": "ts_event",
         "rawType": "object",
         "type": "string"
        },
        {
         "name": "rtype",
         "rawType": "int64",
         "type": "integer"
        },
        {
         "name": "publisher_id",
         "rawType": "int64",
         "type": "integer"
        },
        {
         "name": "instrument_id",
         "rawType": "int64",
         "type": "integer"
        },
        {
         "name": "action",
         "rawType": "object",
         "type": "string"
        },
        {
         "name": "side",
         "rawType": "object",
         "type": "string"
        },
        {
         "name": "depth",
         "rawType": "int64",
         "type": "integer"
        },
        {
         "name": "price",
         "rawType": "float64",
         "type": "float"
        },
        {
         "name": "size",
         "rawType": "int64",
         "type": "integer"
        },
        {
         "name": "flags",
         "rawType": "int64",
         "type": "integer"
        },
        {
         "name": "ts_in_delta",
         "rawType": "int64",
         "type": "integer"
        },
        {
         "name": "sequence",
         "rawType": "int64",
         "type": "integer"
        },
        {
         "name": "bid_px_00",
         "rawType": "float64",
         "type": "float"
        },
        {
         "name": "ask_px_00",
         "rawType": "float64",
         "type": "float"
        },
        {
         "name": "bid_sz_00",
         "rawType": "int64",
         "type": "integer"
        },
        {
         "name": "ask_sz_00",
         "rawType": "int64",
         "type": "integer"
        },
        {
         "name": "bid_ct_00",
         "rawType": "int64",
         "type": "integer"
        },
        {
         "name": "ask_ct_00",
         "rawType": "int64",
         "type": "integer"
        },
        {
         "name": "bid_px_01",
         "rawType": "float64",
         "type": "float"
        },
        {
         "name": "ask_px_01",
         "rawType": "float64",
         "type": "float"
        },
        {
         "name": "bid_sz_01",
         "rawType": "int64",
         "type": "integer"
        },
        {
         "name": "ask_sz_01",
         "rawType": "int64",
         "type": "integer"
        },
        {
         "name": "bid_ct_01",
         "rawType": "int64",
         "type": "integer"
        },
        {
         "name": "ask_ct_01",
         "rawType": "int64",
         "type": "integer"
        },
        {
         "name": "bid_px_02",
         "rawType": "float64",
         "type": "float"
        },
        {
         "name": "ask_px_02",
         "rawType": "float64",
         "type": "float"
        },
        {
         "name": "bid_sz_02",
         "rawType": "int64",
         "type": "integer"
        },
        {
         "name": "ask_sz_02",
         "rawType": "int64",
         "type": "integer"
        },
        {
         "name": "bid_ct_02",
         "rawType": "int64",
         "type": "integer"
        },
        {
         "name": "ask_ct_02",
         "rawType": "int64",
         "type": "integer"
        },
        {
         "name": "bid_px_03",
         "rawType": "float64",
         "type": "float"
        },
        {
         "name": "ask_px_03",
         "rawType": "float64",
         "type": "float"
        },
        {
         "name": "bid_sz_03",
         "rawType": "int64",
         "type": "integer"
        },
        {
         "name": "ask_sz_03",
         "rawType": "int64",
         "type": "integer"
        },
        {
         "name": "bid_ct_03",
         "rawType": "int64",
         "type": "integer"
        },
        {
         "name": "ask_ct_03",
         "rawType": "int64",
         "type": "integer"
        },
        {
         "name": "bid_px_04",
         "rawType": "float64",
         "type": "float"
        },
        {
         "name": "ask_px_04",
         "rawType": "float64",
         "type": "float"
        },
        {
         "name": "bid_sz_04",
         "rawType": "int64",
         "type": "integer"
        },
        {
         "name": "ask_sz_04",
         "rawType": "int64",
         "type": "integer"
        },
        {
         "name": "bid_ct_04",
         "rawType": "int64",
         "type": "integer"
        },
        {
         "name": "ask_ct_04",
         "rawType": "int64",
         "type": "integer"
        },
        {
         "name": "bid_px_05",
         "rawType": "float64",
         "type": "float"
        },
        {
         "name": "ask_px_05",
         "rawType": "float64",
         "type": "float"
        },
        {
         "name": "bid_sz_05",
         "rawType": "int64",
         "type": "integer"
        },
        {
         "name": "ask_sz_05",
         "rawType": "int64",
         "type": "integer"
        },
        {
         "name": "bid_ct_05",
         "rawType": "int64",
         "type": "integer"
        },
        {
         "name": "ask_ct_05",
         "rawType": "int64",
         "type": "integer"
        },
        {
         "name": "bid_px_06",
         "rawType": "float64",
         "type": "float"
        },
        {
         "name": "ask_px_06",
         "rawType": "float64",
         "type": "float"
        },
        {
         "name": "bid_sz_06",
         "rawType": "int64",
         "type": "integer"
        },
        {
         "name": "ask_sz_06",
         "rawType": "int64",
         "type": "integer"
        },
        {
         "name": "bid_ct_06",
         "rawType": "int64",
         "type": "integer"
        },
        {
         "name": "ask_ct_06",
         "rawType": "int64",
         "type": "integer"
        },
        {
         "name": "bid_px_07",
         "rawType": "float64",
         "type": "float"
        },
        {
         "name": "ask_px_07",
         "rawType": "float64",
         "type": "float"
        },
        {
         "name": "bid_sz_07",
         "rawType": "int64",
         "type": "integer"
        },
        {
         "name": "ask_sz_07",
         "rawType": "int64",
         "type": "integer"
        },
        {
         "name": "bid_ct_07",
         "rawType": "int64",
         "type": "integer"
        },
        {
         "name": "ask_ct_07",
         "rawType": "int64",
         "type": "integer"
        },
        {
         "name": "bid_px_08",
         "rawType": "float64",
         "type": "float"
        },
        {
         "name": "ask_px_08",
         "rawType": "float64",
         "type": "float"
        },
        {
         "name": "bid_sz_08",
         "rawType": "int64",
         "type": "integer"
        },
        {
         "name": "ask_sz_08",
         "rawType": "int64",
         "type": "integer"
        },
        {
         "name": "bid_ct_08",
         "rawType": "int64",
         "type": "integer"
        },
        {
         "name": "ask_ct_08",
         "rawType": "int64",
         "type": "integer"
        },
        {
         "name": "bid_px_09",
         "rawType": "float64",
         "type": "float"
        },
        {
         "name": "ask_px_09",
         "rawType": "float64",
         "type": "float"
        },
        {
         "name": "bid_sz_09",
         "rawType": "int64",
         "type": "integer"
        },
        {
         "name": "ask_sz_09",
         "rawType": "int64",
         "type": "integer"
        },
        {
         "name": "bid_ct_09",
         "rawType": "int64",
         "type": "integer"
        },
        {
         "name": "ask_ct_09",
         "rawType": "int64",
         "type": "integer"
        },
        {
         "name": "symbol",
         "rawType": "object",
         "type": "string"
        }
       ],
       "conversionMethod": "pd.DataFrame",
       "ref": "8eb28c1e-6424-4969-81c0-3532f3aade4c",
       "rows": [
        [
         "0",
         "2025-01-03T09:00:00.015869440Z",
         "2025-01-03T09:00:00.015702539Z",
         "10",
         "2",
         "11667",
         "A",
         "N",
         "0",
         "140.97",
         "100",
         "130",
         "166901",
         "283102",
         null,
         "140.97",
         "0",
         "100",
         "0",
         "1",
         null,
         null,
         "0",
         "0",
         "0",
         "0",
         null,
         null,
         "0",
         "0",
         "0",
         "0",
         null,
         null,
         "0",
         "0",
         "0",
         "0",
         null,
         null,
         "0",
         "0",
         "0",
         "0",
         null,
         null,
         "0",
         "0",
         "0",
         "0",
         null,
         null,
         "0",
         "0",
         "0",
         "0",
         null,
         null,
         "0",
         "0",
         "0",
         "0",
         null,
         null,
         "0",
         "0",
         "0",
         "0",
         null,
         null,
         "0",
         "0",
         "0",
         "0",
         "NVDA"
        ],
        [
         "1",
         "2025-01-03T09:00:00.015938794Z",
         "2025-01-03T09:00:00.015771793Z",
         "10",
         "2",
         "11667",
         "A",
         "B",
         "0",
         "137.5",
         "10000",
         "130",
         "167001",
         "283105",
         "137.5",
         "140.97",
         "10000",
         "100",
         "1",
         "1",
         null,
         null,
         "0",
         "0",
         "0",
         "0",
         null,
         null,
         "0",
         "0",
         "0",
         "0",
         null,
         null,
         "0",
         "0",
         "0",
         "0",
         null,
         null,
         "0",
         "0",
         "0",
         "0",
         null,
         null,
         "0",
         "0",
         "0",
         "0",
         null,
         null,
         "0",
         "0",
         "0",
         "0",
         null,
         null,
         "0",
         "0",
         "0",
         "0",
         null,
         null,
         "0",
         "0",
         "0",
         "0",
         null,
         null,
         "0",
         "0",
         "0",
         "0",
         "NVDA"
        ],
        [
         "2",
         "2025-01-03T09:00:00.040850395Z",
         "2025-01-03T09:00:00.040665733Z",
         "10",
         "2",
         "11667",
         "A",
         "A",
         "1",
         "157.05",
         "73",
         "128",
         "184662",
         "283591",
         "137.5",
         "140.97",
         "10000",
         "100",
         "1",
         "1",
         null,
         "157.05",
         "0",
         "73",
         "0",
         "1",
         null,
         null,
         "0",
         "0",
         "0",
         "0",
         null,
         null,
         "0",
         "0",
         "0",
         "0",
         null,
         null,
         "0",
         "0",
         "0",
         "0",
         null,
         null,
         "0",
         "0",
         "0",
         "0",
         null,
         null,
         "0",
         "0",
         "0",
         "0",
         null,
         null,
         "0",
         "0",
         "0",
         "0",
         null,
         null,
         "0",
         "0",
         "0",
         "0",
         null,
         null,
         "0",
         "0",
         "0",
         "0",
         "NVDA"
        ],
        [
         "3",
         "2025-01-03T09:00:00.059865276Z",
         "2025-01-03T09:00:00.059698561Z",
         "10",
         "2",
         "11667",
         "A",
         "A",
         "0",
         "138.81",
         "1000",
         "130",
         "166715",
         "284400",
         "137.5",
         "138.81",
         "10000",
         "1000",
         "1",
         "1",
         null,
         "140.97",
         "0",
         "100",
         "0",
         "1",
         null,
         "157.05",
         "0",
         "73",
         "0",
         "1",
         null,
         null,
         "0",
         "0",
         "0",
         "0",
         null,
         null,
         "0",
         "0",
         "0",
         "0",
         null,
         null,
         "0",
         "0",
         "0",
         "0",
         null,
         null,
         "0",
         "0",
         "0",
         "0",
         null,
         null,
         "0",
         "0",
         "0",
         "0",
         null,
         null,
         "0",
         "0",
         "0",
         "0",
         null,
         null,
         "0",
         "0",
         "0",
         "0",
         "NVDA"
        ],
        [
         "4",
         "2025-01-03T09:00:00.085513156Z",
         "2025-01-03T09:00:00.085346759Z",
         "10",
         "2",
         "11667",
         "A",
         "B",
         "1",
         "121.0",
         "20",
         "130",
         "166397",
         "285087",
         "137.5",
         "138.81",
         "10000",
         "1000",
         "1",
         "1",
         "121.0",
         "140.97",
         "20",
         "100",
         "1",
         "1",
         null,
         "157.05",
         "0",
         "73",
         "0",
         "1",
         null,
         null,
         "0",
         "0",
         "0",
         "0",
         null,
         null,
         "0",
         "0",
         "0",
         "0",
         null,
         null,
         "0",
         "0",
         "0",
         "0",
         null,
         null,
         "0",
         "0",
         "0",
         "0",
         null,
         null,
         "0",
         "0",
         "0",
         "0",
         null,
         null,
         "0",
         "0",
         "0",
         "0",
         null,
         null,
         "0",
         "0",
         "0",
         "0",
         "NVDA"
        ]
       ],
       "shape": {
        "columns": 74,
        "rows": 5
       }
      },
      "text/html": [
       "<div>\n",
       "<style scoped>\n",
       "    .dataframe tbody tr th:only-of-type {\n",
       "        vertical-align: middle;\n",
       "    }\n",
       "\n",
       "    .dataframe tbody tr th {\n",
       "        vertical-align: top;\n",
       "    }\n",
       "\n",
       "    .dataframe thead th {\n",
       "        text-align: right;\n",
       "    }\n",
       "</style>\n",
       "<table border=\"1\" class=\"dataframe\">\n",
       "  <thead>\n",
       "    <tr style=\"text-align: right;\">\n",
       "      <th></th>\n",
       "      <th>ts_recv</th>\n",
       "      <th>ts_event</th>\n",
       "      <th>rtype</th>\n",
       "      <th>publisher_id</th>\n",
       "      <th>instrument_id</th>\n",
       "      <th>action</th>\n",
       "      <th>side</th>\n",
       "      <th>depth</th>\n",
       "      <th>price</th>\n",
       "      <th>size</th>\n",
       "      <th>...</th>\n",
       "      <th>ask_sz_08</th>\n",
       "      <th>bid_ct_08</th>\n",
       "      <th>ask_ct_08</th>\n",
       "      <th>bid_px_09</th>\n",
       "      <th>ask_px_09</th>\n",
       "      <th>bid_sz_09</th>\n",
       "      <th>ask_sz_09</th>\n",
       "      <th>bid_ct_09</th>\n",
       "      <th>ask_ct_09</th>\n",
       "      <th>symbol</th>\n",
       "    </tr>\n",
       "  </thead>\n",
       "  <tbody>\n",
       "    <tr>\n",
       "      <th>0</th>\n",
       "      <td>2025-01-03T09:00:00.015869440Z</td>\n",
       "      <td>2025-01-03T09:00:00.015702539Z</td>\n",
       "      <td>10</td>\n",
       "      <td>2</td>\n",
       "      <td>11667</td>\n",
       "      <td>A</td>\n",
       "      <td>N</td>\n",
       "      <td>0</td>\n",
       "      <td>140.97</td>\n",
       "      <td>100</td>\n",
       "      <td>...</td>\n",
       "      <td>0</td>\n",
       "      <td>0</td>\n",
       "      <td>0</td>\n",
       "      <td>NaN</td>\n",
       "      <td>NaN</td>\n",
       "      <td>0</td>\n",
       "      <td>0</td>\n",
       "      <td>0</td>\n",
       "      <td>0</td>\n",
       "      <td>NVDA</td>\n",
       "    </tr>\n",
       "    <tr>\n",
       "      <th>1</th>\n",
       "      <td>2025-01-03T09:00:00.015938794Z</td>\n",
       "      <td>2025-01-03T09:00:00.015771793Z</td>\n",
       "      <td>10</td>\n",
       "      <td>2</td>\n",
       "      <td>11667</td>\n",
       "      <td>A</td>\n",
       "      <td>B</td>\n",
       "      <td>0</td>\n",
       "      <td>137.50</td>\n",
       "      <td>10000</td>\n",
       "      <td>...</td>\n",
       "      <td>0</td>\n",
       "      <td>0</td>\n",
       "      <td>0</td>\n",
       "      <td>NaN</td>\n",
       "      <td>NaN</td>\n",
       "      <td>0</td>\n",
       "      <td>0</td>\n",
       "      <td>0</td>\n",
       "      <td>0</td>\n",
       "      <td>NVDA</td>\n",
       "    </tr>\n",
       "    <tr>\n",
       "      <th>2</th>\n",
       "      <td>2025-01-03T09:00:00.040850395Z</td>\n",
       "      <td>2025-01-03T09:00:00.040665733Z</td>\n",
       "      <td>10</td>\n",
       "      <td>2</td>\n",
       "      <td>11667</td>\n",
       "      <td>A</td>\n",
       "      <td>A</td>\n",
       "      <td>1</td>\n",
       "      <td>157.05</td>\n",
       "      <td>73</td>\n",
       "      <td>...</td>\n",
       "      <td>0</td>\n",
       "      <td>0</td>\n",
       "      <td>0</td>\n",
       "      <td>NaN</td>\n",
       "      <td>NaN</td>\n",
       "      <td>0</td>\n",
       "      <td>0</td>\n",
       "      <td>0</td>\n",
       "      <td>0</td>\n",
       "      <td>NVDA</td>\n",
       "    </tr>\n",
       "    <tr>\n",
       "      <th>3</th>\n",
       "      <td>2025-01-03T09:00:00.059865276Z</td>\n",
       "      <td>2025-01-03T09:00:00.059698561Z</td>\n",
       "      <td>10</td>\n",
       "      <td>2</td>\n",
       "      <td>11667</td>\n",
       "      <td>A</td>\n",
       "      <td>A</td>\n",
       "      <td>0</td>\n",
       "      <td>138.81</td>\n",
       "      <td>1000</td>\n",
       "      <td>...</td>\n",
       "      <td>0</td>\n",
       "      <td>0</td>\n",
       "      <td>0</td>\n",
       "      <td>NaN</td>\n",
       "      <td>NaN</td>\n",
       "      <td>0</td>\n",
       "      <td>0</td>\n",
       "      <td>0</td>\n",
       "      <td>0</td>\n",
       "      <td>NVDA</td>\n",
       "    </tr>\n",
       "    <tr>\n",
       "      <th>4</th>\n",
       "      <td>2025-01-03T09:00:00.085513156Z</td>\n",
       "      <td>2025-01-03T09:00:00.085346759Z</td>\n",
       "      <td>10</td>\n",
       "      <td>2</td>\n",
       "      <td>11667</td>\n",
       "      <td>A</td>\n",
       "      <td>B</td>\n",
       "      <td>1</td>\n",
       "      <td>121.00</td>\n",
       "      <td>20</td>\n",
       "      <td>...</td>\n",
       "      <td>0</td>\n",
       "      <td>0</td>\n",
       "      <td>0</td>\n",
       "      <td>NaN</td>\n",
       "      <td>NaN</td>\n",
       "      <td>0</td>\n",
       "      <td>0</td>\n",
       "      <td>0</td>\n",
       "      <td>0</td>\n",
       "      <td>NVDA</td>\n",
       "    </tr>\n",
       "  </tbody>\n",
       "</table>\n",
       "<p>5 rows × 74 columns</p>\n",
       "</div>"
      ],
      "text/plain": [
       "                          ts_recv                        ts_event  rtype  \\\n",
       "0  2025-01-03T09:00:00.015869440Z  2025-01-03T09:00:00.015702539Z     10   \n",
       "1  2025-01-03T09:00:00.015938794Z  2025-01-03T09:00:00.015771793Z     10   \n",
       "2  2025-01-03T09:00:00.040850395Z  2025-01-03T09:00:00.040665733Z     10   \n",
       "3  2025-01-03T09:00:00.059865276Z  2025-01-03T09:00:00.059698561Z     10   \n",
       "4  2025-01-03T09:00:00.085513156Z  2025-01-03T09:00:00.085346759Z     10   \n",
       "\n",
       "   publisher_id  instrument_id action side  depth   price   size  ...  \\\n",
       "0             2          11667      A    N      0  140.97    100  ...   \n",
       "1             2          11667      A    B      0  137.50  10000  ...   \n",
       "2             2          11667      A    A      1  157.05     73  ...   \n",
       "3             2          11667      A    A      0  138.81   1000  ...   \n",
       "4             2          11667      A    B      1  121.00     20  ...   \n",
       "\n",
       "   ask_sz_08  bid_ct_08  ask_ct_08  bid_px_09  ask_px_09  bid_sz_09  \\\n",
       "0          0          0          0        NaN        NaN          0   \n",
       "1          0          0          0        NaN        NaN          0   \n",
       "2          0          0          0        NaN        NaN          0   \n",
       "3          0          0          0        NaN        NaN          0   \n",
       "4          0          0          0        NaN        NaN          0   \n",
       "\n",
       "   ask_sz_09  bid_ct_09  ask_ct_09  symbol  \n",
       "0          0          0          0    NVDA  \n",
       "1          0          0          0    NVDA  \n",
       "2          0          0          0    NVDA  \n",
       "3          0          0          0    NVDA  \n",
       "4          0          0          0    NVDA  \n",
       "\n",
       "[5 rows x 74 columns]"
      ]
     },
     "execution_count": 6,
     "metadata": {},
     "output_type": "execute_result"
    }
   ],
   "source": [
    "xdf = load_data(load_date)\n",
    "xdf.head()"
   ]
  },
  {
   "cell_type": "markdown",
   "metadata": {},
   "source": [
    "#### Adjust timestamps + drop outside market hours"
   ]
  },
  {
   "cell_type": "code",
   "execution_count": 7,
   "metadata": {},
   "outputs": [],
   "source": [
    "#| export\n",
    "def adjust_for_time(df):\n",
    "    df[\"ts_event\"] = pd.to_datetime(df.ts_event, unit=\"ns\")\n",
    "    df[\"ts_event\"] = df[\"ts_event\"].dt.tz_convert('US/Eastern')\n",
    "    df = df[df[\"ts_event\"].dt.time >= pd.to_datetime(\"09:30\").time()]\n",
    "    df = df[df[\"ts_event\"].dt.time <= pd.to_datetime(\"16:00\").time()]\n",
    "    #df.set_index('ts_event', inplace=True)\n",
    "\n",
    "    market_open = pd.to_datetime(\"09:30\").time()\n",
    "    print(market_open)\n",
    "    df['ns_since_open'] = (df['ts_event'] - df['ts_event'].dt.normalize() - pd.to_timedelta(market_open.hour, unit='h') - pd.to_timedelta(market_open.minute, unit='m')).dt.total_seconds() * 1e9 + df['ts_event'].dt.nanosecond\n",
    "\n",
    "    df = add_datepart(df, 'ts_event', drop=False)\n",
    "    return df"
   ]
  },
  {
   "cell_type": "code",
   "execution_count": 8,
   "metadata": {},
   "outputs": [
    {
     "name": "stdout",
     "output_type": "stream",
     "text": [
      "09:30:00\n"
     ]
    },
    {
     "data": {
      "text/plain": [
       "'ts_event ts_eventYear ts_eventMonth ts_eventWeek ts_eventDay ts_eventDayofweek ts_eventDayofyear ts_eventIs_month_end ts_eventIs_month_start ts_eventIs_quarter_end ts_eventIs_quarter_start ts_eventIs_year_end ts_eventIs_year_start ts_eventElapsed'"
      ]
     },
     "execution_count": 8,
     "metadata": {},
     "output_type": "execute_result"
    }
   ],
   "source": [
    "xdf = adjust_for_time(xdf)\n",
    "' '.join(o for o in xdf.columns if o.startswith('ts_event'))\n"
   ]
  },
  {
   "cell_type": "markdown",
   "metadata": {},
   "source": [
    "#### Cleanup (drop rows with NA)"
   ]
  },
  {
   "cell_type": "code",
   "execution_count": 9,
   "metadata": {},
   "outputs": [],
   "source": [
    "#| export\n",
    "def drop_na(df):\n",
    "    orig_len = df.shape[0]\n",
    "    df.dropna(inplace=True)\n",
    "    cur_len = df.shape[0]\n",
    "    drop_cnt = orig_len-cur_len\n",
    "    if  drop_cnt > 1000:\n",
    "        raise Exception(f\"{drop_cnt} rows dropped, seems a lot\")\n",
    "    else:\n",
    "        print(f\"{drop_cnt} dropped out of {orig_len}\")"
   ]
  },
  {
   "cell_type": "code",
   "execution_count": 10,
   "metadata": {},
   "outputs": [
    {
     "name": "stdout",
     "output_type": "stream",
     "text": [
      "0 dropped out of 2919224\n"
     ]
    }
   ],
   "source": [
    "drop_na(xdf)"
   ]
  },
  {
   "cell_type": "code",
   "execution_count": 11,
   "metadata": {},
   "outputs": [
    {
     "data": {
      "image/png": "[encoded data removed]",
      "text/plain": [
       "<Figure size 640x480 with 1 Axes>"
      ]
     },
     "metadata": {},
     "output_type": "display_data"
    }
   ],
   "source": [
    "# Filter the dataframe for action \"T\"\n",
    "df_trades = xdf[xdf['action'] == \"T\"]\n",
    "\n",
    "# Group by buckets of 15 minutes\n",
    "df_trades.set_index('ts_event').resample('15min').size().plot(kind='bar', title='Count of Trades Over Time')\n",
    "plot.xlabel('Time')\n",
    "#plot.xticks(rotation=45)\n",
    "labels = [item.get_text().split(' ')[1].split('+')[0][:-3] for item in plot.gca().get_xticklabels()]\n",
    "plot.gca().set_xticklabels(labels)\n",
    "plot.ylabel('Count')\n",
    "plot.show()"
   ]
  },
  {
   "cell_type": "code",
   "execution_count": 12,
   "metadata": {},
   "outputs": [
    {
     "data": {
      "text/plain": [
       "side\n",
       "B    115764\n",
       "A     91712\n",
       "Name: count, dtype: int64"
      ]
     },
     "execution_count": 12,
     "metadata": {},
     "output_type": "execute_result"
    }
   ],
   "source": [
    "trades = xdf[(xdf.action == \"T\") & (xdf.side != \"N\")]\n",
    "cols = [\"action\", \"side\", \"price\", \"size\", \"bid_sz_00\", \"bid_px_00\", \"ask_px_00\", \"ask_sz_00\",\n",
    "         \"bid_sz_01\", \"bid_px_01\", \"ask_px_01\", \"ask_sz_01\",\"sequence\"]\n",
    "trades.side.value_counts()\n"
   ]
  },
  {
   "cell_type": "code",
   "execution_count": 13,
   "metadata": {},
   "outputs": [],
   "source": [
    "def display_around(idx, nbrows=6):\n",
    "    iloc_index = xdf.index.get_loc(idx)\n",
    "    print(iloc_index)\n",
    "    return xdf.iloc[iloc_index-1:iloc_index+nbrows-1][cols]\n",
    "idx = 0"
   ]
  },
  {
   "cell_type": "code",
   "execution_count": 14,
   "metadata": {},
   "outputs": [
    {
     "name": "stdout",
     "output_type": "stream",
     "text": [
      "1\n",
      "0 80777\n"
     ]
    },
    {
     "data": {
      "application/vnd.microsoft.datawrangler.viewer.v0+json": {
       "columns": [
        {
         "name": "index",
         "rawType": "int64",
         "type": "integer"
        },
        {
         "name": "action",
         "rawType": "object",
         "type": "string"
        },
        {
         "name": "side",
         "rawType": "object",
         "type": "string"
        },
        {
         "name": "price",
         "rawType": "float64",
         "type": "float"
        },
        {
         "name": "size",
         "rawType": "int64",
         "type": "integer"
        },
        {
         "name": "bid_sz_00",
         "rawType": "int64",
         "type": "integer"
        },
        {
         "name": "bid_px_00",
         "rawType": "float64",
         "type": "float"
        },
        {
         "name": "ask_px_00",
         "rawType": "float64",
         "type": "float"
        },
        {
         "name": "ask_sz_00",
         "rawType": "int64",
         "type": "integer"
        },
        {
         "name": "bid_sz_01",
         "rawType": "int64",
         "type": "integer"
        },
        {
         "name": "bid_px_01",
         "rawType": "float64",
         "type": "float"
        },
        {
         "name": "ask_px_01",
         "rawType": "float64",
         "type": "float"
        },
        {
         "name": "ask_sz_01",
         "rawType": "int64",
         "type": "integer"
        },
        {
         "name": "sequence",
         "rawType": "int64",
         "type": "integer"
        }
       ],
       "conversionMethod": "pd.DataFrame",
       "ref": "8f3db82c-bdd2-43a5-9dda-410067c1be50",
       "rows": [
        [
         "80776",
         "T",
         "N",
         "140.03",
         "1",
         "1479",
         "140.0",
         "140.05",
         "50",
         "50",
         "139.96",
         "140.06",
         "4017",
         "21892058"
        ],
        [
         "80777",
         "T",
         "A",
         "140.0",
         "259",
         "1479",
         "140.0",
         "140.05",
         "50",
         "50",
         "139.96",
         "140.06",
         "4017",
         "21892059"
        ],
        [
         "80778",
         "C",
         "B",
         "140.0",
         "259",
         "1220",
         "140.0",
         "140.05",
         "50",
         "50",
         "139.96",
         "140.06",
         "4017",
         "21892059"
        ],
        [
         "80779",
         "C",
         "A",
         "140.05",
         "30",
         "1220",
         "140.0",
         "140.05",
         "20",
         "50",
         "139.96",
         "140.06",
         "4017",
         "21892146"
        ],
        [
         "80780",
         "C",
         "B",
         "139.91",
         "400",
         "1320",
         "140.0",
         "140.05",
         "20",
         "50",
         "139.96",
         "140.06",
         "4017",
         "21892148"
        ],
        [
         "80781",
         "A",
         "N",
         "140.0",
         "100",
         "1420",
         "140.0",
         "140.05",
         "50",
         "50",
         "139.96",
         "140.06",
         "4017",
         "21893860"
        ]
       ],
       "shape": {
        "columns": 13,
        "rows": 6
       }
      },
      "text/html": [
       "<div>\n",
       "<style scoped>\n",
       "    .dataframe tbody tr th:only-of-type {\n",
       "        vertical-align: middle;\n",
       "    }\n",
       "\n",
       "    .dataframe tbody tr th {\n",
       "        vertical-align: top;\n",
       "    }\n",
       "\n",
       "    .dataframe thead th {\n",
       "        text-align: right;\n",
       "    }\n",
       "</style>\n",
       "<table border=\"1\" class=\"dataframe\">\n",
       "  <thead>\n",
       "    <tr style=\"text-align: right;\">\n",
       "      <th></th>\n",
       "      <th>action</th>\n",
       "      <th>side</th>\n",
       "      <th>price</th>\n",
       "      <th>size</th>\n",
       "      <th>bid_sz_00</th>\n",
       "      <th>bid_px_00</th>\n",
       "      <th>ask_px_00</th>\n",
       "      <th>ask_sz_00</th>\n",
       "      <th>bid_sz_01</th>\n",
       "      <th>bid_px_01</th>\n",
       "      <th>ask_px_01</th>\n",
       "      <th>ask_sz_01</th>\n",
       "      <th>sequence</th>\n",
       "    </tr>\n",
       "  </thead>\n",
       "  <tbody>\n",
       "    <tr>\n",
       "      <th>80776</th>\n",
       "      <td>T</td>\n",
       "      <td>N</td>\n",
       "      <td>140.03</td>\n",
       "      <td>1</td>\n",
       "      <td>1479</td>\n",
       "      <td>140.0</td>\n",
       "      <td>140.05</td>\n",
       "      <td>50</td>\n",
       "      <td>50</td>\n",
       "      <td>139.96</td>\n",
       "      <td>140.06</td>\n",
       "      <td>4017</td>\n",
       "      <td>21892058</td>\n",
       "    </tr>\n",
       "    <tr>\n",
       "      <th>80777</th>\n",
       "      <td>T</td>\n",
       "      <td>A</td>\n",
       "      <td>140.00</td>\n",
       "      <td>259</td>\n",
       "      <td>1479</td>\n",
       "      <td>140.0</td>\n",
       "      <td>140.05</td>\n",
       "      <td>50</td>\n",
       "      <td>50</td>\n",
       "      <td>139.96</td>\n",
       "      <td>140.06</td>\n",
       "      <td>4017</td>\n",
       "      <td>21892059</td>\n",
       "    </tr>\n",
       "    <tr>\n",
       "      <th>80778</th>\n",
       "      <td>C</td>\n",
       "      <td>B</td>\n",
       "      <td>140.00</td>\n",
       "      <td>259</td>\n",
       "      <td>1220</td>\n",
       "      <td>140.0</td>\n",
       "      <td>140.05</td>\n",
       "      <td>50</td>\n",
       "      <td>50</td>\n",
       "      <td>139.96</td>\n",
       "      <td>140.06</td>\n",
       "      <td>4017</td>\n",
       "      <td>21892059</td>\n",
       "    </tr>\n",
       "    <tr>\n",
       "      <th>80779</th>\n",
       "      <td>C</td>\n",
       "      <td>A</td>\n",
       "      <td>140.05</td>\n",
       "      <td>30</td>\n",
       "      <td>1220</td>\n",
       "      <td>140.0</td>\n",
       "      <td>140.05</td>\n",
       "      <td>20</td>\n",
       "      <td>50</td>\n",
       "      <td>139.96</td>\n",
       "      <td>140.06</td>\n",
       "      <td>4017</td>\n",
       "      <td>21892146</td>\n",
       "    </tr>\n",
       "    <tr>\n",
       "      <th>80780</th>\n",
       "      <td>C</td>\n",
       "      <td>B</td>\n",
       "      <td>139.91</td>\n",
       "      <td>400</td>\n",
       "      <td>1320</td>\n",
       "      <td>140.0</td>\n",
       "      <td>140.05</td>\n",
       "      <td>20</td>\n",
       "      <td>50</td>\n",
       "      <td>139.96</td>\n",
       "      <td>140.06</td>\n",
       "      <td>4017</td>\n",
       "      <td>21892148</td>\n",
       "    </tr>\n",
       "    <tr>\n",
       "      <th>80781</th>\n",
       "      <td>A</td>\n",
       "      <td>N</td>\n",
       "      <td>140.00</td>\n",
       "      <td>100</td>\n",
       "      <td>1420</td>\n",
       "      <td>140.0</td>\n",
       "      <td>140.05</td>\n",
       "      <td>50</td>\n",
       "      <td>50</td>\n",
       "      <td>139.96</td>\n",
       "      <td>140.06</td>\n",
       "      <td>4017</td>\n",
       "      <td>21893860</td>\n",
       "    </tr>\n",
       "  </tbody>\n",
       "</table>\n",
       "</div>"
      ],
      "text/plain": [
       "      action side   price  size  bid_sz_00  bid_px_00  ask_px_00  ask_sz_00  \\\n",
       "80776      T    N  140.03     1       1479      140.0     140.05         50   \n",
       "80777      T    A  140.00   259       1479      140.0     140.05         50   \n",
       "80778      C    B  140.00   259       1220      140.0     140.05         50   \n",
       "80779      C    A  140.05    30       1220      140.0     140.05         20   \n",
       "80780      C    B  139.91   400       1320      140.0     140.05         20   \n",
       "80781      A    N  140.00   100       1420      140.0     140.05         50   \n",
       "\n",
       "       bid_sz_01  bid_px_01  ask_px_01  ask_sz_01  sequence  \n",
       "80776         50     139.96     140.06       4017  21892058  \n",
       "80777         50     139.96     140.06       4017  21892059  \n",
       "80778         50     139.96     140.06       4017  21892059  \n",
       "80779         50     139.96     140.06       4017  21892146  \n",
       "80780         50     139.96     140.06       4017  21892148  \n",
       "80781         50     139.96     140.06       4017  21893860  "
      ]
     },
     "execution_count": 14,
     "metadata": {},
     "output_type": "execute_result"
    }
   ],
   "source": [
    "x = display_around(trades.index[idx])\n",
    "print(idx, trades.index[idx])\n",
    "idx = idx + 1\n",
    "x"
   ]
  },
  {
   "cell_type": "markdown",
   "metadata": {},
   "source": [
    "#### Add spread"
   ]
  },
  {
   "cell_type": "code",
   "execution_count": 15,
   "metadata": {},
   "outputs": [],
   "source": [
    "#| export\n",
    "def add_spread(df):\n",
    "    df['spread'] = (df['ask_px_00'] - df['bid_px_00'])/((df['bid_px_00']+df['ask_px_00'])/2)"
   ]
  },
  {
   "cell_type": "code",
   "execution_count": 16,
   "metadata": {},
   "outputs": [
    {
     "data": {
      "text/plain": [
       "<Axes: title={'center': 'Spread Over Time'}>"
      ]
     },
     "execution_count": 16,
     "metadata": {},
     "output_type": "execute_result"
    },
    {
     "data": {
      "image/png": "[encoded data removed]",
      "text/plain": [
       "<Figure size 640x480 with 1 Axes>"
      ]
     },
     "metadata": {},
     "output_type": "display_data"
    }
   ],
   "source": [
    "add_spread(xdf)\n",
    "xdf['spread'].plot(title='Spread Over Time')"
   ]
  },
  {
   "cell_type": "markdown",
   "metadata": {},
   "source": [
    "### calculate imbalance"
   ]
  },
  {
   "cell_type": "code",
   "execution_count": 17,
   "metadata": {},
   "outputs": [],
   "source": [
    "#| export\n",
    "def calc_bid_weight(row):\n",
    "    return  np.array([row['mid']/(row['mid']-row[f'bid_px_0{i}'])*row[f'bid_sz_0{i}'] for i in range(0,10)]).sum(axis=0)\n",
    "def calc_ask_weight(row): \n",
    "    return np.array([row['mid']/(row[f'ask_px_0{i}']-row['mid'])*row[f'ask_sz_0{i}'] for i in range(0,10)]).sum(axis=0)    \n",
    "\n",
    "def add_imbalance_columns(df):\n",
    "    # want to calculate the amount but also how spread out it is\n",
    "    df['mid'] = (df['bid_px_00']+df['ask_px_00'])/2\n",
    "    df['bid_weight'] = calc_bid_weight(df)\n",
    "    df['ask_weight'] = calc_ask_weight(df)\n",
    "    df['bid_weight_log'] = np.log(df['bid_weight'])\n",
    "    df['ask_weight_log'] = np.log(df['ask_weight'])\n"
   ]
  },
  {
   "cell_type": "code",
   "execution_count": 18,
   "metadata": {},
   "outputs": [
    {
     "data": {
      "application/vnd.microsoft.datawrangler.viewer.v0+json": {
       "columns": [
        {
         "name": "index",
         "rawType": "object",
         "type": "string"
        },
        {
         "name": "bid_weight",
         "rawType": "float64",
         "type": "float"
        },
        {
         "name": "ask_weight",
         "rawType": "float64",
         "type": "float"
        },
        {
         "name": "bid_weight_log",
         "rawType": "float64",
         "type": "float"
        },
        {
         "name": "ask_weight_log",
         "rawType": "float64",
         "type": "float"
        }
       ],
       "conversionMethod": "pd.DataFrame",
       "ref": "112a3607-561a-460c-98e1-6a0468fe513a",
       "rows": [
        [
         "count",
         "2919224.0",
         "2919224.0",
         "2919224.0",
         "2919224.0"
        ],
        [
         "mean",
         "37235454.9820774",
         "79371424.19858009",
         "17.17434232220502",
         "17.402148198145056"
        ],
        [
         "std",
         "46859322.99588481",
         "235255510.81478634",
         "0.6594638586690296",
         "0.9913230074939863"
        ],
        [
         "min",
         "1238871.860546381",
         "644487.4847052967",
         "14.029711733589266",
         "13.37621068256197"
        ],
        [
         "25%",
         "19440819.642624903",
         "19111988.021378785",
         "16.782885518794096",
         "16.76582634122841"
        ],
        [
         "50%",
         "28198478.006048165",
         "29425202.256369963",
         "17.154778563035016",
         "17.197362084710438"
        ],
        [
         "75%",
         "41395840.896429226",
         "55464388.74679922",
         "17.538690972310047",
         "17.831251728573108"
        ],
        [
         "max",
         "3027830408.6527443",
         "10125702359.510502",
         "21.83111216324267",
         "23.03834281637365"
        ]
       ],
       "shape": {
        "columns": 4,
        "rows": 8
       }
      },
      "text/html": [
       "<div>\n",
       "<style scoped>\n",
       "    .dataframe tbody tr th:only-of-type {\n",
       "        vertical-align: middle;\n",
       "    }\n",
       "\n",
       "    .dataframe tbody tr th {\n",
       "        vertical-align: top;\n",
       "    }\n",
       "\n",
       "    .dataframe thead th {\n",
       "        text-align: right;\n",
       "    }\n",
       "</style>\n",
       "<table border=\"1\" class=\"dataframe\">\n",
       "  <thead>\n",
       "    <tr style=\"text-align: right;\">\n",
       "      <th></th>\n",
       "      <th>bid_weight</th>\n",
       "      <th>ask_weight</th>\n",
       "      <th>bid_weight_log</th>\n",
       "      <th>ask_weight_log</th>\n",
       "    </tr>\n",
       "  </thead>\n",
       "  <tbody>\n",
       "    <tr>\n",
       "      <th>count</th>\n",
       "      <td>2.919224e+06</td>\n",
       "      <td>2.919224e+06</td>\n",
       "      <td>2.919224e+06</td>\n",
       "      <td>2.919224e+06</td>\n",
       "    </tr>\n",
       "    <tr>\n",
       "      <th>mean</th>\n",
       "      <td>3.723545e+07</td>\n",
       "      <td>7.937142e+07</td>\n",
       "      <td>1.717434e+01</td>\n",
       "      <td>1.740215e+01</td>\n",
       "    </tr>\n",
       "    <tr>\n",
       "      <th>std</th>\n",
       "      <td>4.685932e+07</td>\n",
       "      <td>2.352555e+08</td>\n",
       "      <td>6.594639e-01</td>\n",
       "      <td>9.913230e-01</td>\n",
       "    </tr>\n",
       "    <tr>\n",
       "      <th>min</th>\n",
       "      <td>1.238872e+06</td>\n",
       "      <td>6.444875e+05</td>\n",
       "      <td>1.402971e+01</td>\n",
       "      <td>1.337621e+01</td>\n",
       "    </tr>\n",
       "    <tr>\n",
       "      <th>25%</th>\n",
       "      <td>1.944082e+07</td>\n",
       "      <td>1.911199e+07</td>\n",
       "      <td>1.678289e+01</td>\n",
       "      <td>1.676583e+01</td>\n",
       "    </tr>\n",
       "    <tr>\n",
       "      <th>50%</th>\n",
       "      <td>2.819848e+07</td>\n",
       "      <td>2.942520e+07</td>\n",
       "      <td>1.715478e+01</td>\n",
       "      <td>1.719736e+01</td>\n",
       "    </tr>\n",
       "    <tr>\n",
       "      <th>75%</th>\n",
       "      <td>4.139584e+07</td>\n",
       "      <td>5.546439e+07</td>\n",
       "      <td>1.753869e+01</td>\n",
       "      <td>1.783125e+01</td>\n",
       "    </tr>\n",
       "    <tr>\n",
       "      <th>max</th>\n",
       "      <td>3.027830e+09</td>\n",
       "      <td>1.012570e+10</td>\n",
       "      <td>2.183111e+01</td>\n",
       "      <td>2.303834e+01</td>\n",
       "    </tr>\n",
       "  </tbody>\n",
       "</table>\n",
       "</div>"
      ],
      "text/plain": [
       "         bid_weight    ask_weight  bid_weight_log  ask_weight_log\n",
       "count  2.919224e+06  2.919224e+06    2.919224e+06    2.919224e+06\n",
       "mean   3.723545e+07  7.937142e+07    1.717434e+01    1.740215e+01\n",
       "std    4.685932e+07  2.352555e+08    6.594639e-01    9.913230e-01\n",
       "min    1.238872e+06  6.444875e+05    1.402971e+01    1.337621e+01\n",
       "25%    1.944082e+07  1.911199e+07    1.678289e+01    1.676583e+01\n",
       "50%    2.819848e+07  2.942520e+07    1.715478e+01    1.719736e+01\n",
       "75%    4.139584e+07  5.546439e+07    1.753869e+01    1.783125e+01\n",
       "max    3.027830e+09  1.012570e+10    2.183111e+01    2.303834e+01"
      ]
     },
     "execution_count": 18,
     "metadata": {},
     "output_type": "execute_result"
    }
   ],
   "source": [
    "add_imbalance_columns(xdf)\n",
    "xdf[['bid_weight', 'ask_weight', 'bid_weight_log', 'ask_weight_log']].describe()"
   ]
  },
  {
   "cell_type": "code",
   "execution_count": 19,
   "metadata": {},
   "outputs": [
    {
     "data": {
      "image/png": "[encoded data removed]",
      "text/plain": [
       "<Figure size 640x480 with 2 Axes>"
      ]
     },
     "metadata": {},
     "output_type": "display_data"
    }
   ],
   "source": [
    "\n",
    "ax = xdf.set_index('ts_event')[['bid_weight_log', 'ask_weight_log']].resample('5min').mean().plot()\n",
    "xdf[xdf['action'] == 'T'].set_index('ts_event')['price'].resample('5min').mean().plot(ax=ax, secondary_y=True, color='r', label='Price')\n",
    "ax.set_xlabel('Time')\n",
    "ax.set_ylabel('Log Weight')\n",
    "ax.right_ax.set_ylabel('Price')\n",
    "ax.set_title('Bid and Ask Weight Log Over Time with Trade Prices')\n",
    "ax.legend(loc='upper left')\n",
    "ax.right_ax.legend(loc='upper right')\n",
    "plot.show()"
   ]
  },
  {
   "cell_type": "markdown",
   "metadata": {},
   "source": [
    "### Calculating trades on the bid and ask side\n"
   ]
  },
  {
   "cell_type": "code",
   "execution_count": 20,
   "metadata": {
    "vscode": {
     "languageId": "ruby"
    }
   },
   "outputs": [],
   "source": [
    "#| export\n",
    "def add_rolling_trades_cols(df):\n",
    "    # add a column with a the traded size by row, with 0 for non trade rows\n",
    "    # this makes the next calculation easier\n",
    "    df[\"traded_bid_size\"] = df[\"size\"] * ((df[\"action\"] == \"T\") & (df[\"side\"] == \"B\"))\n",
    "    df[\"traded_ask_size\"] = df[\"size\"] * ((df[\"action\"] == \"T\") & (df[\"side\"] == \"A\"))\n",
    "    df[\"is_trade_bid\"] = ((df[\"action\"] == \"T\") & (df[\"side\"] == \"B\")) * 1\n",
    "    df[\"is_trade_ask\"] = ((df[\"action\"] == \"T\") & (df[\"side\"] == \"A\")) * 1\n",
    "\n",
    "    def add_rolling_trades_cols(period):\n",
    "        # temporary dataset so we can reindex\n",
    "        x = df[['ts_event', 'traded_bid_size', 'traded_ask_size', 'is_trade_bid', 'is_trade_ask']].copy()\n",
    "        x['original_index'] = df.index\n",
    "        x.set_index(\"ts_event\", inplace=True)\n",
    "\n",
    "        # calculate\n",
    "        x[f'rolling_{period}_bid_size'] = x[\"traded_bid_size\"].rolling(period).sum()\n",
    "        x[f'rolling_{period}_ask_size'] = x[\"traded_ask_size\"].rolling(period).sum()\n",
    "        x[f'rolling_{period}_bid_cnt'] = x[\"is_trade_bid\"].rolling(period).sum()\n",
    "        x[f'rolling_{period}_ask_cnt'] = x[\"is_trade_ask\"].rolling(period).sum()\n",
    "\n",
    "        # merge back to original dataframe\n",
    "        x.set_index(\"original_index\", inplace=True)\n",
    "        df[f'rolling_{period}_bid_size'] = x[f'rolling_{period}_bid_size']\n",
    "        df[f'rolling_{period}_ask_size'] = x[f'rolling_{period}_ask_size']\n",
    "        df[f'rolling_{period}_bid_cnt'] = x[f'rolling_{period}_bid_cnt']\n",
    "        df[f'rolling_{period}_ask_cnt'] = x[f'rolling_{period}_ask_cnt']\n",
    "\n",
    "\n",
    "    add_rolling_trades_cols('30s')\n",
    "    add_rolling_trades_cols('5min')\n",
    "\n",
    "    # and cleanup\n",
    "    _ = df.drop(columns=['traded_bid_size', 'traded_ask_size', 'is_trade_bid', 'is_trade_ask'])\n",
    "\n"
   ]
  },
  {
   "cell_type": "code",
   "execution_count": 21,
   "metadata": {
    "vscode": {
     "languageId": "ruby"
    }
   },
   "outputs": [],
   "source": [
    "add_rolling_trades_cols(xdf)"
   ]
  },
  {
   "cell_type": "code",
   "execution_count": 22,
   "metadata": {},
   "outputs": [
    {
     "data": {
      "image/png": "[encoded data removed]",
      "text/plain": [
       "<Figure size 640x480 with 2 Axes>"
      ]
     },
     "metadata": {},
     "output_type": "display_data"
    }
   ],
   "source": [
    "ax = xdf.set_index('ts_event')[['rolling_30s_bid_size', 'rolling_30s_ask_size']].resample('5min').mean().plot()\n",
    "xdf.set_index('ts_event')[['rolling_30s_bid_cnt', 'rolling_30s_ask_cnt']].resample('5min').mean().plot(ax=ax, secondary_y=True)\n",
    "ax.set_xlabel('Time')\n",
    "ax.set_ylabel('size')\n",
    "ax.right_ax.set_ylabel('count')\n",
    "ax.legend(loc='upper left')\n",
    "ax.right_ax.legend(loc='upper right')\n",
    "plot.show()"
   ]
  },
  {
   "cell_type": "markdown",
   "metadata": {},
   "source": [
    "### Identify the stop price and location (index) for each row"
   ]
  },
  {
   "cell_type": "code",
   "execution_count": null,
   "metadata": {},
   "outputs": [],
   "source": [
    "#| export\n",
    "def calc_stop_loss_indices(df):\n",
    "    # reduce dataset\n",
    "    rdf = df[df['action'] == 'A'].sample(n=day_sample_count)\n",
    "    \n",
    "    stop_loss_currency = stop_loss_tick * tick_size - (tick_size / 10.0)  # substract 1/10 tick otherwise I get issues with floating point approximations\n",
    "    \n",
    "    rdf['hedge_buy_stop_idx'] = rdf.apply(lambda row: df.index[(df.index > row.name) & (df['ask_px_00'] >= row['ask_px_00']+ stop_loss_currency )].min(), axis=1)\n",
    "    rdf['hedge_sell_stop_idx'] = rdf.apply(lambda row: df.index[(df.index > row.name) & (df['bid_px_00'] <= row['bid_px_00']- stop_loss_currency)].min(), axis=1)\n",
    "    # add columns with the stop loss prices, will come handy when we introduce latency\n",
    "\n",
    "    rdf['hedge_buy_stop_prc'] = rdf.loc[rdf['hedge_buy_stop_idx'].notnull()]['ask_px_00']\n",
    "    rdf['hedge_sell_stop_prc'] = rdf.loc[rdf['hedge_sell_stop_idx'].notnull()]['bid_px_00']\n",
    "\n",
    "    # convert idexes to int\n",
    "\n",
    "    rdf['hedge_buy_stop_idx'] = rdf['hedge_buy_stop_idx'].astype('int', errors='ignore')\n",
    "    rdf['hedge_sell_stop_idx'] = rdf['hedge_sell_stop_idx'].astype('int', errors='ignore')\n",
    "    return rdf\n"
   ]
  },
  {
   "cell_type": "code",
   "execution_count": 93,
   "metadata": {},
   "outputs": [
    {
     "data": {
      "text/plain": [
       "(5000, 110)"
      ]
     },
     "execution_count": 93,
     "metadata": {},
     "output_type": "execute_result"
    }
   ],
   "source": [
    "rdf = calc_stop_loss_indices(xdf)\n",
    "rdf.shape"
   ]
  },
  {
   "cell_type": "markdown",
   "metadata": {},
   "source": [
    "### Test"
   ]
  },
  {
   "cell_type": "code",
   "execution_count": 94,
   "metadata": {},
   "outputs": [],
   "source": [
    "idx = 0"
   ]
  },
  {
   "cell_type": "code",
   "execution_count": 95,
   "metadata": {},
   "outputs": [
    {
     "name": "stdout",
     "output_type": "stream",
     "text": [
      "index: 2157174 stop: 2157197.0\n",
      "2076398\n"
     ]
    },
    {
     "data": {
      "application/vnd.microsoft.datawrangler.viewer.v0+json": {
       "columns": [
        {
         "name": "index",
         "rawType": "int64",
         "type": "integer"
        },
        {
         "name": "action",
         "rawType": "object",
         "type": "string"
        },
        {
         "name": "side",
         "rawType": "object",
         "type": "string"
        },
        {
         "name": "price",
         "rawType": "float64",
         "type": "float"
        },
        {
         "name": "size",
         "rawType": "int64",
         "type": "integer"
        },
        {
         "name": "bid_sz_00",
         "rawType": "int64",
         "type": "integer"
        },
        {
         "name": "bid_px_00",
         "rawType": "float64",
         "type": "float"
        },
        {
         "name": "ask_px_00",
         "rawType": "float64",
         "type": "float"
        },
        {
         "name": "ask_sz_00",
         "rawType": "int64",
         "type": "integer"
        },
        {
         "name": "bid_sz_01",
         "rawType": "int64",
         "type": "integer"
        },
        {
         "name": "bid_px_01",
         "rawType": "float64",
         "type": "float"
        },
        {
         "name": "ask_px_01",
         "rawType": "float64",
         "type": "float"
        },
        {
         "name": "ask_sz_01",
         "rawType": "int64",
         "type": "integer"
        },
        {
         "name": "sequence",
         "rawType": "int64",
         "type": "integer"
        }
       ],
       "conversionMethod": "pd.DataFrame",
       "ref": "f8e0b9a1-e6f8-474c-9cf8-eeccfaf12f56",
       "rows": [
        [
         "2157173",
         "C",
         "B",
         "143.25",
         "25",
         "320",
         "143.25",
         "143.26",
         "365",
         "675",
         "143.24",
         "143.27",
         "465",
         "292017206"
        ],
        [
         "2157174",
         "A",
         "B",
         "143.25",
         "25",
         "345",
         "143.25",
         "143.26",
         "365",
         "675",
         "143.24",
         "143.27",
         "465",
         "292017718"
        ],
        [
         "2157175",
         "C",
         "A",
         "143.27",
         "100",
         "345",
         "143.25",
         "143.26",
         "365",
         "675",
         "143.24",
         "143.27",
         "365",
         "292017942"
        ],
        [
         "2157176",
         "C",
         "A",
         "143.28",
         "300",
         "345",
         "143.25",
         "143.26",
         "365",
         "675",
         "143.24",
         "143.27",
         "365",
         "292018353"
        ],
        [
         "2157177",
         "A",
         "A",
         "143.29",
         "300",
         "345",
         "143.25",
         "143.26",
         "365",
         "675",
         "143.24",
         "143.27",
         "365",
         "292018356"
        ],
        [
         "2157178",
         "A",
         "A",
         "143.26",
         "500",
         "345",
         "143.25",
         "143.26",
         "865",
         "675",
         "143.24",
         "143.27",
         "365",
         "292018748"
        ],
        [
         "2157179",
         "A",
         "B",
         "143.25",
         "100",
         "445",
         "143.25",
         "143.26",
         "865",
         "675",
         "143.24",
         "143.27",
         "365",
         "292018750"
        ],
        [
         "2157180",
         "A",
         "B",
         "143.25",
         "100",
         "545",
         "143.25",
         "143.26",
         "865",
         "675",
         "143.24",
         "143.27",
         "365",
         "292019325"
        ],
        [
         "2157181",
         "C",
         "B",
         "143.25",
         "25",
         "520",
         "143.25",
         "143.26",
         "865",
         "675",
         "143.24",
         "143.27",
         "365",
         "292019561"
        ],
        [
         "2157182",
         "A",
         "B",
         "143.25",
         "25",
         "545",
         "143.25",
         "143.26",
         "865",
         "675",
         "143.24",
         "143.27",
         "365",
         "292019562"
        ],
        [
         "2157183",
         "C",
         "A",
         "143.27",
         "120",
         "545",
         "143.25",
         "143.26",
         "865",
         "675",
         "143.24",
         "143.27",
         "245",
         "292020402"
        ],
        [
         "2157184",
         "T",
         "B",
         "143.26",
         "100",
         "545",
         "143.25",
         "143.26",
         "865",
         "675",
         "143.24",
         "143.27",
         "245",
         "292020791"
        ],
        [
         "2157185",
         "T",
         "B",
         "143.26",
         "76",
         "545",
         "143.25",
         "143.26",
         "765",
         "675",
         "143.24",
         "143.27",
         "245",
         "292020792"
        ],
        [
         "2157186",
         "C",
         "A",
         "143.26",
         "76",
         "545",
         "143.25",
         "143.26",
         "689",
         "675",
         "143.24",
         "143.27",
         "245",
         "292020792"
        ],
        [
         "2157187",
         "T",
         "B",
         "143.26",
         "89",
         "545",
         "143.25",
         "143.26",
         "689",
         "675",
         "143.24",
         "143.27",
         "245",
         "292020795"
        ],
        [
         "2157188",
         "T",
         "B",
         "143.26",
         "100",
         "545",
         "143.25",
         "143.26",
         "600",
         "675",
         "143.24",
         "143.27",
         "245",
         "292020796"
        ],
        [
         "2157189",
         "T",
         "B",
         "143.26",
         "217",
         "545",
         "143.25",
         "143.26",
         "500",
         "675",
         "143.24",
         "143.27",
         "245",
         "292020797"
        ],
        [
         "2157190",
         "T",
         "B",
         "143.26",
         "283",
         "545",
         "143.25",
         "143.26",
         "283",
         "675",
         "143.24",
         "143.27",
         "245",
         "292020798"
        ],
        [
         "2157191",
         "C",
         "A",
         "143.26",
         "283",
         "545",
         "143.25",
         "143.27",
         "245",
         "675",
         "143.24",
         "143.28",
         "1093",
         "292020798"
        ],
        [
         "2157192",
         "C",
         "N",
         "143.27",
         "25",
         "645",
         "143.25",
         "143.27",
         "220",
         "675",
         "143.24",
         "143.28",
         "1093",
         "292020842"
        ],
        [
         "2157193",
         "A",
         "B",
         "143.25",
         "100",
         "745",
         "143.25",
         "143.27",
         "220",
         "675",
         "143.24",
         "143.28",
         "1093",
         "292020857"
        ],
        [
         "2157194",
         "C",
         "A",
         "143.28",
         "100",
         "745",
         "143.25",
         "143.27",
         "120",
         "675",
         "143.24",
         "143.28",
         "993",
         "292020863"
        ],
        [
         "2157195",
         "C",
         "N",
         "143.27",
         "20",
         "845",
         "143.25",
         "143.27",
         "100",
         "675",
         "143.24",
         "143.28",
         "993",
         "292020905"
        ],
        [
         "2157196",
         "C",
         "B",
         "143.28",
         "100",
         "745",
         "143.25",
         "143.27",
         "100",
         "675",
         "143.24",
         "143.28",
         "873",
         "292020911"
        ],
        [
         "2157197",
         "C",
         "A",
         "143.32",
         "400",
         "745",
         "143.25",
         "143.28",
         "873",
         "675",
         "143.24",
         "143.29",
         "1210",
         "292020930"
        ],
        [
         "2157198",
         "A",
         "A",
         "143.27",
         "20",
         "745",
         "143.25",
         "143.27",
         "20",
         "675",
         "143.24",
         "143.28",
         "873",
         "292021007"
        ],
        [
         "2157199",
         "C",
         "A",
         "143.27",
         "20",
         "745",
         "143.25",
         "143.28",
         "873",
         "675",
         "143.24",
         "143.29",
         "1210",
         "292021053"
        ],
        [
         "2157200",
         "A",
         "B",
         "143.25",
         "120",
         "865",
         "143.25",
         "143.28",
         "873",
         "675",
         "143.24",
         "143.29",
         "1210",
         "292021054"
        ],
        [
         "2157201",
         "C",
         "A",
         "143.28",
         "120",
         "865",
         "143.25",
         "143.27",
         "100",
         "675",
         "143.24",
         "143.28",
         "753",
         "292021057"
        ],
        [
         "2157202",
         "A",
         "B",
         "143.26",
         "100",
         "100",
         "143.26",
         "143.27",
         "100",
         "865",
         "143.25",
         "143.28",
         "753",
         "292021060"
        ],
        [
         "2157203",
         "A",
         "B",
         "143.26",
         "20",
         "120",
         "143.26",
         "143.27",
         "100",
         "865",
         "143.25",
         "143.28",
         "753",
         "292021069"
        ]
       ],
       "shape": {
        "columns": 13,
        "rows": 31
       }
      },
      "text/html": [
       "<div>\n",
       "<style scoped>\n",
       "    .dataframe tbody tr th:only-of-type {\n",
       "        vertical-align: middle;\n",
       "    }\n",
       "\n",
       "    .dataframe tbody tr th {\n",
       "        vertical-align: top;\n",
       "    }\n",
       "\n",
       "    .dataframe thead th {\n",
       "        text-align: right;\n",
       "    }\n",
       "</style>\n",
       "<table border=\"1\" class=\"dataframe\">\n",
       "  <thead>\n",
       "    <tr style=\"text-align: right;\">\n",
       "      <th></th>\n",
       "      <th>action</th>\n",
       "      <th>side</th>\n",
       "      <th>price</th>\n",
       "      <th>size</th>\n",
       "      <th>bid_sz_00</th>\n",
       "      <th>bid_px_00</th>\n",
       "      <th>ask_px_00</th>\n",
       "      <th>ask_sz_00</th>\n",
       "      <th>bid_sz_01</th>\n",
       "      <th>bid_px_01</th>\n",
       "      <th>ask_px_01</th>\n",
       "      <th>ask_sz_01</th>\n",
       "      <th>sequence</th>\n",
       "    </tr>\n",
       "  </thead>\n",
       "  <tbody>\n",
       "    <tr>\n",
       "      <th>2157173</th>\n",
       "      <td>C</td>\n",
       "      <td>B</td>\n",
       "      <td>143.25</td>\n",
       "      <td>25</td>\n",
       "      <td>320</td>\n",
       "      <td>143.25</td>\n",
       "      <td>143.26</td>\n",
       "      <td>365</td>\n",
       "      <td>675</td>\n",
       "      <td>143.24</td>\n",
       "      <td>143.27</td>\n",
       "      <td>465</td>\n",
       "      <td>292017206</td>\n",
       "    </tr>\n",
       "    <tr>\n",
       "      <th>2157174</th>\n",
       "      <td>A</td>\n",
       "      <td>B</td>\n",
       "      <td>143.25</td>\n",
       "      <td>25</td>\n",
       "      <td>345</td>\n",
       "      <td>143.25</td>\n",
       "      <td>143.26</td>\n",
       "      <td>365</td>\n",
       "      <td>675</td>\n",
       "      <td>143.24</td>\n",
       "      <td>143.27</td>\n",
       "      <td>465</td>\n",
       "      <td>292017718</td>\n",
       "    </tr>\n",
       "    <tr>\n",
       "      <th>2157175</th>\n",
       "      <td>C</td>\n",
       "      <td>A</td>\n",
       "      <td>143.27</td>\n",
       "      <td>100</td>\n",
       "      <td>345</td>\n",
       "      <td>143.25</td>\n",
       "      <td>143.26</td>\n",
       "      <td>365</td>\n",
       "      <td>675</td>\n",
       "      <td>143.24</td>\n",
       "      <td>143.27</td>\n",
       "      <td>365</td>\n",
       "      <td>292017942</td>\n",
       "    </tr>\n",
       "    <tr>\n",
       "      <th>2157176</th>\n",
       "      <td>C</td>\n",
       "      <td>A</td>\n",
       "      <td>143.28</td>\n",
       "      <td>300</td>\n",
       "      <td>345</td>\n",
       "      <td>143.25</td>\n",
       "      <td>143.26</td>\n",
       "      <td>365</td>\n",
       "      <td>675</td>\n",
       "      <td>143.24</td>\n",
       "      <td>143.27</td>\n",
       "      <td>365</td>\n",
       "      <td>292018353</td>\n",
       "    </tr>\n",
       "    <tr>\n",
       "      <th>2157177</th>\n",
       "      <td>A</td>\n",
       "      <td>A</td>\n",
       "      <td>143.29</td>\n",
       "      <td>300</td>\n",
       "      <td>345</td>\n",
       "      <td>143.25</td>\n",
       "      <td>143.26</td>\n",
       "      <td>365</td>\n",
       "      <td>675</td>\n",
       "      <td>143.24</td>\n",
       "      <td>143.27</td>\n",
       "      <td>365</td>\n",
       "      <td>292018356</td>\n",
       "    </tr>\n",
       "    <tr>\n",
       "      <th>2157178</th>\n",
       "      <td>A</td>\n",
       "      <td>A</td>\n",
       "      <td>143.26</td>\n",
       "      <td>500</td>\n",
       "      <td>345</td>\n",
       "      <td>143.25</td>\n",
       "      <td>143.26</td>\n",
       "      <td>865</td>\n",
       "      <td>675</td>\n",
       "      <td>143.24</td>\n",
       "      <td>143.27</td>\n",
       "      <td>365</td>\n",
       "      <td>292018748</td>\n",
       "    </tr>\n",
       "    <tr>\n",
       "      <th>2157179</th>\n",
       "      <td>A</td>\n",
       "      <td>B</td>\n",
       "      <td>143.25</td>\n",
       "      <td>100</td>\n",
       "      <td>445</td>\n",
       "      <td>143.25</td>\n",
       "      <td>143.26</td>\n",
       "      <td>865</td>\n",
       "      <td>675</td>\n",
       "      <td>143.24</td>\n",
       "      <td>143.27</td>\n",
       "      <td>365</td>\n",
       "      <td>292018750</td>\n",
       "    </tr>\n",
       "    <tr>\n",
       "      <th>2157180</th>\n",
       "      <td>A</td>\n",
       "      <td>B</td>\n",
       "      <td>143.25</td>\n",
       "      <td>100</td>\n",
       "      <td>545</td>\n",
       "      <td>143.25</td>\n",
       "      <td>143.26</td>\n",
       "      <td>865</td>\n",
       "      <td>675</td>\n",
       "      <td>143.24</td>\n",
       "      <td>143.27</td>\n",
       "      <td>365</td>\n",
       "      <td>292019325</td>\n",
       "    </tr>\n",
       "    <tr>\n",
       "      <th>2157181</th>\n",
       "      <td>C</td>\n",
       "      <td>B</td>\n",
       "      <td>143.25</td>\n",
       "      <td>25</td>\n",
       "      <td>520</td>\n",
       "      <td>143.25</td>\n",
       "      <td>143.26</td>\n",
       "      <td>865</td>\n",
       "      <td>675</td>\n",
       "      <td>143.24</td>\n",
       "      <td>143.27</td>\n",
       "      <td>365</td>\n",
       "      <td>292019561</td>\n",
       "    </tr>\n",
       "    <tr>\n",
       "      <th>2157182</th>\n",
       "      <td>A</td>\n",
       "      <td>B</td>\n",
       "      <td>143.25</td>\n",
       "      <td>25</td>\n",
       "      <td>545</td>\n",
       "      <td>143.25</td>\n",
       "      <td>143.26</td>\n",
       "      <td>865</td>\n",
       "      <td>675</td>\n",
       "      <td>143.24</td>\n",
       "      <td>143.27</td>\n",
       "      <td>365</td>\n",
       "      <td>292019562</td>\n",
       "    </tr>\n",
       "    <tr>\n",
       "      <th>2157183</th>\n",
       "      <td>C</td>\n",
       "      <td>A</td>\n",
       "      <td>143.27</td>\n",
       "      <td>120</td>\n",
       "      <td>545</td>\n",
       "      <td>143.25</td>\n",
       "      <td>143.26</td>\n",
       "      <td>865</td>\n",
       "      <td>675</td>\n",
       "      <td>143.24</td>\n",
       "      <td>143.27</td>\n",
       "      <td>245</td>\n",
       "      <td>292020402</td>\n",
       "    </tr>\n",
       "    <tr>\n",
       "      <th>2157184</th>\n",
       "      <td>T</td>\n",
       "      <td>B</td>\n",
       "      <td>143.26</td>\n",
       "      <td>100</td>\n",
       "      <td>545</td>\n",
       "      <td>143.25</td>\n",
       "      <td>143.26</td>\n",
       "      <td>865</td>\n",
       "      <td>675</td>\n",
       "      <td>143.24</td>\n",
       "      <td>143.27</td>\n",
       "      <td>245</td>\n",
       "      <td>292020791</td>\n",
       "    </tr>\n",
       "    <tr>\n",
       "      <th>2157185</th>\n",
       "      <td>T</td>\n",
       "      <td>B</td>\n",
       "      <td>143.26</td>\n",
       "      <td>76</td>\n",
       "      <td>545</td>\n",
       "      <td>143.25</td>\n",
       "      <td>143.26</td>\n",
       "      <td>765</td>\n",
       "      <td>675</td>\n",
       "      <td>143.24</td>\n",
       "      <td>143.27</td>\n",
       "      <td>245</td>\n",
       "      <td>292020792</td>\n",
       "    </tr>\n",
       "    <tr>\n",
       "      <th>2157186</th>\n",
       "      <td>C</td>\n",
       "      <td>A</td>\n",
       "      <td>143.26</td>\n",
       "      <td>76</td>\n",
       "      <td>545</td>\n",
       "      <td>143.25</td>\n",
       "      <td>143.26</td>\n",
       "      <td>689</td>\n",
       "      <td>675</td>\n",
       "      <td>143.24</td>\n",
       "      <td>143.27</td>\n",
       "      <td>245</td>\n",
       "      <td>292020792</td>\n",
       "    </tr>\n",
       "    <tr>\n",
       "      <th>2157187</th>\n",
       "      <td>T</td>\n",
       "      <td>B</td>\n",
       "      <td>143.26</td>\n",
       "      <td>89</td>\n",
       "      <td>545</td>\n",
       "      <td>143.25</td>\n",
       "      <td>143.26</td>\n",
       "      <td>689</td>\n",
       "      <td>675</td>\n",
       "      <td>143.24</td>\n",
       "      <td>143.27</td>\n",
       "      <td>245</td>\n",
       "      <td>292020795</td>\n",
       "    </tr>\n",
       "    <tr>\n",
       "      <th>2157188</th>\n",
       "      <td>T</td>\n",
       "      <td>B</td>\n",
       "      <td>143.26</td>\n",
       "      <td>100</td>\n",
       "      <td>545</td>\n",
       "      <td>143.25</td>\n",
       "      <td>143.26</td>\n",
       "      <td>600</td>\n",
       "      <td>675</td>\n",
       "      <td>143.24</td>\n",
       "      <td>143.27</td>\n",
       "      <td>245</td>\n",
       "      <td>292020796</td>\n",
       "    </tr>\n",
       "    <tr>\n",
       "      <th>2157189</th>\n",
       "      <td>T</td>\n",
       "      <td>B</td>\n",
       "      <td>143.26</td>\n",
       "      <td>217</td>\n",
       "      <td>545</td>\n",
       "      <td>143.25</td>\n",
       "      <td>143.26</td>\n",
       "      <td>500</td>\n",
       "      <td>675</td>\n",
       "      <td>143.24</td>\n",
       "      <td>143.27</td>\n",
       "      <td>245</td>\n",
       "      <td>292020797</td>\n",
       "    </tr>\n",
       "    <tr>\n",
       "      <th>2157190</th>\n",
       "      <td>T</td>\n",
       "      <td>B</td>\n",
       "      <td>143.26</td>\n",
       "      <td>283</td>\n",
       "      <td>545</td>\n",
       "      <td>143.25</td>\n",
       "      <td>143.26</td>\n",
       "      <td>283</td>\n",
       "      <td>675</td>\n",
       "      <td>143.24</td>\n",
       "      <td>143.27</td>\n",
       "      <td>245</td>\n",
       "      <td>292020798</td>\n",
       "    </tr>\n",
       "    <tr>\n",
       "      <th>2157191</th>\n",
       "      <td>C</td>\n",
       "      <td>A</td>\n",
       "      <td>143.26</td>\n",
       "      <td>283</td>\n",
       "      <td>545</td>\n",
       "      <td>143.25</td>\n",
       "      <td>143.27</td>\n",
       "      <td>245</td>\n",
       "      <td>675</td>\n",
       "      <td>143.24</td>\n",
       "      <td>143.28</td>\n",
       "      <td>1093</td>\n",
       "      <td>292020798</td>\n",
       "    </tr>\n",
       "    <tr>\n",
       "      <th>2157192</th>\n",
       "      <td>C</td>\n",
       "      <td>N</td>\n",
       "      <td>143.27</td>\n",
       "      <td>25</td>\n",
       "      <td>645</td>\n",
       "      <td>143.25</td>\n",
       "      <td>143.27</td>\n",
       "      <td>220</td>\n",
       "      <td>675</td>\n",
       "      <td>143.24</td>\n",
       "      <td>143.28</td>\n",
       "      <td>1093</td>\n",
       "      <td>292020842</td>\n",
       "    </tr>\n",
       "    <tr>\n",
       "      <th>2157193</th>\n",
       "      <td>A</td>\n",
       "      <td>B</td>\n",
       "      <td>143.25</td>\n",
       "      <td>100</td>\n",
       "      <td>745</td>\n",
       "      <td>143.25</td>\n",
       "      <td>143.27</td>\n",
       "      <td>220</td>\n",
       "      <td>675</td>\n",
       "      <td>143.24</td>\n",
       "      <td>143.28</td>\n",
       "      <td>1093</td>\n",
       "      <td>292020857</td>\n",
       "    </tr>\n",
       "    <tr>\n",
       "      <th>2157194</th>\n",
       "      <td>C</td>\n",
       "      <td>A</td>\n",
       "      <td>143.28</td>\n",
       "      <td>100</td>\n",
       "      <td>745</td>\n",
       "      <td>143.25</td>\n",
       "      <td>143.27</td>\n",
       "      <td>120</td>\n",
       "      <td>675</td>\n",
       "      <td>143.24</td>\n",
       "      <td>143.28</td>\n",
       "      <td>993</td>\n",
       "      <td>292020863</td>\n",
       "    </tr>\n",
       "    <tr>\n",
       "      <th>2157195</th>\n",
       "      <td>C</td>\n",
       "      <td>N</td>\n",
       "      <td>143.27</td>\n",
       "      <td>20</td>\n",
       "      <td>845</td>\n",
       "      <td>143.25</td>\n",
       "      <td>143.27</td>\n",
       "      <td>100</td>\n",
       "      <td>675</td>\n",
       "      <td>143.24</td>\n",
       "      <td>143.28</td>\n",
       "      <td>993</td>\n",
       "      <td>292020905</td>\n",
       "    </tr>\n",
       "    <tr>\n",
       "      <th>2157196</th>\n",
       "      <td>C</td>\n",
       "      <td>B</td>\n",
       "      <td>143.28</td>\n",
       "      <td>100</td>\n",
       "      <td>745</td>\n",
       "      <td>143.25</td>\n",
       "      <td>143.27</td>\n",
       "      <td>100</td>\n",
       "      <td>675</td>\n",
       "      <td>143.24</td>\n",
       "      <td>143.28</td>\n",
       "      <td>873</td>\n",
       "      <td>292020911</td>\n",
       "    </tr>\n",
       "    <tr>\n",
       "      <th>2157197</th>\n",
       "      <td>C</td>\n",
       "      <td>A</td>\n",
       "      <td>143.32</td>\n",
       "      <td>400</td>\n",
       "      <td>745</td>\n",
       "      <td>143.25</td>\n",
       "      <td>143.28</td>\n",
       "      <td>873</td>\n",
       "      <td>675</td>\n",
       "      <td>143.24</td>\n",
       "      <td>143.29</td>\n",
       "      <td>1210</td>\n",
       "      <td>292020930</td>\n",
       "    </tr>\n",
       "    <tr>\n",
       "      <th>2157198</th>\n",
       "      <td>A</td>\n",
       "      <td>A</td>\n",
       "      <td>143.27</td>\n",
       "      <td>20</td>\n",
       "      <td>745</td>\n",
       "      <td>143.25</td>\n",
       "      <td>143.27</td>\n",
       "      <td>20</td>\n",
       "      <td>675</td>\n",
       "      <td>143.24</td>\n",
       "      <td>143.28</td>\n",
       "      <td>873</td>\n",
       "      <td>292021007</td>\n",
       "    </tr>\n",
       "    <tr>\n",
       "      <th>2157199</th>\n",
       "      <td>C</td>\n",
       "      <td>A</td>\n",
       "      <td>143.27</td>\n",
       "      <td>20</td>\n",
       "      <td>745</td>\n",
       "      <td>143.25</td>\n",
       "      <td>143.28</td>\n",
       "      <td>873</td>\n",
       "      <td>675</td>\n",
       "      <td>143.24</td>\n",
       "      <td>143.29</td>\n",
       "      <td>1210</td>\n",
       "      <td>292021053</td>\n",
       "    </tr>\n",
       "    <tr>\n",
       "      <th>2157200</th>\n",
       "      <td>A</td>\n",
       "      <td>B</td>\n",
       "      <td>143.25</td>\n",
       "      <td>120</td>\n",
       "      <td>865</td>\n",
       "      <td>143.25</td>\n",
       "      <td>143.28</td>\n",
       "      <td>873</td>\n",
       "      <td>675</td>\n",
       "      <td>143.24</td>\n",
       "      <td>143.29</td>\n",
       "      <td>1210</td>\n",
       "      <td>292021054</td>\n",
       "    </tr>\n",
       "    <tr>\n",
       "      <th>2157201</th>\n",
       "      <td>C</td>\n",
       "      <td>A</td>\n",
       "      <td>143.28</td>\n",
       "      <td>120</td>\n",
       "      <td>865</td>\n",
       "      <td>143.25</td>\n",
       "      <td>143.27</td>\n",
       "      <td>100</td>\n",
       "      <td>675</td>\n",
       "      <td>143.24</td>\n",
       "      <td>143.28</td>\n",
       "      <td>753</td>\n",
       "      <td>292021057</td>\n",
       "    </tr>\n",
       "    <tr>\n",
       "      <th>2157202</th>\n",
       "      <td>A</td>\n",
       "      <td>B</td>\n",
       "      <td>143.26</td>\n",
       "      <td>100</td>\n",
       "      <td>100</td>\n",
       "      <td>143.26</td>\n",
       "      <td>143.27</td>\n",
       "      <td>100</td>\n",
       "      <td>865</td>\n",
       "      <td>143.25</td>\n",
       "      <td>143.28</td>\n",
       "      <td>753</td>\n",
       "      <td>292021060</td>\n",
       "    </tr>\n",
       "    <tr>\n",
       "      <th>2157203</th>\n",
       "      <td>A</td>\n",
       "      <td>B</td>\n",
       "      <td>143.26</td>\n",
       "      <td>20</td>\n",
       "      <td>120</td>\n",
       "      <td>143.26</td>\n",
       "      <td>143.27</td>\n",
       "      <td>100</td>\n",
       "      <td>865</td>\n",
       "      <td>143.25</td>\n",
       "      <td>143.28</td>\n",
       "      <td>753</td>\n",
       "      <td>292021069</td>\n",
       "    </tr>\n",
       "  </tbody>\n",
       "</table>\n",
       "</div>"
      ],
      "text/plain": [
       "        action side   price  size  bid_sz_00  bid_px_00  ask_px_00  ask_sz_00  \\\n",
       "2157173      C    B  143.25    25        320     143.25     143.26        365   \n",
       "2157174      A    B  143.25    25        345     143.25     143.26        365   \n",
       "2157175      C    A  143.27   100        345     143.25     143.26        365   \n",
       "2157176      C    A  143.28   300        345     143.25     143.26        365   \n",
       "2157177      A    A  143.29   300        345     143.25     143.26        365   \n",
       "2157178      A    A  143.26   500        345     143.25     143.26        865   \n",
       "2157179      A    B  143.25   100        445     143.25     143.26        865   \n",
       "2157180      A    B  143.25   100        545     143.25     143.26        865   \n",
       "2157181      C    B  143.25    25        520     143.25     143.26        865   \n",
       "2157182      A    B  143.25    25        545     143.25     143.26        865   \n",
       "2157183      C    A  143.27   120        545     143.25     143.26        865   \n",
       "2157184      T    B  143.26   100        545     143.25     143.26        865   \n",
       "2157185      T    B  143.26    76        545     143.25     143.26        765   \n",
       "2157186      C    A  143.26    76        545     143.25     143.26        689   \n",
       "2157187      T    B  143.26    89        545     143.25     143.26        689   \n",
       "2157188      T    B  143.26   100        545     143.25     143.26        600   \n",
       "2157189      T    B  143.26   217        545     143.25     143.26        500   \n",
       "2157190      T    B  143.26   283        545     143.25     143.26        283   \n",
       "2157191      C    A  143.26   283        545     143.25     143.27        245   \n",
       "2157192      C    N  143.27    25        645     143.25     143.27        220   \n",
       "2157193      A    B  143.25   100        745     143.25     143.27        220   \n",
       "2157194      C    A  143.28   100        745     143.25     143.27        120   \n",
       "2157195      C    N  143.27    20        845     143.25     143.27        100   \n",
       "2157196      C    B  143.28   100        745     143.25     143.27        100   \n",
       "2157197      C    A  143.32   400        745     143.25     143.28        873   \n",
       "2157198      A    A  143.27    20        745     143.25     143.27         20   \n",
       "2157199      C    A  143.27    20        745     143.25     143.28        873   \n",
       "2157200      A    B  143.25   120        865     143.25     143.28        873   \n",
       "2157201      C    A  143.28   120        865     143.25     143.27        100   \n",
       "2157202      A    B  143.26   100        100     143.26     143.27        100   \n",
       "2157203      A    B  143.26    20        120     143.26     143.27        100   \n",
       "\n",
       "         bid_sz_01  bid_px_01  ask_px_01  ask_sz_01   sequence  \n",
       "2157173        675     143.24     143.27        465  292017206  \n",
       "2157174        675     143.24     143.27        465  292017718  \n",
       "2157175        675     143.24     143.27        365  292017942  \n",
       "2157176        675     143.24     143.27        365  292018353  \n",
       "2157177        675     143.24     143.27        365  292018356  \n",
       "2157178        675     143.24     143.27        365  292018748  \n",
       "2157179        675     143.24     143.27        365  292018750  \n",
       "2157180        675     143.24     143.27        365  292019325  \n",
       "2157181        675     143.24     143.27        365  292019561  \n",
       "2157182        675     143.24     143.27        365  292019562  \n",
       "2157183        675     143.24     143.27        245  292020402  \n",
       "2157184        675     143.24     143.27        245  292020791  \n",
       "2157185        675     143.24     143.27        245  292020792  \n",
       "2157186        675     143.24     143.27        245  292020792  \n",
       "2157187        675     143.24     143.27        245  292020795  \n",
       "2157188        675     143.24     143.27        245  292020796  \n",
       "2157189        675     143.24     143.27        245  292020797  \n",
       "2157190        675     143.24     143.27        245  292020798  \n",
       "2157191        675     143.24     143.28       1093  292020798  \n",
       "2157192        675     143.24     143.28       1093  292020842  \n",
       "2157193        675     143.24     143.28       1093  292020857  \n",
       "2157194        675     143.24     143.28        993  292020863  \n",
       "2157195        675     143.24     143.28        993  292020905  \n",
       "2157196        675     143.24     143.28        873  292020911  \n",
       "2157197        675     143.24     143.29       1210  292020930  \n",
       "2157198        675     143.24     143.28        873  292021007  \n",
       "2157199        675     143.24     143.29       1210  292021053  \n",
       "2157200        675     143.24     143.29       1210  292021054  \n",
       "2157201        675     143.24     143.28        753  292021057  \n",
       "2157202        865     143.25     143.28        753  292021060  \n",
       "2157203        865     143.25     143.28        753  292021069  "
      ]
     },
     "execution_count": 95,
     "metadata": {},
     "output_type": "execute_result"
    }
   ],
   "source": [
    "idx = idx + 1\n",
    "print(f\"index: {rdf.iloc[idx].name} stop: {rdf.iloc[idx]['hedge_buy_stop_idx']}\")\n",
    "display_around(rdf.iloc[idx].name, int(rdf.iloc[idx]['hedge_buy_stop_idx']) - rdf.iloc[idx].name + 8)\n"
   ]
  },
  {
   "cell_type": "markdown",
   "metadata": {},
   "source": [
    "### Calculate optimal hedge price"
   ]
  },
  {
   "cell_type": "code",
   "execution_count": 108,
   "metadata": {},
   "outputs": [],
   "source": [
    "#| export\n",
    "def calculate_ideal_hedge(df, rdf):\n",
    "    # fix NaN values\n",
    "    rdf['hedge_buy_stop_idx'] = rdf['hedge_buy_stop_idx'].where(~rdf['hedge_buy_stop_idx'].isna(), rdf.index)\n",
    "    rdf['hedge_sell_stop_idx'] = rdf['hedge_sell_stop_idx'].where(~rdf['hedge_sell_stop_idx'].isna(), rdf.index)\n",
    "\n",
    "    rdf['hedge_buy_stop_prc'] = rdf['hedge_buy_stop_prc'].where(~rdf['hedge_buy_stop_prc'].isna(), rdf['ask_px_00'])\n",
    "    rdf['hedge_sell_stop_prc'] = rdf['hedge_sell_stop_prc'].where(~rdf['hedge_sell_stop_prc'].isna(), rdf['bid_px_00'])\n",
    "\n",
    "    def optimal_buy_price(row):\n",
    "        idx = df.index.get_loc(row.name)\n",
    "        return df.iloc[idx:idx+1+row['hedge_buy_stop_idx']]['ask_px_00'].min()\n",
    "\n",
    "    def optimal_sell_price(row):\n",
    "        idx = df.index.get_loc(row.name)\n",
    "        return df.iloc[idx:idx+1+row['hedge_sell_stop_idx']]['bid_px_00'].max()\n",
    "\n",
    "    # calculate ideal position between current point and stop loss point \n",
    "    rdf['ideal_buy_price'] = rdf.apply(optimal_buy_price, axis=1)\n",
    "    rdf['ideal_sell_price'] = rdf.apply(optimal_sell_price, axis=1)\n",
    "\n",
    "    rdf['ideal_buy_price_spread'] = (rdf['ideal_buy_price'] - rdf['bid_px_00']) / (rdf['ask_px_00'] - rdf['bid_px_00'])\n",
    "    rdf['ideal_sell_price_spread'] = -(rdf['ideal_sell_price'] - rdf['ask_px_00']) / (rdf['ask_px_00'] - rdf['bid_px_00'])"
   ]
  },
  {
   "cell_type": "code",
   "execution_count": 109,
   "metadata": {},
   "outputs": [],
   "source": [
    "calculate_ideal_hedge(xdf, rdf)\n"
   ]
  },
  {
   "cell_type": "code",
   "execution_count": 110,
   "metadata": {},
   "outputs": [
    {
     "data": {
      "application/vnd.microsoft.datawrangler.viewer.v0+json": {
       "columns": [
        {
         "name": "index",
         "rawType": "int64",
         "type": "integer"
        },
        {
         "name": "ideal_sell_price_spread",
         "rawType": "float64",
         "type": "float"
        },
        {
         "name": "ideal_sell_price",
         "rawType": "float64",
         "type": "float"
        },
        {
         "name": "bid_px_00",
         "rawType": "float64",
         "type": "float"
        },
        {
         "name": "ask_px_00",
         "rawType": "float64",
         "type": "float"
        }
       ],
       "conversionMethod": "pd.DataFrame",
       "ref": "e28e04d9-a5c2-484f-8bec-b20bee51cf48",
       "rows": [
        [
         "2793401",
         "-61.99999999987779",
         "144.73",
         "144.1",
         "144.11"
        ],
        [
         "2157174",
         "-147.00000000013358",
         "144.73",
         "143.25",
         "143.26"
        ],
        [
         "259698",
         "-78.50000000007248",
         "143.24",
         "141.65",
         "141.67"
        ],
        [
         "1994051",
         "-91.4999999999524",
         "144.73",
         "142.88",
         "142.9"
        ],
        [
         "1123748",
         "-35.999999999928946",
         "143.97",
         "143.6",
         "143.61"
        ],
        [
         "948858",
         "-33.000000000031264",
         "144.05",
         "143.71",
         "143.72"
        ],
        [
         "1576490",
         "-154.00000000013927",
         "144.73",
         "143.18",
         "143.19"
        ],
        [
         "2201349",
         "-131.00000000011937",
         "144.73",
         "143.41",
         "143.42"
        ],
        [
         "2865512",
         "-11.000000000009948",
         "144.73",
         "144.49",
         "144.51"
        ],
        [
         "1834542",
         "-164.0000000001478",
         "144.73",
         "143.08",
         "143.09"
        ],
        [
         "1855332",
         "-151.99999999970441",
         "144.73",
         "143.2",
         "143.21"
        ],
        [
         "2579936",
         "-46.49999999997513",
         "144.73",
         "143.78",
         "143.8"
        ],
        [
         "2409808",
         "-88.00000000007958",
         "144.73",
         "143.84",
         "143.85"
        ],
        [
         "2654660",
         "-76.99999999984936",
         "144.73",
         "143.95",
         "143.96"
        ],
        [
         "277697",
         "-77.49999999996092",
         "143.24",
         "141.67",
         "141.69"
        ],
        [
         "2482704",
         "-76.00000000006821",
         "144.73",
         "143.96",
         "143.97"
        ],
        [
         "318543",
         "-60.50000000005542",
         "143.35",
         "142.12",
         "142.14"
        ],
        [
         "1207327",
         "-73.00000000006821",
         "143.99",
         "143.25",
         "143.26"
        ],
        [
         "719044",
         "-36.500000000034106",
         "144.21",
         "143.46",
         "143.48"
        ],
        [
         "524704",
         "-77.99999999996021",
         "144.21",
         "142.63",
         "142.65"
        ],
        [
         "1171928",
         "-25.000000000022737",
         "143.89",
         "143.37",
         "143.39"
        ],
        [
         "418250",
         "-118.000000000108",
         "143.96",
         "142.77",
         "142.78"
        ],
        [
         "2903605",
         "-34.000000000031264",
         "144.73",
         "144.38",
         "144.39"
        ],
        [
         "2924034",
         "-11.499999999993605",
         "144.73",
         "144.48",
         "144.5"
        ],
        [
         "2853628",
         "-7.999999999982947",
         "144.73",
         "144.64",
         "144.65"
        ],
        [
         "1308254",
         "-72.99999999996305",
         "144.12",
         "142.64",
         "142.66"
        ],
        [
         "2913234",
         "-35.000000000031264",
         "144.73",
         "144.37",
         "144.38"
        ],
        [
         "1863578",
         "-147.00000000013358",
         "144.73",
         "143.25",
         "143.26"
        ],
        [
         "1056032",
         "-56.999999999889155",
         "143.97",
         "143.39",
         "143.4"
        ],
        [
         "1063866",
         "-44.99999999991189",
         "143.97",
         "143.51",
         "143.52"
        ],
        [
         "2730650",
         "-92.00000000008242",
         "144.73",
         "143.8",
         "143.81"
        ],
        [
         "2216443",
         "-134.0000000001222",
         "144.73",
         "143.38",
         "143.39"
        ],
        [
         "2295413",
         "-107.00000000009663",
         "144.73",
         "143.65",
         "143.66"
        ],
        [
         "2016504",
         "-91.4999999999524",
         "144.73",
         "142.88",
         "142.9"
        ],
        [
         "2189551",
         "-128.00000000011653",
         "144.73",
         "143.44",
         "143.45"
        ],
        [
         "2245964",
         "-132.00000000011937",
         "144.73",
         "143.4",
         "143.41"
        ],
        [
         "910323",
         "-13.00000000001279",
         "144.05",
         "143.77",
         "143.79"
        ],
        [
         "621571",
         "-78.50000000007248",
         "144.21",
         "142.62",
         "142.64"
        ],
        [
         "576019",
         "-46.49999999997655",
         "144.21",
         "143.26",
         "143.28"
        ],
        [
         "1502278",
         "-80.00000000007248",
         "144.73",
         "143.11",
         "143.13"
        ],
        [
         "729338",
         "-43.00000000003979",
         "144.21",
         "143.77",
         "143.78"
        ],
        [
         "919229",
         "-17.999999999991473",
         "144.05",
         "143.67",
         "143.69"
        ],
        [
         "1324116",
         "-60.00000000005542",
         "144.12",
         "142.9",
         "142.92"
        ],
        [
         "174584",
         "-40.499999999979394",
         "142.24",
         "141.41",
         "141.43"
        ],
        [
         "2183766",
         "-135.0000000001222",
         "144.73",
         "143.37",
         "143.38"
        ],
        [
         "2253028",
         "-131.00000000011937",
         "144.73",
         "143.41",
         "143.42"
        ],
        [
         "1740825",
         "-157.99999999969305",
         "144.73",
         "143.14",
         "143.15"
        ],
        [
         "725042",
         "-27.00000000002558",
         "144.21",
         "143.65",
         "143.67"
        ],
        [
         "1129651",
         "-33.000000000031264",
         "143.97",
         "143.63",
         "143.64"
        ],
        [
         "752286",
         "-34.499999999982236",
         "144.21",
         "143.5",
         "143.52"
        ]
       ],
       "shape": {
        "columns": 4,
        "rows": 4953
       }
      },
      "text/html": [
       "<div>\n",
       "<style scoped>\n",
       "    .dataframe tbody tr th:only-of-type {\n",
       "        vertical-align: middle;\n",
       "    }\n",
       "\n",
       "    .dataframe tbody tr th {\n",
       "        vertical-align: top;\n",
       "    }\n",
       "\n",
       "    .dataframe thead th {\n",
       "        text-align: right;\n",
       "    }\n",
       "</style>\n",
       "<table border=\"1\" class=\"dataframe\">\n",
       "  <thead>\n",
       "    <tr style=\"text-align: right;\">\n",
       "      <th></th>\n",
       "      <th>ideal_sell_price_spread</th>\n",
       "      <th>ideal_sell_price</th>\n",
       "      <th>bid_px_00</th>\n",
       "      <th>ask_px_00</th>\n",
       "    </tr>\n",
       "  </thead>\n",
       "  <tbody>\n",
       "    <tr>\n",
       "      <th>2793401</th>\n",
       "      <td>-62.0</td>\n",
       "      <td>144.73</td>\n",
       "      <td>144.10</td>\n",
       "      <td>144.11</td>\n",
       "    </tr>\n",
       "    <tr>\n",
       "      <th>2157174</th>\n",
       "      <td>-147.0</td>\n",
       "      <td>144.73</td>\n",
       "      <td>143.25</td>\n",
       "      <td>143.26</td>\n",
       "    </tr>\n",
       "    <tr>\n",
       "      <th>259698</th>\n",
       "      <td>-78.5</td>\n",
       "      <td>143.24</td>\n",
       "      <td>141.65</td>\n",
       "      <td>141.67</td>\n",
       "    </tr>\n",
       "    <tr>\n",
       "      <th>1994051</th>\n",
       "      <td>-91.5</td>\n",
       "      <td>144.73</td>\n",
       "      <td>142.88</td>\n",
       "      <td>142.90</td>\n",
       "    </tr>\n",
       "    <tr>\n",
       "      <th>1123748</th>\n",
       "      <td>-36.0</td>\n",
       "      <td>143.97</td>\n",
       "      <td>143.60</td>\n",
       "      <td>143.61</td>\n",
       "    </tr>\n",
       "    <tr>\n",
       "      <th>...</th>\n",
       "      <td>...</td>\n",
       "      <td>...</td>\n",
       "      <td>...</td>\n",
       "      <td>...</td>\n",
       "    </tr>\n",
       "    <tr>\n",
       "      <th>1687168</th>\n",
       "      <td>-148.0</td>\n",
       "      <td>144.73</td>\n",
       "      <td>143.24</td>\n",
       "      <td>143.25</td>\n",
       "    </tr>\n",
       "    <tr>\n",
       "      <th>2395394</th>\n",
       "      <td>-80.0</td>\n",
       "      <td>144.73</td>\n",
       "      <td>143.92</td>\n",
       "      <td>143.93</td>\n",
       "    </tr>\n",
       "    <tr>\n",
       "      <th>257960</th>\n",
       "      <td>-83.5</td>\n",
       "      <td>143.24</td>\n",
       "      <td>141.55</td>\n",
       "      <td>141.57</td>\n",
       "    </tr>\n",
       "    <tr>\n",
       "      <th>1156243</th>\n",
       "      <td>-13.0</td>\n",
       "      <td>143.80</td>\n",
       "      <td>143.52</td>\n",
       "      <td>143.54</td>\n",
       "    </tr>\n",
       "    <tr>\n",
       "      <th>320707</th>\n",
       "      <td>-57.5</td>\n",
       "      <td>143.35</td>\n",
       "      <td>142.18</td>\n",
       "      <td>142.20</td>\n",
       "    </tr>\n",
       "  </tbody>\n",
       "</table>\n",
       "<p>4953 rows × 4 columns</p>\n",
       "</div>"
      ],
      "text/plain": [
       "         ideal_sell_price_spread  ideal_sell_price  bid_px_00  ask_px_00\n",
       "2793401                    -62.0            144.73     144.10     144.11\n",
       "2157174                   -147.0            144.73     143.25     143.26\n",
       "259698                     -78.5            143.24     141.65     141.67\n",
       "1994051                    -91.5            144.73     142.88     142.90\n",
       "1123748                    -36.0            143.97     143.60     143.61\n",
       "...                          ...               ...        ...        ...\n",
       "1687168                   -148.0            144.73     143.24     143.25\n",
       "2395394                    -80.0            144.73     143.92     143.93\n",
       "257960                     -83.5            143.24     141.55     141.57\n",
       "1156243                    -13.0            143.80     143.52     143.54\n",
       "320707                     -57.5            143.35     142.18     142.20\n",
       "\n",
       "[4953 rows x 4 columns]"
      ]
     },
     "execution_count": 110,
     "metadata": {},
     "output_type": "execute_result"
    }
   ],
   "source": [
    "\n",
    "rdf[['ideal_buy_price_spread', 'ideal_buy_price', 'bid_px_00', 'ask_px_00']]\n",
    "rdf[rdf.ideal_buy_price_spread<0][['ideal_buy_price_spread', 'ideal_buy_price', 'bid_px_00', 'ask_px_00']]\n",
    "rdf[rdf.ideal_sell_price_spread<0][['ideal_sell_price_spread', 'ideal_sell_price', 'bid_px_00', 'ask_px_00']]"
   ]
  },
  {
   "cell_type": "code",
   "execution_count": 111,
   "metadata": {},
   "outputs": [
    {
     "data": {
      "text/plain": [
       "<matplotlib.legend.Legend at 0x7effa92ade40>"
      ]
     },
     "execution_count": 111,
     "metadata": {},
     "output_type": "execute_result"
    },
    {
     "data": {
      "image/png": "[encoded data removed]",
      "text/plain": [
       "<Figure size 640x480 with 1 Axes>"
      ]
     },
     "metadata": {},
     "output_type": "display_data"
    }
   ],
   "source": [
    "_ = rdf['ideal_buy_price_spread'].plot(kind='hist', title='Ideal Buy Price Spread', bins=20, range=(-100, 5))\n",
    "rdf['ideal_sell_price_spread'].plot(kind='hist', title='Ideal Sell Price Spread', bins=20, range=(-100, 100), color='orange', alpha=0.7, ax=plot.gca())\n",
    "plot.axvline(0, color='red', linestyle='dashed', linewidth=1)  # Add a vertical line at 0 for clarity\n",
    "plot.legend(['Ideal Buy Price Spread', 'Ideal Sell Price Spread'])"
   ]
  },
  {
   "cell_type": "markdown",
   "metadata": {},
   "source": [
    "#### Isolate buy and sell into 2 rows"
   ]
  },
  {
   "cell_type": "code",
   "execution_count": 112,
   "metadata": {},
   "outputs": [],
   "source": [
    "#| export\n",
    "def split_buy_sell(df):\n",
    "    def split_side(side):\n",
    "        rdf_side = df.copy()\n",
    "        rdf_side['is_buy'] = True\n",
    "        rdf_side['ideal_price'] = rdf_side[f'ideal_{side}_price']\n",
    "        rdf_side['ideal_price_spread'] = rdf_side[f'ideal_{side}_price_spread']\n",
    "        rdf_side['hedge_stop_prc'] = rdf_side[f'hedge_{side}_stop_prc']\n",
    "        rdf_side.drop(columns=[f'ideal_{side}_price'], inplace=True)\n",
    "        return rdf_side\n",
    "\n",
    "    rdf_buy = split_side('buy')\n",
    "    rdf_sell = split_side('sell')\n",
    "\n",
    "    rdf_combined = pd.concat([rdf_buy, rdf_sell])\n",
    "    return rdf_combined\n"
   ]
  },
  {
   "cell_type": "code",
   "execution_count": 113,
   "metadata": {},
   "outputs": [
    {
     "name": "stdout",
     "output_type": "stream",
     "text": [
      "<class 'pandas.core.frame.DataFrame'>\n",
      "Index: 10000 entries, 2793401 to 320707\n",
      "Data columns (total 2 columns):\n",
      " #   Column       Non-Null Count  Dtype  \n",
      "---  ------       --------------  -----  \n",
      " 0   is_buy       10000 non-null  bool   \n",
      " 1   ideal_price  10000 non-null  float64\n",
      "dtypes: bool(1), float64(1)\n",
      "memory usage: 166.0 KB\n"
     ]
    }
   ],
   "source": [
    "rdf_combined = split_buy_sell(rdf)\n",
    "rdf_combined[['is_buy','ideal_price']].info()"
   ]
  },
  {
   "cell_type": "code",
   "execution_count": 114,
   "metadata": {},
   "outputs": [
    {
     "data": {
      "text/plain": [
       "114"
      ]
     },
     "execution_count": 114,
     "metadata": {},
     "output_type": "execute_result"
    }
   ],
   "source": [
    "len(rdf.columns)"
   ]
  },
  {
   "cell_type": "markdown",
   "metadata": {},
   "source": [
    "#### cleanup columns"
   ]
  },
  {
   "cell_type": "code",
   "execution_count": 115,
   "metadata": {},
   "outputs": [],
   "source": [
    "#| export\n",
    "def cleanup_columns(df):\n",
    "    for i in range(1, 10):\n",
    "        df.drop(columns=[f'bid_px_0{i}', f'ask_px_0{i}'], inplace=True)\n",
    "    for i in range(0, 10):\n",
    "        df.drop(columns=[f'bid_sz_0{i}', f'ask_sz_0{i}'], inplace=True)\n",
    "        df.drop(columns=[f'bid_ct_0{i}', f'ask_ct_0{i}'], inplace=True)"
   ]
  },
  {
   "cell_type": "code",
   "execution_count": 116,
   "metadata": {},
   "outputs": [],
   "source": [
    "cleanup_columns(rdf_combined)"
   ]
  },
  {
   "cell_type": "markdown",
   "metadata": {},
   "source": [
    "#### Save result"
   ]
  },
  {
   "cell_type": "code",
   "execution_count": 117,
   "metadata": {},
   "outputs": [],
   "source": [
    "if is_notebook():\n",
    "    os.makedirs(save_dir, exist_ok=True)\n",
    "    rdf_combined.to_csv(save_dir / 'rdf_output.csv', index=False)"
   ]
  },
  {
   "cell_type": "code",
   "execution_count": null,
   "metadata": {},
   "outputs": [],
   "source": [
    "#| export\n",
    "if not is_notebook():\n",
    "    from pathlib import Path\n",
    "    import time\n",
    "\n",
    "    def do_all(date):\n",
    "        start_time = time.time()\n",
    "        print(\"Step 1: Loading data\")\n",
    "        df = load_data(date)\n",
    "        print(f\"Step 2: Adjusting for time (took {time.time() - start_time:.2f} seconds)\")\n",
    "        start_time = time.time()\n",
    "        df = adjust_for_time(df)\n",
    "        print(f\"Step 3: Dropping NA (took {time.time() - start_time:.2f} seconds)\")\n",
    "        start_time = time.time()\n",
    "        drop_na(df)\n",
    "        print(f\"Step 4: Adding spread (took {time.time() - start_time:.2f} seconds)\")\n",
    "        start_time = time.time()\n",
    "        add_spread(df)\n",
    "        print(f\"Step 5: Adding imbalance columns (took {time.time() - start_time:.2f} seconds)\")\n",
    "        start_time = time.time()\n",
    "        add_imbalance_columns(df)\n",
    "        print(f\"Step 6: Calculating stop loss indices (took {time.time() - start_time:.2f} seconds)\")\n",
    "        start_time = time.time()\n",
    "        rdf = calc_stop_loss_indices(df)\n",
    "        print(f\"Step 7: Calculating ideal hedge (took {time.time() - start_time:.2f} seconds)\")\n",
    "        start_time = time.time()\n",
    "        calculate_ideal_hedge(df, rdf)\n",
    "        print(f\"Step 8: Splitting buy and sell (took {time.time() - start_time:.2f} seconds)\")\n",
    "        start_time = time.time()\n",
    "        rdf_combined = split_buy_sell(rdf)\n",
    "        print(f\"Step 9: Cleaning up columns (took {time.time() - start_time:.2f} seconds)\")\n",
    "        start_time = time.time()\n",
    "        cleanup_columns(rdf_combined)\n",
    "        print(f\"Step 10: Saving to CSV (took {time.time() - start_time:.2f} seconds)\")\n",
    "        start_time = time.time()\n",
    "        rdf_combined.to_csv(save_dir / f'rdf_output_{date}.csv', index=False)\n",
    "\n",
    "    # Define the directory and pattern\n",
    "    directory = Path(\"../market\")\n",
    "    pattern = \"*mbp-10*\"\n",
    "    print(\"here\")\n",
    "    # Iterate over files matching the pattern\n",
    "    for file_path in directory.glob(pattern):\n",
    "        print(file_path)\n",
    "        # Extract the date from the filename\n",
    "        date_str = file_path.name[10:18]\n",
    "        print(f\"Extracted date: {date_str}\")\n",
    "        do_all(date_str)"
   ]
  },
  {
   "cell_type": "code",
   "execution_count": 121,
   "metadata": {},
   "outputs": [],
   "source": [
    "#| hide\n",
    "import nbdev; nbdev.nbdev_export()"
   ]
  },
  {
   "cell_type": "markdown",
   "metadata": {},
   "source": [
    "### search of one order triggering more than one execution"
   ]
  },
  {
   "cell_type": "markdown",
   "metadata": {},
   "source": [
    "### search of iceberg orders"
   ]
  },
  {
   "cell_type": "markdown",
   "metadata": {},
   "source": [
    "### Consider latency"
   ]
  },
  {
   "cell_type": "markdown",
   "metadata": {},
   "source": [
    "### Spread could be calculated based on an average spread instead of the immediate value"
   ]
  }
 ],
 "metadata": {
  "kernelspec": {
   "display_name": "ai",
   "language": "python",
   "name": "python3"
  },
  "language_info": {
   "codemirror_mode": {
    "name": "ipython",
    "version": 3
   },
   "file_extension": ".py",
   "mimetype": "text/x-python",
   "name": "python",
   "nbconvert_exporter": "python",
   "pygments_lexer": "ipython3",
   "version": "3.10.16"
  }
 },
 "nbformat": 4,
 "nbformat_minor": 2
}
