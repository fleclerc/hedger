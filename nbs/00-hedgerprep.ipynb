{
 "cells": [
  {
   "cell_type": "code",
   "execution_count": 3,
   "metadata": {},
   "outputs": [],
   "source": [
    "#| default_exp hedgerprep"
   ]
  },
  {
   "cell_type": "code",
   "execution_count": 4,
   "metadata": {},
   "outputs": [],
   "source": [
    "#| export\n",
    "\n",
    "import pandas as pd\n",
    "import numpy as np\n",
    "import matplotlib.pyplot as plot\n",
    "from fastai.tabular.all import *\n"
   ]
  },
  {
   "cell_type": "code",
   "execution_count": 5,
   "metadata": {},
   "outputs": [],
   "source": [
    "#| hide\n",
    "import nbdev; nbdev.nbdev_export()"
   ]
  },
  {
   "cell_type": "markdown",
   "metadata": {},
   "source": [
    "### Parameters"
   ]
  },
  {
   "cell_type": "code",
   "execution_count": null,
   "metadata": {},
   "outputs": [],
   "source": [
    "data_dir = Path(\"./market\")\n",
    "save_dir = Path(\"./market/save\")\n",
    "market_open = \"09:30\"\n",
    "rows_to_load = 1_500_000     # should be -1 for training, or positive smaller for faster testing\n",
    "load_date = \"20250103\"\n",
    "\n",
    "day_sample_count = 5000"
   ]
  },
  {
   "cell_type": "code",
   "execution_count": null,
   "metadata": {},
   "outputs": [
    {
     "name": "stdout",
     "output_type": "stream",
     "text": [
      "market/xnas-itch-20250103.mbp-10.csv\n",
      "Extracted date: 20250103\n",
      "market/xnas-itch-20250102.mbp-10.csv\n",
      "Extracted date: 20250102\n"
     ]
    }
   ],
   "source": [
    "#| export\n",
    "from pathlib import Path\n",
    "\n",
    "# Define the directory and pattern\n",
    "directory = Path(\"./market\")\n",
    "pattern = \"*mbp-10*\"\n",
    "\n",
    "# Iterate over files matching the pattern\n",
    "for file_path in directory.glob(pattern):\n",
    "    print(file_path)\n",
    "\n",
    "    # Extract the date from the file name\n",
    "    date_str = file_path.name[10:18]\n",
    "    print(f\"Extracted date: {date_str}\")"
   ]
  },
  {
   "cell_type": "markdown",
   "metadata": {},
   "source": [
    "#### Load data"
   ]
  },
  {
   "cell_type": "code",
   "execution_count": null,
   "metadata": {},
   "outputs": [
    {
     "data": {
      "text/html": [
       "<div>\n",
       "<style scoped>\n",
       "    .dataframe tbody tr th:only-of-type {\n",
       "        vertical-align: middle;\n",
       "    }\n",
       "\n",
       "    .dataframe tbody tr th {\n",
       "        vertical-align: top;\n",
       "    }\n",
       "\n",
       "    .dataframe thead th {\n",
       "        text-align: right;\n",
       "    }\n",
       "</style>\n",
       "<table border=\"1\" class=\"dataframe\">\n",
       "  <thead>\n",
       "    <tr style=\"text-align: right;\">\n",
       "      <th></th>\n",
       "      <th>ts_recv</th>\n",
       "      <th>ts_event</th>\n",
       "      <th>rtype</th>\n",
       "      <th>publisher_id</th>\n",
       "      <th>instrument_id</th>\n",
       "      <th>action</th>\n",
       "      <th>side</th>\n",
       "      <th>depth</th>\n",
       "      <th>price</th>\n",
       "      <th>size</th>\n",
       "      <th>...</th>\n",
       "      <th>ask_sz_08</th>\n",
       "      <th>bid_ct_08</th>\n",
       "      <th>ask_ct_08</th>\n",
       "      <th>bid_px_09</th>\n",
       "      <th>ask_px_09</th>\n",
       "      <th>bid_sz_09</th>\n",
       "      <th>ask_sz_09</th>\n",
       "      <th>bid_ct_09</th>\n",
       "      <th>ask_ct_09</th>\n",
       "      <th>symbol</th>\n",
       "    </tr>\n",
       "  </thead>\n",
       "  <tbody>\n",
       "    <tr>\n",
       "      <th>0</th>\n",
       "      <td>2025-01-03T09:00:00.015869440Z</td>\n",
       "      <td>2025-01-03T09:00:00.015702539Z</td>\n",
       "      <td>10</td>\n",
       "      <td>2</td>\n",
       "      <td>11667</td>\n",
       "      <td>A</td>\n",
       "      <td>N</td>\n",
       "      <td>0</td>\n",
       "      <td>140.97</td>\n",
       "      <td>100</td>\n",
       "      <td>...</td>\n",
       "      <td>0</td>\n",
       "      <td>0</td>\n",
       "      <td>0</td>\n",
       "      <td>NaN</td>\n",
       "      <td>NaN</td>\n",
       "      <td>0</td>\n",
       "      <td>0</td>\n",
       "      <td>0</td>\n",
       "      <td>0</td>\n",
       "      <td>NVDA</td>\n",
       "    </tr>\n",
       "    <tr>\n",
       "      <th>1</th>\n",
       "      <td>2025-01-03T09:00:00.015938794Z</td>\n",
       "      <td>2025-01-03T09:00:00.015771793Z</td>\n",
       "      <td>10</td>\n",
       "      <td>2</td>\n",
       "      <td>11667</td>\n",
       "      <td>A</td>\n",
       "      <td>B</td>\n",
       "      <td>0</td>\n",
       "      <td>137.50</td>\n",
       "      <td>10000</td>\n",
       "      <td>...</td>\n",
       "      <td>0</td>\n",
       "      <td>0</td>\n",
       "      <td>0</td>\n",
       "      <td>NaN</td>\n",
       "      <td>NaN</td>\n",
       "      <td>0</td>\n",
       "      <td>0</td>\n",
       "      <td>0</td>\n",
       "      <td>0</td>\n",
       "      <td>NVDA</td>\n",
       "    </tr>\n",
       "    <tr>\n",
       "      <th>2</th>\n",
       "      <td>2025-01-03T09:00:00.040850395Z</td>\n",
       "      <td>2025-01-03T09:00:00.040665733Z</td>\n",
       "      <td>10</td>\n",
       "      <td>2</td>\n",
       "      <td>11667</td>\n",
       "      <td>A</td>\n",
       "      <td>A</td>\n",
       "      <td>1</td>\n",
       "      <td>157.05</td>\n",
       "      <td>73</td>\n",
       "      <td>...</td>\n",
       "      <td>0</td>\n",
       "      <td>0</td>\n",
       "      <td>0</td>\n",
       "      <td>NaN</td>\n",
       "      <td>NaN</td>\n",
       "      <td>0</td>\n",
       "      <td>0</td>\n",
       "      <td>0</td>\n",
       "      <td>0</td>\n",
       "      <td>NVDA</td>\n",
       "    </tr>\n",
       "    <tr>\n",
       "      <th>3</th>\n",
       "      <td>2025-01-03T09:00:00.059865276Z</td>\n",
       "      <td>2025-01-03T09:00:00.059698561Z</td>\n",
       "      <td>10</td>\n",
       "      <td>2</td>\n",
       "      <td>11667</td>\n",
       "      <td>A</td>\n",
       "      <td>A</td>\n",
       "      <td>0</td>\n",
       "      <td>138.81</td>\n",
       "      <td>1000</td>\n",
       "      <td>...</td>\n",
       "      <td>0</td>\n",
       "      <td>0</td>\n",
       "      <td>0</td>\n",
       "      <td>NaN</td>\n",
       "      <td>NaN</td>\n",
       "      <td>0</td>\n",
       "      <td>0</td>\n",
       "      <td>0</td>\n",
       "      <td>0</td>\n",
       "      <td>NVDA</td>\n",
       "    </tr>\n",
       "    <tr>\n",
       "      <th>4</th>\n",
       "      <td>2025-01-03T09:00:00.085513156Z</td>\n",
       "      <td>2025-01-03T09:00:00.085346759Z</td>\n",
       "      <td>10</td>\n",
       "      <td>2</td>\n",
       "      <td>11667</td>\n",
       "      <td>A</td>\n",
       "      <td>B</td>\n",
       "      <td>1</td>\n",
       "      <td>121.00</td>\n",
       "      <td>20</td>\n",
       "      <td>...</td>\n",
       "      <td>0</td>\n",
       "      <td>0</td>\n",
       "      <td>0</td>\n",
       "      <td>NaN</td>\n",
       "      <td>NaN</td>\n",
       "      <td>0</td>\n",
       "      <td>0</td>\n",
       "      <td>0</td>\n",
       "      <td>0</td>\n",
       "      <td>NVDA</td>\n",
       "    </tr>\n",
       "  </tbody>\n",
       "</table>\n",
       "<p>5 rows × 74 columns</p>\n",
       "</div>"
      ],
      "text/plain": [
       "                          ts_recv                        ts_event  rtype  \\\n",
       "0  2025-01-03T09:00:00.015869440Z  2025-01-03T09:00:00.015702539Z     10   \n",
       "1  2025-01-03T09:00:00.015938794Z  2025-01-03T09:00:00.015771793Z     10   \n",
       "2  2025-01-03T09:00:00.040850395Z  2025-01-03T09:00:00.040665733Z     10   \n",
       "3  2025-01-03T09:00:00.059865276Z  2025-01-03T09:00:00.059698561Z     10   \n",
       "4  2025-01-03T09:00:00.085513156Z  2025-01-03T09:00:00.085346759Z     10   \n",
       "\n",
       "   publisher_id  instrument_id action side  depth   price   size  ...  \\\n",
       "0             2          11667      A    N      0  140.97    100  ...   \n",
       "1             2          11667      A    B      0  137.50  10000  ...   \n",
       "2             2          11667      A    A      1  157.05     73  ...   \n",
       "3             2          11667      A    A      0  138.81   1000  ...   \n",
       "4             2          11667      A    B      1  121.00     20  ...   \n",
       "\n",
       "   ask_sz_08  bid_ct_08  ask_ct_08  bid_px_09  ask_px_09  bid_sz_09  \\\n",
       "0          0          0          0        NaN        NaN          0   \n",
       "1          0          0          0        NaN        NaN          0   \n",
       "2          0          0          0        NaN        NaN          0   \n",
       "3          0          0          0        NaN        NaN          0   \n",
       "4          0          0          0        NaN        NaN          0   \n",
       "\n",
       "   ask_sz_09  bid_ct_09  ask_ct_09  symbol  \n",
       "0          0          0          0    NVDA  \n",
       "1          0          0          0    NVDA  \n",
       "2          0          0          0    NVDA  \n",
       "3          0          0          0    NVDA  \n",
       "4          0          0          0    NVDA  \n",
       "\n",
       "[5 rows x 74 columns]"
      ]
     },
     "execution_count": 33,
     "metadata": {},
     "output_type": "execute_result"
    }
   ],
   "source": [
    "#\n",
    "if rows_to_load > 0:\n",
    "    df = pd.read_csv(data_dir / f\"xnas-itch-{load_date}.mbp-10.csv\", nrows=rows_to_load)\n",
    "else:\n",
    "    df = pd.read_csv(data_dir / f\"xnas-itch-{load_date}.mbp-10.csv\")\n",
    "#trddf = pd.read_csv(data_dir + f\"xnas-itch-{load_date}.trades.csv\", nrows=nrows)\n",
    "\n",
    "df.head()"
   ]
  },
  {
   "cell_type": "code",
   "execution_count": 34,
   "metadata": {},
   "outputs": [
    {
     "data": {
      "text/plain": [
       "(1500000, 74)"
      ]
     },
     "execution_count": 34,
     "metadata": {},
     "output_type": "execute_result"
    }
   ],
   "source": [
    "df.shape"
   ]
  },
  {
   "cell_type": "markdown",
   "metadata": {},
   "source": [
    "#### Adjust timestamps + drop outside market hours"
   ]
  },
  {
   "cell_type": "code",
   "execution_count": 35,
   "metadata": {},
   "outputs": [
    {
     "name": "stdout",
     "output_type": "stream",
     "text": [
      "09:30:00\n"
     ]
    },
    {
     "data": {
      "text/plain": [
       "'ts_event ts_eventYear ts_eventMonth ts_eventWeek ts_eventDay ts_eventDayofweek ts_eventDayofyear ts_eventIs_month_end ts_eventIs_month_start ts_eventIs_quarter_end ts_eventIs_quarter_start ts_eventIs_year_end ts_eventIs_year_start ts_eventElapsed'"
      ]
     },
     "execution_count": 35,
     "metadata": {},
     "output_type": "execute_result"
    }
   ],
   "source": [
    "df[\"ts_event\"] = pd.to_datetime(df.ts_event, unit=\"ns\")\n",
    "df[\"ts_event\"] = df[\"ts_event\"].dt.tz_convert('US/Eastern')\n",
    "df = df[df[\"ts_event\"].dt.time >= pd.to_datetime(\"09:30\").time()]\n",
    "df = df[df[\"ts_event\"].dt.time <= pd.to_datetime(\"16:00\").time()]\n",
    "#df.set_index('ts_event', inplace=True)\n",
    "\n",
    "market_open = pd.to_datetime(\"09:30\").time()\n",
    "print(market_open)\n",
    "df['ns_since_open'] = (df['ts_event'] - df['ts_event'].dt.normalize() - pd.to_timedelta(market_open.hour, unit='h') - pd.to_timedelta(market_open.minute, unit='m')).dt.total_seconds() * 1e9 + df['ts_event'].dt.nanosecond\n",
    "\n",
    "df = add_datepart(df, 'ts_event', drop=False)\n",
    "\n",
    "' '.join(o for o in df.columns if o.startswith('ts_event'))\n"
   ]
  },
  {
   "cell_type": "markdown",
   "metadata": {},
   "source": [
    "#### Cleanup (drop rows with NA)"
   ]
  },
  {
   "cell_type": "code",
   "execution_count": 36,
   "metadata": {},
   "outputs": [
    {
     "name": "stdout",
     "output_type": "stream",
     "text": [
      "0 dropped out of 1419224\n"
     ]
    }
   ],
   "source": [
    "orig_len = df.shape[0]\n",
    "df.dropna(inplace=True)\n",
    "cur_len = df.shape[0]\n",
    "drop_cnt = orig_len-cur_len\n",
    "if  drop_cnt > 1000:\n",
    "    raise Exception(f\"{drop_cnt} rows dropped, seems a lot\")\n",
    "else:\n",
    "    print(f\"{drop_cnt} dropped out of {orig_len}\")"
   ]
  },
  {
   "cell_type": "code",
   "execution_count": 37,
   "metadata": {},
   "outputs": [
    {
     "data": {
      "image/png": "[encoded data removed]",
      "text/plain": [
       "<Figure size 640x480 with 1 Axes>"
      ]
     },
     "metadata": {},
     "output_type": "display_data"
    }
   ],
   "source": [
    "# Filter the dataframe for action \"T\"\n",
    "df_trades = df[df['action'] == \"T\"]\n",
    "\n",
    "# Group by buckets of 15 minutes\n",
    "df_trades.set_index('ts_event').resample('15min').size().plot(kind='bar', title='Count of Trades Over Time')\n",
    "plot.xlabel('Time')\n",
    "#plot.xticks(rotation=45)\n",
    "labels = [item.get_text().split(' ')[1].split('+')[0][:-3] for item in plot.gca().get_xticklabels()]\n",
    "plot.gca().set_xticklabels(labels)\n",
    "plot.ylabel('Count')\n",
    "plot.show()"
   ]
  },
  {
   "cell_type": "code",
   "execution_count": 38,
   "metadata": {},
   "outputs": [
    {
     "data": {
      "text/plain": [
       "side\n",
       "B    68613\n",
       "A    48104\n",
       "Name: count, dtype: int64"
      ]
     },
     "execution_count": 38,
     "metadata": {},
     "output_type": "execute_result"
    }
   ],
   "source": [
    "trades = df[(df.action == \"T\") & (df.side != \"N\")]\n",
    "cols = [\"action\", \"side\", \"price\", \"size\", \"bid_sz_00\", \"bid_px_00\", \"ask_px_00\", \"ask_sz_00\",\n",
    "         \"bid_sz_01\", \"bid_px_01\", \"ask_px_01\", \"ask_sz_01\",\"sequence\"]\n",
    "trades.side.value_counts()\n"
   ]
  },
  {
   "cell_type": "code",
   "execution_count": 39,
   "metadata": {},
   "outputs": [],
   "source": [
    "def display_around(idx, nbrows=6):\n",
    "    iloc_index = df.index.get_loc(idx)\n",
    "    print(iloc_index)\n",
    "    return df.iloc[iloc_index-1:iloc_index+nbrows-1][cols]\n",
    "idx = 0"
   ]
  },
  {
   "cell_type": "code",
   "execution_count": 40,
   "metadata": {},
   "outputs": [
    {
     "name": "stdout",
     "output_type": "stream",
     "text": [
      "1\n",
      "0 80777\n"
     ]
    },
    {
     "data": {
      "text/html": [
       "<div>\n",
       "<style scoped>\n",
       "    .dataframe tbody tr th:only-of-type {\n",
       "        vertical-align: middle;\n",
       "    }\n",
       "\n",
       "    .dataframe tbody tr th {\n",
       "        vertical-align: top;\n",
       "    }\n",
       "\n",
       "    .dataframe thead th {\n",
       "        text-align: right;\n",
       "    }\n",
       "</style>\n",
       "<table border=\"1\" class=\"dataframe\">\n",
       "  <thead>\n",
       "    <tr style=\"text-align: right;\">\n",
       "      <th></th>\n",
       "      <th>action</th>\n",
       "      <th>side</th>\n",
       "      <th>price</th>\n",
       "      <th>size</th>\n",
       "      <th>bid_sz_00</th>\n",
       "      <th>bid_px_00</th>\n",
       "      <th>ask_px_00</th>\n",
       "      <th>ask_sz_00</th>\n",
       "      <th>bid_sz_01</th>\n",
       "      <th>bid_px_01</th>\n",
       "      <th>ask_px_01</th>\n",
       "      <th>ask_sz_01</th>\n",
       "      <th>sequence</th>\n",
       "    </tr>\n",
       "  </thead>\n",
       "  <tbody>\n",
       "    <tr>\n",
       "      <th>80776</th>\n",
       "      <td>T</td>\n",
       "      <td>N</td>\n",
       "      <td>140.03</td>\n",
       "      <td>1</td>\n",
       "      <td>1479</td>\n",
       "      <td>140.0</td>\n",
       "      <td>140.05</td>\n",
       "      <td>50</td>\n",
       "      <td>50</td>\n",
       "      <td>139.96</td>\n",
       "      <td>140.06</td>\n",
       "      <td>4017</td>\n",
       "      <td>21892058</td>\n",
       "    </tr>\n",
       "    <tr>\n",
       "      <th>80777</th>\n",
       "      <td>T</td>\n",
       "      <td>A</td>\n",
       "      <td>140.00</td>\n",
       "      <td>259</td>\n",
       "      <td>1479</td>\n",
       "      <td>140.0</td>\n",
       "      <td>140.05</td>\n",
       "      <td>50</td>\n",
       "      <td>50</td>\n",
       "      <td>139.96</td>\n",
       "      <td>140.06</td>\n",
       "      <td>4017</td>\n",
       "      <td>21892059</td>\n",
       "    </tr>\n",
       "    <tr>\n",
       "      <th>80778</th>\n",
       "      <td>C</td>\n",
       "      <td>B</td>\n",
       "      <td>140.00</td>\n",
       "      <td>259</td>\n",
       "      <td>1220</td>\n",
       "      <td>140.0</td>\n",
       "      <td>140.05</td>\n",
       "      <td>50</td>\n",
       "      <td>50</td>\n",
       "      <td>139.96</td>\n",
       "      <td>140.06</td>\n",
       "      <td>4017</td>\n",
       "      <td>21892059</td>\n",
       "    </tr>\n",
       "    <tr>\n",
       "      <th>80779</th>\n",
       "      <td>C</td>\n",
       "      <td>A</td>\n",
       "      <td>140.05</td>\n",
       "      <td>30</td>\n",
       "      <td>1220</td>\n",
       "      <td>140.0</td>\n",
       "      <td>140.05</td>\n",
       "      <td>20</td>\n",
       "      <td>50</td>\n",
       "      <td>139.96</td>\n",
       "      <td>140.06</td>\n",
       "      <td>4017</td>\n",
       "      <td>21892146</td>\n",
       "    </tr>\n",
       "    <tr>\n",
       "      <th>80780</th>\n",
       "      <td>C</td>\n",
       "      <td>B</td>\n",
       "      <td>139.91</td>\n",
       "      <td>400</td>\n",
       "      <td>1320</td>\n",
       "      <td>140.0</td>\n",
       "      <td>140.05</td>\n",
       "      <td>20</td>\n",
       "      <td>50</td>\n",
       "      <td>139.96</td>\n",
       "      <td>140.06</td>\n",
       "      <td>4017</td>\n",
       "      <td>21892148</td>\n",
       "    </tr>\n",
       "    <tr>\n",
       "      <th>80781</th>\n",
       "      <td>A</td>\n",
       "      <td>N</td>\n",
       "      <td>140.00</td>\n",
       "      <td>100</td>\n",
       "      <td>1420</td>\n",
       "      <td>140.0</td>\n",
       "      <td>140.05</td>\n",
       "      <td>50</td>\n",
       "      <td>50</td>\n",
       "      <td>139.96</td>\n",
       "      <td>140.06</td>\n",
       "      <td>4017</td>\n",
       "      <td>21893860</td>\n",
       "    </tr>\n",
       "  </tbody>\n",
       "</table>\n",
       "</div>"
      ],
      "text/plain": [
       "      action side   price  size  bid_sz_00  bid_px_00  ask_px_00  ask_sz_00  \\\n",
       "80776      T    N  140.03     1       1479      140.0     140.05         50   \n",
       "80777      T    A  140.00   259       1479      140.0     140.05         50   \n",
       "80778      C    B  140.00   259       1220      140.0     140.05         50   \n",
       "80779      C    A  140.05    30       1220      140.0     140.05         20   \n",
       "80780      C    B  139.91   400       1320      140.0     140.05         20   \n",
       "80781      A    N  140.00   100       1420      140.0     140.05         50   \n",
       "\n",
       "       bid_sz_01  bid_px_01  ask_px_01  ask_sz_01  sequence  \n",
       "80776         50     139.96     140.06       4017  21892058  \n",
       "80777         50     139.96     140.06       4017  21892059  \n",
       "80778         50     139.96     140.06       4017  21892059  \n",
       "80779         50     139.96     140.06       4017  21892146  \n",
       "80780         50     139.96     140.06       4017  21892148  \n",
       "80781         50     139.96     140.06       4017  21893860  "
      ]
     },
     "execution_count": 40,
     "metadata": {},
     "output_type": "execute_result"
    }
   ],
   "source": [
    "x = display_around(trades.index[idx])\n",
    "print(idx, trades.index[idx])\n",
    "idx = idx + 1\n",
    "x"
   ]
  },
  {
   "cell_type": "markdown",
   "metadata": {},
   "source": [
    "#### Add spread"
   ]
  },
  {
   "cell_type": "code",
   "execution_count": 41,
   "metadata": {},
   "outputs": [
    {
     "data": {
      "text/plain": [
       "<Axes: title={'center': 'Spread Over Time'}>"
      ]
     },
     "execution_count": 41,
     "metadata": {},
     "output_type": "execute_result"
    },
    {
     "data": {
      "image/png": "[encoded data removed]",
      "text/plain": [
       "<Figure size 640x480 with 1 Axes>"
      ]
     },
     "metadata": {},
     "output_type": "display_data"
    }
   ],
   "source": [
    "df['spread'] = (df['ask_px_00'] - df['bid_px_00'])/((df['bid_px_00']+df['ask_px_00'])/2)\n",
    "df['spread'].plot(title='Spread Over Time')"
   ]
  },
  {
   "cell_type": "markdown",
   "metadata": {},
   "source": [
    "### calculate imbalance"
   ]
  },
  {
   "cell_type": "code",
   "execution_count": 42,
   "metadata": {},
   "outputs": [],
   "source": [
    "def calc_bid_weight(row):\n",
    "    return  np.array([row['mid']/(row['mid']-row[f'bid_px_0{i}'])*row[f'bid_sz_0{i}'] for i in range(0,10)]).sum(axis=0)\n",
    "def calc_ask_weight(row): \n",
    "    return np.array([row['mid']/(row[f'ask_px_0{i}']-row['mid'])*row[f'ask_sz_0{i}'] for i in range(0,10)]).sum(axis=0)    "
   ]
  },
  {
   "cell_type": "code",
   "execution_count": 43,
   "metadata": {},
   "outputs": [
    {
     "data": {
      "text/html": [
       "<div>\n",
       "<style scoped>\n",
       "    .dataframe tbody tr th:only-of-type {\n",
       "        vertical-align: middle;\n",
       "    }\n",
       "\n",
       "    .dataframe tbody tr th {\n",
       "        vertical-align: top;\n",
       "    }\n",
       "\n",
       "    .dataframe thead th {\n",
       "        text-align: right;\n",
       "    }\n",
       "</style>\n",
       "<table border=\"1\" class=\"dataframe\">\n",
       "  <thead>\n",
       "    <tr style=\"text-align: right;\">\n",
       "      <th></th>\n",
       "      <th>bid_weight</th>\n",
       "      <th>ask_weight</th>\n",
       "      <th>bid_weight_log</th>\n",
       "      <th>ask_weight_log</th>\n",
       "    </tr>\n",
       "  </thead>\n",
       "  <tbody>\n",
       "    <tr>\n",
       "      <th>count</th>\n",
       "      <td>1.419224e+06</td>\n",
       "      <td>1.419224e+06</td>\n",
       "      <td>1.419224e+06</td>\n",
       "      <td>1.419224e+06</td>\n",
       "    </tr>\n",
       "    <tr>\n",
       "      <th>mean</th>\n",
       "      <td>2.860703e+07</td>\n",
       "      <td>6.177271e+07</td>\n",
       "      <td>1.690730e+01</td>\n",
       "      <td>1.709416e+01</td>\n",
       "    </tr>\n",
       "    <tr>\n",
       "      <th>std</th>\n",
       "      <td>3.345243e+07</td>\n",
       "      <td>2.452760e+08</td>\n",
       "      <td>6.662027e-01</td>\n",
       "      <td>9.342870e-01</td>\n",
       "    </tr>\n",
       "    <tr>\n",
       "      <th>min</th>\n",
       "      <td>1.238872e+06</td>\n",
       "      <td>6.523670e+05</td>\n",
       "      <td>1.402971e+01</td>\n",
       "      <td>1.338836e+01</td>\n",
       "    </tr>\n",
       "    <tr>\n",
       "      <th>25%</th>\n",
       "      <td>1.516365e+07</td>\n",
       "      <td>1.533947e+07</td>\n",
       "      <td>1.653441e+01</td>\n",
       "      <td>1.654594e+01</td>\n",
       "    </tr>\n",
       "    <tr>\n",
       "      <th>50%</th>\n",
       "      <td>2.110311e+07</td>\n",
       "      <td>2.181425e+07</td>\n",
       "      <td>1.686493e+01</td>\n",
       "      <td>1.689807e+01</td>\n",
       "    </tr>\n",
       "    <tr>\n",
       "      <th>75%</th>\n",
       "      <td>3.117465e+07</td>\n",
       "      <td>3.739664e+07</td>\n",
       "      <td>1.725512e+01</td>\n",
       "      <td>1.743709e+01</td>\n",
       "    </tr>\n",
       "    <tr>\n",
       "      <th>max</th>\n",
       "      <td>1.335001e+09</td>\n",
       "      <td>1.012570e+10</td>\n",
       "      <td>2.101220e+01</td>\n",
       "      <td>2.303834e+01</td>\n",
       "    </tr>\n",
       "  </tbody>\n",
       "</table>\n",
       "</div>"
      ],
      "text/plain": [
       "         bid_weight    ask_weight  bid_weight_log  ask_weight_log\n",
       "count  1.419224e+06  1.419224e+06    1.419224e+06    1.419224e+06\n",
       "mean   2.860703e+07  6.177271e+07    1.690730e+01    1.709416e+01\n",
       "std    3.345243e+07  2.452760e+08    6.662027e-01    9.342870e-01\n",
       "min    1.238872e+06  6.523670e+05    1.402971e+01    1.338836e+01\n",
       "25%    1.516365e+07  1.533947e+07    1.653441e+01    1.654594e+01\n",
       "50%    2.110311e+07  2.181425e+07    1.686493e+01    1.689807e+01\n",
       "75%    3.117465e+07  3.739664e+07    1.725512e+01    1.743709e+01\n",
       "max    1.335001e+09  1.012570e+10    2.101220e+01    2.303834e+01"
      ]
     },
     "execution_count": 43,
     "metadata": {},
     "output_type": "execute_result"
    }
   ],
   "source": [
    "# want to calculate the amount but also how spread out it is\n",
    "df['mid'] = (df['bid_px_00']+df['ask_px_00'])/2\n",
    "df['bid_weight'] = calc_bid_weight(df)\n",
    "df['ask_weight'] = calc_ask_weight(df)\n",
    "df['bid_weight_log'] = np.log(df['bid_weight'])\n",
    "df['ask_weight_log'] = np.log(df['ask_weight'])\n",
    "\n",
    "df[['bid_weight', 'ask_weight', 'bid_weight_log', 'ask_weight_log']].describe()"
   ]
  },
  {
   "cell_type": "code",
   "execution_count": 44,
   "metadata": {},
   "outputs": [
    {
     "data": {
      "image/png": "[encoded data removed]",
      "text/plain": [
       "<Figure size 640x480 with 2 Axes>"
      ]
     },
     "metadata": {},
     "output_type": "display_data"
    }
   ],
   "source": [
    "\n",
    "ax = df.set_index('ts_event')[['bid_weight_log', 'ask_weight_log']].resample('5min').mean().plot()\n",
    "df[df['action'] == 'T'].set_index('ts_event')['price'].resample('5min').mean().plot(ax=ax, secondary_y=True, color='r', label='Price')\n",
    "ax.set_xlabel('Time')\n",
    "ax.set_ylabel('Log Weight')\n",
    "ax.right_ax.set_ylabel('Price')\n",
    "ax.set_title('Bid and Ask Weight Log Over Time with Trade Prices')\n",
    "ax.legend(loc='upper left')\n",
    "ax.right_ax.legend(loc='upper right')\n",
    "plot.show()"
   ]
  },
  {
   "cell_type": "markdown",
   "metadata": {},
   "source": [
    "### Calculating trades on the bid and ask side\n"
   ]
  },
  {
   "cell_type": "code",
   "execution_count": 45,
   "metadata": {
    "vscode": {
     "languageId": "ruby"
    }
   },
   "outputs": [],
   "source": [
    "# add a column with a the traded size by row, with 0 for non trade rows\n",
    "# this makes the next calculation easier\n",
    "df[\"traded_bid_size\"] = df[\"size\"] * ((df[\"action\"] == \"T\") & (df[\"side\"] == \"B\"))\n",
    "df[\"traded_ask_size\"] = df[\"size\"] * ((df[\"action\"] == \"T\") & (df[\"side\"] == \"A\"))\n",
    "df[\"is_trade_bid\"] = ((df[\"action\"] == \"T\") & (df[\"side\"] == \"B\")) * 1\n",
    "df[\"is_trade_ask\"] = ((df[\"action\"] == \"T\") & (df[\"side\"] == \"A\")) * 1\n",
    "\n",
    "def add_rolling_trades_cols(period):\n",
    "    # temporary dataset so we can reindex\n",
    "    x = df[['ts_event', 'traded_bid_size', 'traded_ask_size', 'is_trade_bid', 'is_trade_ask']].copy()\n",
    "    x['original_index'] = df.index\n",
    "    x.set_index(\"ts_event\", inplace=True)\n",
    "\n",
    "    # calculate\n",
    "    x[f'rolling_{period}_bid_size'] = x[\"traded_bid_size\"].rolling(period).sum()\n",
    "    x[f'rolling_{period}_ask_size'] = x[\"traded_ask_size\"].rolling(period).sum()\n",
    "    x[f'rolling_{period}_bid_cnt'] = x[\"is_trade_bid\"].rolling(period).sum()\n",
    "    x[f'rolling_{period}_ask_cnt'] = x[\"is_trade_ask\"].rolling(period).sum()\n",
    "\n",
    "    # merge back to original dataframe\n",
    "    x.set_index(\"original_index\", inplace=True)\n",
    "    df[f'rolling_{period}_bid_size'] = x[f'rolling_{period}_bid_size']\n",
    "    df[f'rolling_{period}_ask_size'] = x[f'rolling_{period}_ask_size']\n",
    "    df[f'rolling_{period}_bid_cnt'] = x[f'rolling_{period}_bid_cnt']\n",
    "    df[f'rolling_{period}_ask_cnt'] = x[f'rolling_{period}_ask_cnt']\n",
    "\n",
    "\n",
    "add_rolling_trades_cols('30s')\n",
    "add_rolling_trades_cols('5min')\n",
    "\n",
    "# and cleanup\n",
    "_ = df.drop(columns=['traded_bid_size', 'traded_ask_size', 'is_trade_bid', 'is_trade_ask'])\n",
    "\n"
   ]
  },
  {
   "cell_type": "code",
   "execution_count": 46,
   "metadata": {},
   "outputs": [
    {
     "data": {
      "image/png": "[encoded data removed]",
      "text/plain": [
       "<Figure size 640x480 with 2 Axes>"
      ]
     },
     "metadata": {},
     "output_type": "display_data"
    }
   ],
   "source": [
    "ax = df.set_index('ts_event')[['rolling_30s_bid_size', 'rolling_30s_ask_size']].resample('5min').mean().plot()\n",
    "df.set_index('ts_event')[['rolling_30s_bid_cnt', 'rolling_30s_ask_cnt']].resample('5min').mean().plot(ax=ax, secondary_y=True)\n",
    "ax.set_xlabel('Time')\n",
    "ax.set_ylabel('size')\n",
    "ax.right_ax.set_ylabel('count')\n",
    "ax.legend(loc='upper left')\n",
    "ax.right_ax.legend(loc='upper right')\n",
    "plot.show()"
   ]
  },
  {
   "cell_type": "markdown",
   "metadata": {},
   "source": [
    "### Identify the best hedge position for each row"
   ]
  },
  {
   "cell_type": "code",
   "execution_count": 47,
   "metadata": {},
   "outputs": [
    {
     "data": {
      "text/plain": [
       "(5000, 108)"
      ]
     },
     "execution_count": 47,
     "metadata": {},
     "output_type": "execute_result"
    }
   ],
   "source": [
    "rdf = df[df['action'] == 'A'].sample(n=day_sample_count)\n",
    "#rdf['hedge_buy_exec_idx'] = rdf.apply(lambda row: df.index[(df.index > row.name) & (df['ask_px_00'] <= row['bid_px_00'])].min(), axis=1)\n",
    "#rdf['hedge_sell_exec_idx'] = rdf.apply(lambda row: df.index[(df.index > row.name) & (df['bid_px_00'] >= row['ask_px_00'])].min(), axis=1)\n",
    "\n",
    "rdf['hedge_buy_stop_idx'] = rdf.apply(lambda row: df.index[(df.index > row.name) & (df['bid_px_00'] >= row['bid_px_00']+0.02)].min(), axis=1)\n",
    "rdf['hedge_sell_stop_idx'] = rdf.apply(lambda row: df.index[(df.index > row.name) & (df['ask_px_00'] <= row['ask_px_00']-0.02)].min(), axis=1)\n",
    "\n",
    "rdf.shape"
   ]
  },
  {
   "cell_type": "code",
   "execution_count": 48,
   "metadata": {},
   "outputs": [],
   "source": [
    "# fix NaN values\n",
    "rdf['hedge_buy_stop_idx'] = rdf['hedge_buy_stop_idx'].where(~rdf['hedge_buy_stop_idx'].isna(), rdf.index)\n",
    "rdf['hedge_sell_stop_idx'] = rdf['hedge_sell_stop_idx'].where(~rdf['hedge_sell_stop_idx'].isna(), rdf.index)\n",
    "\n",
    "# convert idexes to int\n",
    "rdf['hedge_buy_stop_idx'] = rdf['hedge_buy_stop_idx'].astype(int)\n",
    "rdf['hedge_sell_stop_idx'] = rdf['hedge_sell_stop_idx'].astype(int)\n",
    "\n",
    "\n",
    "def optimal_buy_price(row):\n",
    "    idx = df.index.get_loc(row.name)\n",
    "    return df.iloc[idx:idx+1+row['hedge_buy_stop_idx']]['ask_px_00'].min()\n",
    "\n",
    "def optimal_sell_price(row):\n",
    "    idx = df.index.get_loc(row.name)\n",
    "    return df.iloc[idx:idx+1+row['hedge_sell_stop_idx']]['bid_px_00'].max()\n",
    "\n",
    "# calculate ideal position between current point and stop loss point \n",
    "rdf['ideal_buy_price'] = rdf.apply(optimal_buy_price, axis=1)\n",
    "rdf['ideal_sell_price'] = rdf.apply(optimal_sell_price, axis=1)\n",
    "\n",
    "rdf['ideal_buy_price_spread'] = (rdf['ideal_buy_price'] - rdf['bid_px_00']) / (rdf['ask_px_00'] - rdf['bid_px_00'])\n",
    "rdf['ideal_sell_price_spread'] = (rdf['ideal_sell_price'] - rdf['ask_px_00']) / (rdf['ask_px_00'] - rdf['bid_px_00'])\n",
    "\n"
   ]
  },
  {
   "cell_type": "code",
   "execution_count": 51,
   "metadata": {},
   "outputs": [
    {
     "data": {
      "text/html": [
       "<div>\n",
       "<style scoped>\n",
       "    .dataframe tbody tr th:only-of-type {\n",
       "        vertical-align: middle;\n",
       "    }\n",
       "\n",
       "    .dataframe tbody tr th {\n",
       "        vertical-align: top;\n",
       "    }\n",
       "\n",
       "    .dataframe thead th {\n",
       "        text-align: right;\n",
       "    }\n",
       "</style>\n",
       "<table border=\"1\" class=\"dataframe\">\n",
       "  <thead>\n",
       "    <tr style=\"text-align: right;\">\n",
       "      <th></th>\n",
       "      <th>ideal_buy_price_spread</th>\n",
       "      <th>ideal_buy_price</th>\n",
       "      <th>bid_px_00</th>\n",
       "      <th>ask_px_00</th>\n",
       "    </tr>\n",
       "  </thead>\n",
       "  <tbody>\n",
       "    <tr>\n",
       "      <th>626069</th>\n",
       "      <td>0.50</td>\n",
       "      <td>142.55</td>\n",
       "      <td>142.54</td>\n",
       "      <td>142.56</td>\n",
       "    </tr>\n",
       "    <tr>\n",
       "      <th>279049</th>\n",
       "      <td>1.00</td>\n",
       "      <td>141.60</td>\n",
       "      <td>141.59</td>\n",
       "      <td>141.60</td>\n",
       "    </tr>\n",
       "    <tr>\n",
       "      <th>1499693</th>\n",
       "      <td>0.50</td>\n",
       "      <td>143.19</td>\n",
       "      <td>143.18</td>\n",
       "      <td>143.20</td>\n",
       "    </tr>\n",
       "    <tr>\n",
       "      <th>100099</th>\n",
       "      <td>0.25</td>\n",
       "      <td>140.25</td>\n",
       "      <td>140.24</td>\n",
       "      <td>140.28</td>\n",
       "    </tr>\n",
       "    <tr>\n",
       "      <th>633589</th>\n",
       "      <td>1.00</td>\n",
       "      <td>142.78</td>\n",
       "      <td>142.76</td>\n",
       "      <td>142.78</td>\n",
       "    </tr>\n",
       "    <tr>\n",
       "      <th>...</th>\n",
       "      <td>...</td>\n",
       "      <td>...</td>\n",
       "      <td>...</td>\n",
       "      <td>...</td>\n",
       "    </tr>\n",
       "    <tr>\n",
       "      <th>1492620</th>\n",
       "      <td>0.50</td>\n",
       "      <td>143.09</td>\n",
       "      <td>143.08</td>\n",
       "      <td>143.10</td>\n",
       "    </tr>\n",
       "    <tr>\n",
       "      <th>1303400</th>\n",
       "      <td>0.50</td>\n",
       "      <td>142.53</td>\n",
       "      <td>142.52</td>\n",
       "      <td>142.54</td>\n",
       "    </tr>\n",
       "    <tr>\n",
       "      <th>1303532</th>\n",
       "      <td>1.00</td>\n",
       "      <td>142.56</td>\n",
       "      <td>142.54</td>\n",
       "      <td>142.56</td>\n",
       "    </tr>\n",
       "    <tr>\n",
       "      <th>386285</th>\n",
       "      <td>1.00</td>\n",
       "      <td>142.33</td>\n",
       "      <td>142.32</td>\n",
       "      <td>142.33</td>\n",
       "    </tr>\n",
       "    <tr>\n",
       "      <th>263479</th>\n",
       "      <td>0.50</td>\n",
       "      <td>141.57</td>\n",
       "      <td>141.56</td>\n",
       "      <td>141.58</td>\n",
       "    </tr>\n",
       "  </tbody>\n",
       "</table>\n",
       "<p>132 rows × 4 columns</p>\n",
       "</div>"
      ],
      "text/plain": [
       "         ideal_buy_price_spread  ideal_buy_price  bid_px_00  ask_px_00\n",
       "626069                     0.50           142.55     142.54     142.56\n",
       "279049                     1.00           141.60     141.59     141.60\n",
       "1499693                    0.50           143.19     143.18     143.20\n",
       "100099                     0.25           140.25     140.24     140.28\n",
       "633589                     1.00           142.78     142.76     142.78\n",
       "...                         ...              ...        ...        ...\n",
       "1492620                    0.50           143.09     143.08     143.10\n",
       "1303400                    0.50           142.53     142.52     142.54\n",
       "1303532                    1.00           142.56     142.54     142.56\n",
       "386285                     1.00           142.33     142.32     142.33\n",
       "263479                     0.50           141.57     141.56     141.58\n",
       "\n",
       "[132 rows x 4 columns]"
      ]
     },
     "execution_count": 51,
     "metadata": {},
     "output_type": "execute_result"
    }
   ],
   "source": [
    "rdf[['ideal_buy_price_spread', 'ideal_buy_price', 'bid_px_00', 'ask_px_00']]\n",
    "rdf[rdf.ideal_buy_price_spread>0][['ideal_buy_price_spread', 'ideal_buy_price', 'bid_px_00', 'ask_px_00']]"
   ]
  },
  {
   "cell_type": "code",
   "execution_count": 27,
   "metadata": {},
   "outputs": [
    {
     "data": {
      "text/plain": [
       "<Axes: title={'center': 'Ideal Buy Price Spread'}, ylabel='Frequency'>"
      ]
     },
     "execution_count": 27,
     "metadata": {},
     "output_type": "execute_result"
    },
    {
     "data": {
      "image/png": "[encoded data removed]",
      "text/plain": [
       "<Figure size 640x480 with 1 Axes>"
      ]
     },
     "metadata": {},
     "output_type": "display_data"
    }
   ],
   "source": [
    "rdf['ideal_buy_price_spread'].plot(kind='hist', title='Ideal Buy Price Spread')"
   ]
  },
  {
   "cell_type": "code",
   "execution_count": 20,
   "metadata": {},
   "outputs": [],
   "source": [
    "idx = 0"
   ]
  },
  {
   "cell_type": "code",
   "execution_count": 21,
   "metadata": {},
   "outputs": [
    {
     "name": "stdout",
     "output_type": "stream",
     "text": [
      "bid_px_00            142.9\n",
      "ask_px_00           142.91\n",
      "ideal_buy_price     142.86\n",
      "ideal_sell_price    143.26\n",
      "Name: 1480384, dtype: object\n"
     ]
    },
    {
     "data": {
      "text/html": [
       "<div>\n",
       "<style scoped>\n",
       "    .dataframe tbody tr th:only-of-type {\n",
       "        vertical-align: middle;\n",
       "    }\n",
       "\n",
       "    .dataframe tbody tr th {\n",
       "        vertical-align: top;\n",
       "    }\n",
       "\n",
       "    .dataframe thead th {\n",
       "        text-align: right;\n",
       "    }\n",
       "</style>\n",
       "<table border=\"1\" class=\"dataframe\">\n",
       "  <thead>\n",
       "    <tr style=\"text-align: right;\">\n",
       "      <th></th>\n",
       "      <th>bid_px_00</th>\n",
       "      <th>ask_px_00</th>\n",
       "    </tr>\n",
       "  </thead>\n",
       "  <tbody>\n",
       "    <tr>\n",
       "      <th>1480384</th>\n",
       "      <td>142.90</td>\n",
       "      <td>142.91</td>\n",
       "    </tr>\n",
       "    <tr>\n",
       "      <th>1480385</th>\n",
       "      <td>142.90</td>\n",
       "      <td>142.91</td>\n",
       "    </tr>\n",
       "    <tr>\n",
       "      <th>1480386</th>\n",
       "      <td>142.90</td>\n",
       "      <td>142.91</td>\n",
       "    </tr>\n",
       "    <tr>\n",
       "      <th>1480387</th>\n",
       "      <td>142.90</td>\n",
       "      <td>142.91</td>\n",
       "    </tr>\n",
       "    <tr>\n",
       "      <th>1480388</th>\n",
       "      <td>142.90</td>\n",
       "      <td>142.91</td>\n",
       "    </tr>\n",
       "    <tr>\n",
       "      <th>...</th>\n",
       "      <td>...</td>\n",
       "      <td>...</td>\n",
       "    </tr>\n",
       "    <tr>\n",
       "      <th>1481783</th>\n",
       "      <td>142.92</td>\n",
       "      <td>142.94</td>\n",
       "    </tr>\n",
       "    <tr>\n",
       "      <th>1481784</th>\n",
       "      <td>142.92</td>\n",
       "      <td>142.94</td>\n",
       "    </tr>\n",
       "    <tr>\n",
       "      <th>1481785</th>\n",
       "      <td>142.92</td>\n",
       "      <td>142.94</td>\n",
       "    </tr>\n",
       "    <tr>\n",
       "      <th>1481786</th>\n",
       "      <td>142.92</td>\n",
       "      <td>142.94</td>\n",
       "    </tr>\n",
       "    <tr>\n",
       "      <th>1481787</th>\n",
       "      <td>142.92</td>\n",
       "      <td>142.94</td>\n",
       "    </tr>\n",
       "  </tbody>\n",
       "</table>\n",
       "<p>1404 rows × 2 columns</p>\n",
       "</div>"
      ],
      "text/plain": [
       "         bid_px_00  ask_px_00\n",
       "1480384     142.90     142.91\n",
       "1480385     142.90     142.91\n",
       "1480386     142.90     142.91\n",
       "1480387     142.90     142.91\n",
       "1480388     142.90     142.91\n",
       "...            ...        ...\n",
       "1481783     142.92     142.94\n",
       "1481784     142.92     142.94\n",
       "1481785     142.92     142.94\n",
       "1481786     142.92     142.94\n",
       "1481787     142.92     142.94\n",
       "\n",
       "[1404 rows x 2 columns]"
      ]
     },
     "execution_count": 21,
     "metadata": {},
     "output_type": "execute_result"
    }
   ],
   "source": [
    "rdf.iloc[idx:idx+1][['bid_px_00', 'ask_px_00', 'ideal_buy_price', 'ideal_sell_price']]\n",
    "stopidx = rdf.iloc[idx]['hedge_buy_stop_idx']\n",
    "row = rdf.iloc[idx]\n",
    "rowiloc = df.index.get_loc(row.name)\n",
    "stopiloc = df.index.get_loc(stopidx)\n",
    "print(row[['bid_px_00', 'ask_px_00', 'ideal_buy_price', 'ideal_sell_price']])\n",
    "df.iloc[rowiloc:stopiloc][['bid_px_00', 'ask_px_00']]"
   ]
  },
  {
   "cell_type": "code",
   "execution_count": 22,
   "metadata": {},
   "outputs": [
    {
     "data": {
      "text/plain": [
       "(np.float64(142.8), np.float64(142.8))"
      ]
     },
     "execution_count": 22,
     "metadata": {},
     "output_type": "execute_result"
    }
   ],
   "source": [
    "row = df.loc[1459267]\n",
    "df.index[(df.index > row.name) & (df['ask_px_00'] <= row['bid_px_00'])].min()\n",
    "row.ask_px_00, df.loc[row.name:].ask_px_00.min()"
   ]
  },
  {
   "cell_type": "markdown",
   "metadata": {},
   "source": [
    "#### Isolate buy and sell into 2 rows"
   ]
  },
  {
   "cell_type": "code",
   "execution_count": 54,
   "metadata": {},
   "outputs": [
    {
     "name": "stdout",
     "output_type": "stream",
     "text": [
      "<class 'pandas.core.frame.DataFrame'>\n",
      "Index: 10000 entries, 1406159 to 254845\n",
      "Data columns (total 2 columns):\n",
      " #   Column       Non-Null Count  Dtype  \n",
      "---  ------       --------------  -----  \n",
      " 0   is_buy       10000 non-null  bool   \n",
      " 1   ideal_price  10000 non-null  float64\n",
      "dtypes: bool(1), float64(1)\n",
      "memory usage: 166.0 KB\n"
     ]
    }
   ],
   "source": [
    "rdf_buy = rdf.copy()\n",
    "rdf_buy['is_buy'] = True\n",
    "rdf_buy['ideal_price'] = rdf_buy['ideal_buy_price']\n",
    "rdf_buy['ideal_price_spread'] = rdf_buy['ideal_buy_price_spread']\n",
    "rdf_buy.drop(columns=['ideal_buy_price'], inplace=True)\n",
    "\n",
    "rdf_sell = rdf.copy()\n",
    "rdf_sell['is_buy'] = False\n",
    "rdf_sell['ideal_price'] = rdf_sell['ideal_sell_price']\n",
    "rdf_sell['ideal_price_spread'] = rdf_buy['ideal_sell_price_spread']\n",
    "rdf_sell.drop(columns=['ideal_sell_price'], inplace=True)\n",
    "\n",
    "rdf_combined = pd.concat([rdf_buy, rdf_sell])\n",
    "rdf_combined[['is_buy','ideal_price']].info()\n"
   ]
  },
  {
   "cell_type": "markdown",
   "metadata": {},
   "source": [
    "#### cleanup columns"
   ]
  },
  {
   "cell_type": "code",
   "execution_count": 55,
   "metadata": {},
   "outputs": [],
   "source": [
    "for i in range(0, 10):\n",
    "    rdf_combined.drop(columns=[f'bid_px_0{i}', f'ask_px_0{i}'], inplace=True)\n",
    "    rdf_combined.drop(columns=[f'bid_sz_0{i}', f'ask_sz_0{i}'], inplace=True)\n",
    "    rdf_combined.drop(columns=[f'bid_ct_0{i}', f'ask_ct_0{i}'], inplace=True)\n",
    "\n"
   ]
  },
  {
   "cell_type": "markdown",
   "metadata": {},
   "source": [
    "#### Save result"
   ]
  },
  {
   "cell_type": "code",
   "execution_count": 56,
   "metadata": {},
   "outputs": [],
   "source": [
    "os.makedirs(save_dir, exist_ok=True)\n",
    "rdf_combined.to_csv(save_dir / 'rdf_output.csv', index=False)"
   ]
  },
  {
   "cell_type": "markdown",
   "metadata": {},
   "source": [
    "### search of one order triggering more than one execution"
   ]
  },
  {
   "cell_type": "markdown",
   "metadata": {},
   "source": [
    "### search of iceberg orders"
   ]
  },
  {
   "cell_type": "markdown",
   "metadata": {},
   "source": [
    "### Consider latency"
   ]
  }
 ],
 "metadata": {
  "kernelspec": {
   "display_name": "ai",
   "language": "python",
   "name": "python3"
  },
  "language_info": {
   "codemirror_mode": {
    "name": "ipython",
    "version": 3
   },
   "file_extension": ".py",
   "mimetype": "text/x-python",
   "name": "python",
   "nbconvert_exporter": "python",
   "pygments_lexer": "ipython3",
   "version": "3.10.16"
  }
 },
 "nbformat": 4,
 "nbformat_minor": 2
}
