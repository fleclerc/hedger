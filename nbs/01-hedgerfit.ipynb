{
 "cells": [
  {
   "cell_type": "code",
   "execution_count": 78,
   "metadata": {},
   "outputs": [],
   "source": [
    "import pandas as pd\n",
    "import numpy as np\n",
    "import matplotlib.pyplot as plot\n",
    "from fastai.tabular.all import *\n",
    "from pathlib import Path\n",
    "from sklearn.ensemble import RandomForestRegressor\n",
    "from sklearn.tree import DecisionTreeRegressor, export_graphviz\n",
    "from dtreeviz.trees import *\n",
    "\n",
    "pd.options.display.max_rows = 60\n"
   ]
  },
  {
   "cell_type": "code",
   "execution_count": 79,
   "metadata": {},
   "outputs": [],
   "source": [
    "save_dir = Path(\"../market/save\")\n",
    "df = pd.read_csv(save_dir / f\"rdf_output.csv\")\n"
   ]
  },
  {
   "cell_type": "code",
   "execution_count": 80,
   "metadata": {},
   "outputs": [
    {
     "data": {
      "text/plain": [
       "(10000, 57)"
      ]
     },
     "execution_count": 80,
     "metadata": {},
     "output_type": "execute_result"
    }
   ],
   "source": [
    "df.shape"
   ]
  },
  {
   "cell_type": "code",
   "execution_count": 81,
   "metadata": {},
   "outputs": [
    {
     "data": {
      "application/vnd.microsoft.datawrangler.viewer.v0+json": {
       "columns": [
        {
         "name": "index",
         "rawType": "int64",
         "type": "integer"
        },
        {
         "name": "ns_since_open",
         "rawType": "float64",
         "type": "float"
        },
        {
         "name": "ts_in_delta",
         "rawType": "int64",
         "type": "integer"
        },
        {
         "name": "ts_eventElapsed",
         "rawType": "float64",
         "type": "float"
        }
       ],
       "conversionMethod": "pd.DataFrame",
       "ref": "490bffcc-8128-466f-92cd-3ac2921d9363",
       "rows": [
        [
         "0",
         "1247943645958.0",
         "167064",
         "1735915847.0"
        ],
        [
         "1",
         "366868254722.0",
         "167870",
         "1735914966.0"
        ],
        [
         "2",
         "451188709074.0",
         "169914",
         "1735915051.0"
        ],
        [
         "3",
         "957281366592.0",
         "170682",
         "1735915557.0"
        ],
        [
         "4",
         "2028339414424.0",
         "168396",
         "1735916628.0"
        ],
        [
         "5",
         "1415480171370.0",
         "166326",
         "1735916015.0"
        ],
        [
         "6",
         "752144310320.0",
         "166048",
         "1735915352.0"
        ],
        [
         "7",
         "571067236480.0",
         "166475",
         "1735915171.0"
        ],
        [
         "8",
         "685898728072.0",
         "167255",
         "1735915285.0"
        ],
        [
         "9",
         "2192346349682.0",
         "166390",
         "1735916792.0"
        ],
        [
         "10",
         "37502328138.0",
         "166347",
         "1735914637.0"
        ],
        [
         "11",
         "1443849039442.0",
         "167097",
         "1735916043.0"
        ],
        [
         "12",
         "1393583183500.0",
         "167535",
         "1735915993.0"
        ],
        [
         "13",
         "1578760131972.0",
         "168069",
         "1735916178.0"
        ],
        [
         "14",
         "2225357189446.0",
         "167536",
         "1735916825.0"
        ],
        [
         "15",
         "308672038606.0",
         "171142",
         "1735914908.0"
        ],
        [
         "16",
         "882862446706.0",
         "166250",
         "1735915482.0"
        ],
        [
         "17",
         "2406022534408.0",
         "166123",
         "1735917006.0"
        ],
        [
         "18",
         "1234341153870.0",
         "168493",
         "1735915834.0"
        ],
        [
         "19",
         "2069603018106.0",
         "174077",
         "1735916669.0"
        ],
        [
         "20",
         "908148068762.0",
         "166267",
         "1735915508.0"
        ],
        [
         "21",
         "2362385760458.0",
         "166104",
         "1735916962.0"
        ],
        [
         "22",
         "1873581788952.0",
         "166550",
         "1735916473.0"
        ],
        [
         "23",
         "888716384564.0",
         "166556",
         "1735915488.0"
        ],
        [
         "24",
         "424017971498.0",
         "167138",
         "1735915024.0"
        ],
        [
         "25",
         "861785170730.0",
         "166066",
         "1735915461.0"
        ],
        [
         "26",
         "425028500426.0",
         "166986",
         "1735915025.0"
        ],
        [
         "27",
         "300536276836.0",
         "166854",
         "1735914900.0"
        ],
        [
         "28",
         "1277836071024.0",
         "167805",
         "1735915877.0"
        ],
        [
         "29",
         "965893499294.0",
         "168398",
         "1735915565.0"
        ],
        [
         "30",
         "1801368222818.0",
         "166467",
         "1735916401.0"
        ],
        [
         "31",
         "2141306368458.0",
         "166328",
         "1735916741.0"
        ],
        [
         "32",
         "570423116496.0",
         "169265",
         "1735915170.0"
        ],
        [
         "33",
         "711250804746.0",
         "166239",
         "1735915311.0"
        ],
        [
         "34",
         "2305750789192.0",
         "167205",
         "1735916905.0"
        ],
        [
         "35",
         "1203666963356.0",
         "167228",
         "1735915803.0"
        ],
        [
         "36",
         "1620707425998.0",
         "172195",
         "1735916220.0"
        ],
        [
         "37",
         "806897631942.0",
         "166309",
         "1735915406.0"
        ],
        [
         "38",
         "264887714134.0",
         "168319",
         "1735914864.0"
        ],
        [
         "39",
         "90142143916.0",
         "165939",
         "1735914690.0"
        ],
        [
         "40",
         "699787227520.0",
         "166270",
         "1735915299.0"
        ],
        [
         "41",
         "52151744608.0",
         "166310",
         "1735914652.0"
        ],
        [
         "42",
         "954721530644.0",
         "166338",
         "1735915554.0"
        ],
        [
         "43",
         "487273019226.0",
         "166378",
         "1735915087.0"
        ],
        [
         "44",
         "986983035760.0",
         "166871",
         "1735915586.0"
        ],
        [
         "45",
         "983419928410.0",
         "166503",
         "1735915583.0"
        ],
        [
         "46",
         "1419420426378.0",
         "166811",
         "1735916019.0"
        ],
        [
         "47",
         "933550047164.0",
         "166093",
         "1735915533.0"
        ],
        [
         "48",
         "2260465980762.0",
         "166003",
         "1735916860.0"
        ],
        [
         "49",
         "1671731374886.0",
         "166222",
         "1735916271.0"
        ]
       ],
       "shape": {
        "columns": 3,
        "rows": 10000
       }
      },
      "text/html": [
       "<div>\n",
       "<style scoped>\n",
       "    .dataframe tbody tr th:only-of-type {\n",
       "        vertical-align: middle;\n",
       "    }\n",
       "\n",
       "    .dataframe tbody tr th {\n",
       "        vertical-align: top;\n",
       "    }\n",
       "\n",
       "    .dataframe thead th {\n",
       "        text-align: right;\n",
       "    }\n",
       "</style>\n",
       "<table border=\"1\" class=\"dataframe\">\n",
       "  <thead>\n",
       "    <tr style=\"text-align: right;\">\n",
       "      <th></th>\n",
       "      <th>ns_since_open</th>\n",
       "      <th>ts_in_delta</th>\n",
       "      <th>ts_eventElapsed</th>\n",
       "    </tr>\n",
       "  </thead>\n",
       "  <tbody>\n",
       "    <tr>\n",
       "      <th>0</th>\n",
       "      <td>1.247944e+12</td>\n",
       "      <td>167064</td>\n",
       "      <td>1.735916e+09</td>\n",
       "    </tr>\n",
       "    <tr>\n",
       "      <th>1</th>\n",
       "      <td>3.668683e+11</td>\n",
       "      <td>167870</td>\n",
       "      <td>1.735915e+09</td>\n",
       "    </tr>\n",
       "    <tr>\n",
       "      <th>2</th>\n",
       "      <td>4.511887e+11</td>\n",
       "      <td>169914</td>\n",
       "      <td>1.735915e+09</td>\n",
       "    </tr>\n",
       "    <tr>\n",
       "      <th>3</th>\n",
       "      <td>9.572814e+11</td>\n",
       "      <td>170682</td>\n",
       "      <td>1.735916e+09</td>\n",
       "    </tr>\n",
       "    <tr>\n",
       "      <th>4</th>\n",
       "      <td>2.028339e+12</td>\n",
       "      <td>168396</td>\n",
       "      <td>1.735917e+09</td>\n",
       "    </tr>\n",
       "    <tr>\n",
       "      <th>...</th>\n",
       "      <td>...</td>\n",
       "      <td>...</td>\n",
       "      <td>...</td>\n",
       "    </tr>\n",
       "    <tr>\n",
       "      <th>9995</th>\n",
       "      <td>1.139725e+12</td>\n",
       "      <td>168145</td>\n",
       "      <td>1.735916e+09</td>\n",
       "    </tr>\n",
       "    <tr>\n",
       "      <th>9996</th>\n",
       "      <td>1.930373e+12</td>\n",
       "      <td>167420</td>\n",
       "      <td>1.735917e+09</td>\n",
       "    </tr>\n",
       "    <tr>\n",
       "      <th>9997</th>\n",
       "      <td>2.169029e+12</td>\n",
       "      <td>166449</td>\n",
       "      <td>1.735917e+09</td>\n",
       "    </tr>\n",
       "    <tr>\n",
       "      <th>9998</th>\n",
       "      <td>1.338696e+12</td>\n",
       "      <td>186805</td>\n",
       "      <td>1.735916e+09</td>\n",
       "    </tr>\n",
       "    <tr>\n",
       "      <th>9999</th>\n",
       "      <td>2.198454e+12</td>\n",
       "      <td>166302</td>\n",
       "      <td>1.735917e+09</td>\n",
       "    </tr>\n",
       "  </tbody>\n",
       "</table>\n",
       "<p>10000 rows × 3 columns</p>\n",
       "</div>"
      ],
      "text/plain": [
       "      ns_since_open  ts_in_delta  ts_eventElapsed\n",
       "0      1.247944e+12       167064     1.735916e+09\n",
       "1      3.668683e+11       167870     1.735915e+09\n",
       "2      4.511887e+11       169914     1.735915e+09\n",
       "3      9.572814e+11       170682     1.735916e+09\n",
       "4      2.028339e+12       168396     1.735917e+09\n",
       "...             ...          ...              ...\n",
       "9995   1.139725e+12       168145     1.735916e+09\n",
       "9996   1.930373e+12       167420     1.735917e+09\n",
       "9997   2.169029e+12       166449     1.735917e+09\n",
       "9998   1.338696e+12       186805     1.735916e+09\n",
       "9999   2.198454e+12       166302     1.735917e+09\n",
       "\n",
       "[10000 rows x 3 columns]"
      ]
     },
     "execution_count": 81,
     "metadata": {},
     "output_type": "execute_result"
    }
   ],
   "source": [
    "df[['ns_since_open', 'ts_in_delta', 'ts_eventElapsed']]"
   ]
  },
  {
   "cell_type": "code",
   "execution_count": 82,
   "metadata": {},
   "outputs": [
    {
     "data": {
      "text/plain": [
       "Index(['ts_recv', 'ts_event', 'rtype', 'publisher_id', 'instrument_id',\n",
       "       'action', 'side', 'depth', 'price', 'size', 'flags', 'ts_in_delta',\n",
       "       'sequence', 'bid_px_00', 'ask_px_00', 'symbol', 'ns_since_open',\n",
       "       'ts_eventYear', 'ts_eventMonth', 'ts_eventWeek', 'ts_eventDay',\n",
       "       'ts_eventDayofweek', 'ts_eventDayofyear', 'ts_eventIs_month_end',\n",
       "       'ts_eventIs_month_start', 'ts_eventIs_quarter_end',\n",
       "       'ts_eventIs_quarter_start', 'ts_eventIs_year_end',\n",
       "       'ts_eventIs_year_start', 'ts_eventElapsed', 'spread', 'mid',\n",
       "       'bid_weight', 'ask_weight', 'bid_weight_log', 'ask_weight_log',\n",
       "       'traded_bid_size', 'traded_ask_size', 'is_trade_bid', 'is_trade_ask',\n",
       "       'rolling_30s_bid_size', 'rolling_30s_ask_size', 'rolling_30s_bid_cnt',\n",
       "       'rolling_30s_ask_cnt', 'rolling_5min_bid_size', 'rolling_5min_ask_size',\n",
       "       'rolling_5min_bid_cnt', 'rolling_5min_ask_cnt', 'hedge_buy_stop_idx',\n",
       "       'hedge_sell_stop_idx', 'ideal_sell_price', 'ideal_buy_price_spread',\n",
       "       'ideal_sell_price_spread', 'is_buy', 'ideal_price',\n",
       "       'ideal_price_spread', 'ideal_buy_price'],\n",
       "      dtype='object')"
      ]
     },
     "execution_count": 82,
     "metadata": {},
     "output_type": "execute_result"
    }
   ],
   "source": [
    "df.columns"
   ]
  },
  {
   "cell_type": "markdown",
   "metadata": {},
   "source": [
    "#### Simplify the data further"
   ]
  },
  {
   "cell_type": "code",
   "execution_count": 83,
   "metadata": {},
   "outputs": [],
   "source": [
    "columns_to_keep = ['instrument_id', 'symbol',\n",
    "                   'ns_since_open', 'ts_eventYear', 'ts_eventMonth',\n",
    "       'ts_eventWeek', 'ts_eventDay', 'ts_eventDayofweek', 'ts_eventDayofyear',\n",
    "       'ts_eventIs_month_end', 'ts_eventIs_month_start',\n",
    "       'ts_eventIs_quarter_end', 'ts_eventIs_quarter_start',\n",
    "       'ts_eventIs_year_end', 'ts_eventIs_year_start', 'ts_eventElapsed',\n",
    "       'spread', \n",
    "       #'mid', \n",
    "       'bid_px_00', 'ask_px_00',\n",
    "       'bid_weight', 'ask_weight', 'bid_weight_log',\n",
    "       'ask_weight_log', \n",
    "       #'traded_bid_size', 'traded_ask_size', 'is_trade_bid', 'is_trade_ask', \n",
    "       'rolling_30s_bid_size', 'rolling_30s_ask_size',\n",
    "       'rolling_30s_bid_cnt', 'rolling_30s_ask_cnt', 'rolling_5min_bid_size',\n",
    "       'rolling_5min_ask_size', 'rolling_5min_bid_cnt', 'rolling_5min_ask_cnt',\n",
    "       #'hedge_buy_stop_idx', 'hedge_sell_stop_idx', \n",
    "       'is_buy'\n",
    "]\n",
    "dep_vars = ['ideal_price_spread'] \n",
    "\n",
    "#       'ideal_buy_price', 'ideal_sell_price', \n",
    "#       'ideal_buy_price_spread', 'ideal_sell_price_spread']\n",
    "\n",
    "rdf = df[columns_to_keep + dep_vars]"
   ]
  },
  {
   "cell_type": "code",
   "execution_count": 84,
   "metadata": {},
   "outputs": [],
   "source": [
    "cont_cols,cat_cols = cont_cat_split(rdf, max_card=9000, dep_var=dep_vars)"
   ]
  },
  {
   "cell_type": "code",
   "execution_count": 85,
   "metadata": {},
   "outputs": [
    {
     "name": "stdout",
     "output_type": "stream",
     "text": [
      "********* Continuous columns\n",
      "ns_since_open\n",
      "ts_eventElapsed\n",
      "spread\n",
      "bid_px_00\n",
      "ask_px_00\n",
      "bid_weight\n",
      "ask_weight\n",
      "bid_weight_log\n",
      "ask_weight_log\n",
      "rolling_30s_bid_size\n",
      "rolling_30s_ask_size\n",
      "rolling_30s_bid_cnt\n",
      "rolling_30s_ask_cnt\n",
      "rolling_5min_bid_size\n",
      "rolling_5min_ask_size\n",
      "rolling_5min_bid_cnt\n",
      "rolling_5min_ask_cnt\n",
      "********* Categorical columns\n",
      "instrument_id\n",
      "symbol\n",
      "ts_eventYear\n",
      "ts_eventMonth\n",
      "ts_eventWeek\n",
      "ts_eventDay\n",
      "ts_eventDayofweek\n",
      "ts_eventDayofyear\n",
      "ts_eventIs_month_end\n",
      "ts_eventIs_month_start\n",
      "ts_eventIs_quarter_end\n",
      "ts_eventIs_quarter_start\n",
      "ts_eventIs_year_end\n",
      "ts_eventIs_year_start\n",
      "is_buy\n"
     ]
    }
   ],
   "source": [
    "print(\"********* Continuous columns\")\n",
    "[print(x) for x in cont_cols] \n",
    "print(\"********* Categorical columns\")\n",
    "_= [print(x) for x in cat_cols] \n",
    "#cont_cols"
   ]
  },
  {
   "cell_type": "code",
   "execution_count": 86,
   "metadata": {},
   "outputs": [
    {
     "data": {
      "text/plain": [
       "Index(['instrument_id', 'symbol', 'ns_since_open', 'ts_eventYear',\n",
       "       'ts_eventMonth', 'ts_eventWeek', 'ts_eventDay', 'ts_eventDayofweek',\n",
       "       'ts_eventDayofyear', 'ts_eventIs_month_end', 'ts_eventIs_month_start',\n",
       "       'ts_eventIs_quarter_end', 'ts_eventIs_quarter_start',\n",
       "       'ts_eventIs_year_end', 'ts_eventIs_year_start', 'ts_eventElapsed',\n",
       "       'spread', 'bid_px_00', 'ask_px_00', 'bid_weight', 'ask_weight',\n",
       "       'bid_weight_log', 'ask_weight_log', 'rolling_30s_bid_size',\n",
       "       'rolling_30s_ask_size', 'rolling_30s_bid_cnt', 'rolling_30s_ask_cnt',\n",
       "       'rolling_5min_bid_size', 'rolling_5min_ask_size',\n",
       "       'rolling_5min_bid_cnt', 'rolling_5min_ask_cnt', 'is_buy',\n",
       "       'ideal_price_spread'],\n",
       "      dtype='object')"
      ]
     },
     "execution_count": 86,
     "metadata": {},
     "output_type": "execute_result"
    }
   ],
   "source": [
    "rdf.columns"
   ]
  },
  {
   "cell_type": "markdown",
   "metadata": {},
   "source": [
    "### FastAI Tabular"
   ]
  },
  {
   "cell_type": "code",
   "execution_count": 87,
   "metadata": {},
   "outputs": [],
   "source": [
    "procs_nn = [Categorify, FillMissing, Normalize]\n",
    "test_set = rdf.sample(frac=0.2)\n",
    "train_set = rdf.drop(test_set.index)\n",
    "splits = (list(train_set.index), list(test_set.index))\n",
    "\n",
    "\n",
    "to = TabularPandas(rdf, procs_nn, cat_cols, cont_cols,\n",
    "                      splits=splits, y_names='ideal_price_spread')"
   ]
  },
  {
   "cell_type": "code",
   "execution_count": null,
   "metadata": {},
   "outputs": [
    {
     "name": "stdout",
     "output_type": "stream",
     "text": [
      "Accuracy: 0.9292127118547251\n",
      "Mean Squared Error: 137.5607095923853\n"
     ]
    }
   ],
   "source": [
    "from sklearn.metrics import mean_squared_error\n",
    "\n",
    "xs,y = to.train.xs,to.train.y\n",
    "m = DecisionTreeRegressor(max_leaf_nodes=20)\n",
    "m.fit(xs, y)\n",
    "\n",
    "accuracy = m.score(xs, y)\n",
    "test_xs, test_y = to.valid.xs, to.valid.y\n",
    "predictions = m.predict(test_xs)\n",
    "mse = mean_squared_error(test_y, predictions)\n",
    "print(f\"Accuracy: {accuracy}\")\n",
    "print(f\"Mean Squared Error: {mse}\")"
   ]
  },
  {
   "cell_type": "code",
   "execution_count": 89,
   "metadata": {},
   "outputs": [
    {
     "data": {
      "text/plain": [
       "array([  -9.06443909, -159.48888889,  -56.3824956 , ..., -116.98639456,\n",
       "        -56.3824956 ,  -22.57431457])"
      ]
     },
     "execution_count": 89,
     "metadata": {},
     "output_type": "execute_result"
    }
   ],
   "source": [
    "predictions"
   ]
  },
  {
   "cell_type": "code",
   "execution_count": 90,
   "metadata": {},
   "outputs": [],
   "source": [
    "def draw_tree(t, df, size=10, ratio=0.6, precision=0, **kwargs):\n",
    "    s=export_graphviz(t, out_file=None, feature_names=df.columns, filled=True, rounded=True,\n",
    "                      special_characters=True, rotate=False, precision=precision, **kwargs)\n",
    "    import graphviz\n",
    "    return graphviz.Source(re.sub('Tree {', f'Tree {{ size={size}; ratio={ratio}', s))\n",
    "\n",
    "#draw_tree(m, xs, size=20, leaves_parallel=True, precision=4, ratio=0.6)"
   ]
  },
  {
   "cell_type": "markdown",
   "metadata": {},
   "source": [
    "## Scikit Learn"
   ]
  },
  {
   "cell_type": "code",
   "execution_count": 95,
   "metadata": {},
   "outputs": [
    {
     "name": "stdout",
     "output_type": "stream",
     "text": [
      "Accuracy: 0.9931711762821236\n",
      "Mean Squared Error: 12.516253777567503\n"
     ]
    },
    {
     "data": {
      "application/vnd.microsoft.datawrangler.viewer.v0+json": {
       "columns": [
        {
         "name": "index",
         "rawType": "int64",
         "type": "integer"
        },
        {
         "name": "Predictions",
         "rawType": "float64",
         "type": "float"
        },
        {
         "name": "Actual",
         "rawType": "float32",
         "type": "float"
        }
       ],
       "conversionMethod": "pd.DataFrame",
       "ref": "fb187d69-caae-40e7-b992-f8d4359211db",
       "rows": [
        [
         "0",
         "-6.549328708059526",
         "-7.6666665"
        ],
        [
         "1",
         "-175.10817812041668",
         "-175.0"
        ],
        [
         "2",
         "-48.05284743955862",
         "-42.0"
        ],
        [
         "3",
         "-50.849556056812446",
         "-52.0"
        ],
        [
         "4",
         "-7.617374661580594",
         "-9.5"
        ],
        [
         "5",
         "-66.02243858564425",
         "-66.0"
        ],
        [
         "6",
         "-7.896125971068288",
         "-7.0"
        ],
        [
         "7",
         "-15.095607719496645",
         "-14.666667"
        ],
        [
         "8",
         "-18.316671387779",
         "-19.5"
        ],
        [
         "9",
         "-2.6406237585475796",
         "-2.0"
        ],
        [
         "10",
         "-76.45324106479002",
         "-87.0"
        ],
        [
         "11",
         "-45.76795244136172",
         "-45.0"
        ],
        [
         "12",
         "-6.643624296944824",
         "-6.0"
        ],
        [
         "13",
         "-11.664147036796502",
         "-12.333333"
        ],
        [
         "14",
         "-16.269536623102056",
         "-16.5"
        ],
        [
         "15",
         "-0.7294897425424058",
         "-1.0"
        ],
        [
         "16",
         "-20.631409209732325",
         "-21.0"
        ],
        [
         "17",
         "-15.37590745579515",
         "-12.666667"
        ],
        [
         "18",
         "-28.358219873981557",
         "-17.0"
        ],
        [
         "19",
         "-14.360347008515504",
         "-14.5"
        ],
        [
         "20",
         "-11.205211715239113",
         "-12.0"
        ],
        [
         "21",
         "-1.4181655608330643",
         "-0.5"
        ],
        [
         "22",
         "-2.6753725250587275",
         "-1.5"
        ],
        [
         "23",
         "-5.144736891533796",
         "-1.0"
        ],
        [
         "24",
         "-5.581481883828479",
         "-7.0"
        ],
        [
         "25",
         "-6.103952048823855",
         "0.0"
        ],
        [
         "26",
         "-15.410132481431674",
         "-15.5"
        ],
        [
         "27",
         "-75.807567305434",
         "-80.0"
        ],
        [
         "28",
         "-7.991629077009442",
         "-7.0"
        ],
        [
         "29",
         "-150.6896975266066",
         "-149.0"
        ],
        [
         "30",
         "-92.0554649352882",
         "-94.5"
        ],
        [
         "31",
         "-78.87486104157404",
         "-75.5"
        ],
        [
         "32",
         "-130.2045003288331",
         "-133.0"
        ],
        [
         "33",
         "-1.1335553846821171",
         "-1.0"
        ],
        [
         "34",
         "-55.472684754216566",
         "-67.0"
        ],
        [
         "35",
         "-61.41437283600396",
         "-61.0"
        ],
        [
         "36",
         "-2.6451440066102423",
         "-3.0"
        ],
        [
         "37",
         "-79.02579761339466",
         "-81.5"
        ],
        [
         "38",
         "-156.6101234297608",
         "-158.0"
        ],
        [
         "39",
         "-2.8172395609629888",
         "-3.5"
        ],
        [
         "40",
         "-9.557150640897934",
         "-9.5"
        ],
        [
         "41",
         "-75.5425141558721",
         "-83.0"
        ],
        [
         "42",
         "-64.6589799672615",
         "-63.5"
        ],
        [
         "43",
         "-5.57763427906428",
         "-12.5"
        ],
        [
         "44",
         "-21.424208097328716",
         "-23.0"
        ],
        [
         "45",
         "-53.280495581564104",
         "-53.666668"
        ],
        [
         "46",
         "-8.09285259938533",
         "-10.333333"
        ],
        [
         "47",
         "-21.60258581595491",
         "-20.5"
        ],
        [
         "48",
         "-28.604267330794215",
         "-25.5"
        ],
        [
         "49",
         "-142.09886175103549",
         "-145.0"
        ]
       ],
       "shape": {
        "columns": 2,
        "rows": 2000
       }
      },
      "text/html": [
       "<div>\n",
       "<style scoped>\n",
       "    .dataframe tbody tr th:only-of-type {\n",
       "        vertical-align: middle;\n",
       "    }\n",
       "\n",
       "    .dataframe tbody tr th {\n",
       "        vertical-align: top;\n",
       "    }\n",
       "\n",
       "    .dataframe thead th {\n",
       "        text-align: right;\n",
       "    }\n",
       "</style>\n",
       "<table border=\"1\" class=\"dataframe\">\n",
       "  <thead>\n",
       "    <tr style=\"text-align: right;\">\n",
       "      <th></th>\n",
       "      <th>Predictions</th>\n",
       "      <th>Actual</th>\n",
       "    </tr>\n",
       "  </thead>\n",
       "  <tbody>\n",
       "    <tr>\n",
       "      <th>0</th>\n",
       "      <td>-6.549329</td>\n",
       "      <td>-7.666667</td>\n",
       "    </tr>\n",
       "    <tr>\n",
       "      <th>1</th>\n",
       "      <td>-175.108178</td>\n",
       "      <td>-175.000000</td>\n",
       "    </tr>\n",
       "    <tr>\n",
       "      <th>2</th>\n",
       "      <td>-48.052847</td>\n",
       "      <td>-42.000000</td>\n",
       "    </tr>\n",
       "    <tr>\n",
       "      <th>3</th>\n",
       "      <td>-50.849556</td>\n",
       "      <td>-52.000000</td>\n",
       "    </tr>\n",
       "    <tr>\n",
       "      <th>4</th>\n",
       "      <td>-7.617375</td>\n",
       "      <td>-9.500000</td>\n",
       "    </tr>\n",
       "    <tr>\n",
       "      <th>...</th>\n",
       "      <td>...</td>\n",
       "      <td>...</td>\n",
       "    </tr>\n",
       "    <tr>\n",
       "      <th>1995</th>\n",
       "      <td>-5.591790</td>\n",
       "      <td>-8.000000</td>\n",
       "    </tr>\n",
       "    <tr>\n",
       "      <th>1996</th>\n",
       "      <td>-35.606038</td>\n",
       "      <td>-36.000000</td>\n",
       "    </tr>\n",
       "    <tr>\n",
       "      <th>1997</th>\n",
       "      <td>-137.446016</td>\n",
       "      <td>-140.000000</td>\n",
       "    </tr>\n",
       "    <tr>\n",
       "      <th>1998</th>\n",
       "      <td>-51.582478</td>\n",
       "      <td>-47.000000</td>\n",
       "    </tr>\n",
       "    <tr>\n",
       "      <th>1999</th>\n",
       "      <td>-23.235506</td>\n",
       "      <td>-15.000000</td>\n",
       "    </tr>\n",
       "  </tbody>\n",
       "</table>\n",
       "<p>2000 rows × 2 columns</p>\n",
       "</div>"
      ],
      "text/plain": [
       "      Predictions      Actual\n",
       "0       -6.549329   -7.666667\n",
       "1     -175.108178 -175.000000\n",
       "2      -48.052847  -42.000000\n",
       "3      -50.849556  -52.000000\n",
       "4       -7.617375   -9.500000\n",
       "...           ...         ...\n",
       "1995    -5.591790   -8.000000\n",
       "1996   -35.606038  -36.000000\n",
       "1997  -137.446016 -140.000000\n",
       "1998   -51.582478  -47.000000\n",
       "1999   -23.235506  -15.000000\n",
       "\n",
       "[2000 rows x 2 columns]"
      ]
     },
     "execution_count": 95,
     "metadata": {},
     "output_type": "execute_result"
    }
   ],
   "source": [
    "from sklearn.ensemble import HistGradientBoostingRegressor\n",
    "\n",
    "est = HistGradientBoostingRegressor(learning_rate=0.1, max_depth=6)\n",
    "est.fit(xs, y)\n",
    "\n",
    "accuracy = est.score(to.valid.xs, to.valid.y)\n",
    "\n",
    "predictions = est.predict(to.valid.xs)\n",
    "\n",
    "mse = mean_squared_error(to.valid.y, predictions)\n",
    "print(f\"Accuracy: {accuracy}\")\n",
    "print(f\"Mean Squared Error: {mse}\")\n",
    "\n",
    "results_df = pd.DataFrame({'Predictions': predictions, 'Actual': to.valid.y.values})\n",
    "results_df\n"
   ]
  },
  {
   "cell_type": "code",
   "execution_count": 92,
   "metadata": {},
   "outputs": [
    {
     "data": {
      "application/vnd.microsoft.datawrangler.viewer.v0+json": {
       "columns": [
        {
         "name": "index",
         "rawType": "int64",
         "type": "integer"
        },
        {
         "name": "instrument_id",
         "rawType": "int8",
         "type": "integer"
        },
        {
         "name": "symbol",
         "rawType": "int8",
         "type": "integer"
        },
        {
         "name": "ts_eventYear",
         "rawType": "int8",
         "type": "integer"
        },
        {
         "name": "ts_eventMonth",
         "rawType": "int8",
         "type": "integer"
        },
        {
         "name": "ts_eventWeek",
         "rawType": "int8",
         "type": "integer"
        },
        {
         "name": "ts_eventDay",
         "rawType": "int8",
         "type": "integer"
        },
        {
         "name": "ts_eventDayofweek",
         "rawType": "int8",
         "type": "integer"
        },
        {
         "name": "ts_eventDayofyear",
         "rawType": "int8",
         "type": "integer"
        },
        {
         "name": "ts_eventIs_month_end",
         "rawType": "int8",
         "type": "integer"
        },
        {
         "name": "ts_eventIs_month_start",
         "rawType": "int8",
         "type": "integer"
        },
        {
         "name": "ts_eventIs_quarter_end",
         "rawType": "int8",
         "type": "integer"
        },
        {
         "name": "ts_eventIs_quarter_start",
         "rawType": "int8",
         "type": "integer"
        },
        {
         "name": "ts_eventIs_year_end",
         "rawType": "int8",
         "type": "integer"
        },
        {
         "name": "ts_eventIs_year_start",
         "rawType": "int8",
         "type": "integer"
        },
        {
         "name": "is_buy",
         "rawType": "int8",
         "type": "integer"
        },
        {
         "name": "ns_since_open",
         "rawType": "float32",
         "type": "float"
        },
        {
         "name": "ts_eventElapsed",
         "rawType": "float32",
         "type": "float"
        },
        {
         "name": "spread",
         "rawType": "float32",
         "type": "float"
        },
        {
         "name": "bid_px_00",
         "rawType": "float32",
         "type": "float"
        },
        {
         "name": "ask_px_00",
         "rawType": "float32",
         "type": "float"
        },
        {
         "name": "bid_weight",
         "rawType": "float32",
         "type": "float"
        },
        {
         "name": "ask_weight",
         "rawType": "float32",
         "type": "float"
        },
        {
         "name": "bid_weight_log",
         "rawType": "float32",
         "type": "float"
        },
        {
         "name": "ask_weight_log",
         "rawType": "float32",
         "type": "float"
        },
        {
         "name": "rolling_30s_bid_size",
         "rawType": "float32",
         "type": "float"
        },
        {
         "name": "rolling_30s_ask_size",
         "rawType": "float32",
         "type": "float"
        },
        {
         "name": "rolling_30s_bid_cnt",
         "rawType": "float32",
         "type": "float"
        },
        {
         "name": "rolling_30s_ask_cnt",
         "rawType": "float32",
         "type": "float"
        },
        {
         "name": "rolling_5min_bid_size",
         "rawType": "float32",
         "type": "float"
        },
        {
         "name": "rolling_5min_ask_size",
         "rawType": "float32",
         "type": "float"
        },
        {
         "name": "rolling_5min_bid_cnt",
         "rawType": "float32",
         "type": "float"
        },
        {
         "name": "rolling_5min_ask_cnt",
         "rawType": "float32",
         "type": "float"
        }
       ],
       "conversionMethod": "pd.DataFrame",
       "ref": "c85679f5-6592-4e0a-b97b-d6b143b5f957",
       "rows": [
        [
         "419",
         "1",
         "1",
         "1",
         "1",
         "1",
         "1",
         "1",
         "1",
         "1",
         "1",
         "1",
         "1",
         "1",
         "1",
         "2",
         "1.0211005",
         "1.1089643",
         "1.6011467",
         "0.74994737",
         "0.76349026",
         "0.4633359",
         "-0.2638713",
         "0.9893163",
         "-0.9296429",
         "-0.59846735",
         "-0.972831",
         "-0.7403109",
         "-0.96650565",
         "-1.1661315",
         "-0.3803706",
         "-1.2167152",
         "-0.6310556"
        ],
        [
         "8058",
         "1",
         "1",
         "1",
         "1",
         "1",
         "1",
         "1",
         "1",
         "1",
         "1",
         "1",
         "1",
         "1",
         "1",
         "1",
         "-0.11288808",
         "-0.1848274",
         "-1.079193",
         "-0.27351168",
         "-0.28212067",
         "0.094551064",
         "-0.21688417",
         "0.531724",
         "-0.31944233",
         "-0.4117061",
         "1.0587064",
         "-0.51381266",
         "0.6435641",
         "0.30921552",
         "1.8510802",
         "0.59126794",
         "1.7771777"
        ],
        [
         "5277",
         "1",
         "1",
         "1",
         "1",
         "1",
         "1",
         "1",
         "1",
         "1",
         "1",
         "1",
         "1",
         "1",
         "1",
         "1",
         "0.026418181",
         "0.0",
         "1.6161076",
         "0.20751531",
         "0.22017801",
         "-0.33071393",
         "0.32875454",
         "-0.27726716",
         "1.5140747",
         "-0.221419",
         "-1.2521218",
         "-0.33099622",
         "-1.2675188",
         "0.009125063",
         "1.2990025",
         "0.18860501",
         "1.2215091"
        ],
        [
         "9786",
         "1",
         "1",
         "1",
         "1",
         "1",
         "1",
         "1",
         "1",
         "1",
         "1",
         "1",
         "1",
         "1",
         "1",
         "1",
         "0.49315402",
         "0.55448216",
         "0.2619398",
         "0.44290653",
         "0.44570562",
         "-0.10977087",
         "-0.19607635",
         "0.19818014",
         "-0.13561845",
         "-0.15022379",
         "-1.440153",
         "-0.34717467",
         "-1.7015375",
         "-1.0976689",
         "-0.6989373",
         "-1.1682712",
         "-0.7036657"
        ],
        [
         "4669",
         "1",
         "1",
         "1",
         "1",
         "1",
         "1",
         "1",
         "1",
         "1",
         "1",
         "1",
         "1",
         "1",
         "1",
         "2",
         "-0.062605985",
         "0.0",
         "0.2710082",
         "-0.048349444",
         "-0.046347503",
         "0.32041463",
         "-0.13960846",
         "0.8286299",
         "0.23929647",
         "-0.38876337",
         "-0.69385135",
         "-0.44748104",
         "-1.1415132",
         "0.32691956",
         "1.7473699",
         "0.5961568",
         "1.6491016"
        ],
        [
         "9372",
         "1",
         "1",
         "1",
         "1",
         "1",
         "1",
         "1",
         "1",
         "1",
         "1",
         "1",
         "1",
         "1",
         "1",
         "1",
         "0.22950281",
         "0.1848274",
         "0.26722243",
         "0.15633924",
         "0.15867333",
         "-0.15451536",
         "-0.20525026",
         "0.113655746",
         "-0.2125098",
         "-0.49427333",
         "-0.618461",
         "-0.48145577",
         "-0.85450083",
         "-0.8501178",
         "0.86555016",
         "-0.7393863",
         "0.52062047"
        ],
        [
         "8853",
         "1",
         "1",
         "1",
         "1",
         "1",
         "1",
         "1",
         "1",
         "1",
         "1",
         "1",
         "1",
         "1",
         "1",
         "1",
         "1.3952268",
         "1.4786192",
         "-1.0934927",
         "1.2821504",
         "1.2760501",
         "-0.3546882",
         "-0.2335396",
         "-0.3396238",
         "-0.49583974",
         "-0.51009816",
         "0.26564133",
         "-0.59794056",
         "0.48255715",
         "-0.3963224",
         "-1.23197",
         "-0.33583453",
         "-0.8166146"
        ],
        [
         "5874",
         "1",
         "1",
         "1",
         "1",
         "1",
         "1",
         "1",
         "1",
         "1",
         "1",
         "1",
         "1",
         "1",
         "1",
         "1",
         "-1.5629145",
         "-1.4786192",
         "1.6616638",
         "-1.4197809",
         "-1.4097587",
         "-0.7400775",
         "-0.23110862",
         "-2.1138494",
         "-0.46805796",
         "2.0300038",
         "0.45451716",
         "2.8432148",
         "1.378596",
         "-0.4406043",
         "-1.1992161",
         "-0.5722768",
         "-1.9874517"
        ],
        [
         "3138",
         "1",
         "1",
         "1",
         "1",
         "1",
         "1",
         "1",
         "1",
         "1",
         "1",
         "1",
         "1",
         "1",
         "1",
         "2",
         "-1.2552006",
         "-1.2937918",
         "0.29684374",
         "-1.4300097",
         "-1.4302654",
         "-0.54419476",
         "-0.27506787",
         "-0.9580992",
         "-1.1539273",
         "0.036587115",
         "-0.86267936",
         "-0.16112256",
         "1.1405857",
         "0.7240386",
         "0.54616785",
         "1.1094853",
         "0.5831458"
        ],
        [
         "1160",
         "1",
         "1",
         "1",
         "1",
         "1",
         "1",
         "1",
         "1",
         "1",
         "1",
         "1",
         "1",
         "1",
         "1",
         "2",
         "0.19136937",
         "0.1848274",
         "-1.0801431",
         "-0.17115954",
         "-0.17961808",
         "3.319329",
         "-0.21994904",
         "2.6291616",
         "-0.34963894",
         "-0.48695683",
         "0.66379637",
         "-0.41835982",
         "0.3845529",
         "-0.80508596",
         "1.1557447",
         "-0.7064977",
         "0.7535777"
        ]
       ],
       "shape": {
        "columns": 32,
        "rows": 10
       }
      },
      "text/html": [
       "<div>\n",
       "<style scoped>\n",
       "    .dataframe tbody tr th:only-of-type {\n",
       "        vertical-align: middle;\n",
       "    }\n",
       "\n",
       "    .dataframe tbody tr th {\n",
       "        vertical-align: top;\n",
       "    }\n",
       "\n",
       "    .dataframe thead th {\n",
       "        text-align: right;\n",
       "    }\n",
       "</style>\n",
       "<table border=\"1\" class=\"dataframe\">\n",
       "  <thead>\n",
       "    <tr style=\"text-align: right;\">\n",
       "      <th></th>\n",
       "      <th>instrument_id</th>\n",
       "      <th>symbol</th>\n",
       "      <th>ts_eventYear</th>\n",
       "      <th>ts_eventMonth</th>\n",
       "      <th>ts_eventWeek</th>\n",
       "      <th>ts_eventDay</th>\n",
       "      <th>ts_eventDayofweek</th>\n",
       "      <th>ts_eventDayofyear</th>\n",
       "      <th>ts_eventIs_month_end</th>\n",
       "      <th>ts_eventIs_month_start</th>\n",
       "      <th>...</th>\n",
       "      <th>bid_weight_log</th>\n",
       "      <th>ask_weight_log</th>\n",
       "      <th>rolling_30s_bid_size</th>\n",
       "      <th>rolling_30s_ask_size</th>\n",
       "      <th>rolling_30s_bid_cnt</th>\n",
       "      <th>rolling_30s_ask_cnt</th>\n",
       "      <th>rolling_5min_bid_size</th>\n",
       "      <th>rolling_5min_ask_size</th>\n",
       "      <th>rolling_5min_bid_cnt</th>\n",
       "      <th>rolling_5min_ask_cnt</th>\n",
       "    </tr>\n",
       "  </thead>\n",
       "  <tbody>\n",
       "    <tr>\n",
       "      <th>419</th>\n",
       "      <td>1</td>\n",
       "      <td>1</td>\n",
       "      <td>1</td>\n",
       "      <td>1</td>\n",
       "      <td>1</td>\n",
       "      <td>1</td>\n",
       "      <td>1</td>\n",
       "      <td>1</td>\n",
       "      <td>1</td>\n",
       "      <td>1</td>\n",
       "      <td>...</td>\n",
       "      <td>0.989316</td>\n",
       "      <td>-0.929643</td>\n",
       "      <td>-0.598467</td>\n",
       "      <td>-0.972831</td>\n",
       "      <td>-0.740311</td>\n",
       "      <td>-0.966506</td>\n",
       "      <td>-1.166131</td>\n",
       "      <td>-0.380371</td>\n",
       "      <td>-1.216715</td>\n",
       "      <td>-0.631056</td>\n",
       "    </tr>\n",
       "    <tr>\n",
       "      <th>8058</th>\n",
       "      <td>1</td>\n",
       "      <td>1</td>\n",
       "      <td>1</td>\n",
       "      <td>1</td>\n",
       "      <td>1</td>\n",
       "      <td>1</td>\n",
       "      <td>1</td>\n",
       "      <td>1</td>\n",
       "      <td>1</td>\n",
       "      <td>1</td>\n",
       "      <td>...</td>\n",
       "      <td>0.531724</td>\n",
       "      <td>-0.319442</td>\n",
       "      <td>-0.411706</td>\n",
       "      <td>1.058706</td>\n",
       "      <td>-0.513813</td>\n",
       "      <td>0.643564</td>\n",
       "      <td>0.309216</td>\n",
       "      <td>1.851080</td>\n",
       "      <td>0.591268</td>\n",
       "      <td>1.777178</td>\n",
       "    </tr>\n",
       "    <tr>\n",
       "      <th>5277</th>\n",
       "      <td>1</td>\n",
       "      <td>1</td>\n",
       "      <td>1</td>\n",
       "      <td>1</td>\n",
       "      <td>1</td>\n",
       "      <td>1</td>\n",
       "      <td>1</td>\n",
       "      <td>1</td>\n",
       "      <td>1</td>\n",
       "      <td>1</td>\n",
       "      <td>...</td>\n",
       "      <td>-0.277267</td>\n",
       "      <td>1.514075</td>\n",
       "      <td>-0.221419</td>\n",
       "      <td>-1.252122</td>\n",
       "      <td>-0.330996</td>\n",
       "      <td>-1.267519</td>\n",
       "      <td>0.009125</td>\n",
       "      <td>1.299003</td>\n",
       "      <td>0.188605</td>\n",
       "      <td>1.221509</td>\n",
       "    </tr>\n",
       "    <tr>\n",
       "      <th>9786</th>\n",
       "      <td>1</td>\n",
       "      <td>1</td>\n",
       "      <td>1</td>\n",
       "      <td>1</td>\n",
       "      <td>1</td>\n",
       "      <td>1</td>\n",
       "      <td>1</td>\n",
       "      <td>1</td>\n",
       "      <td>1</td>\n",
       "      <td>1</td>\n",
       "      <td>...</td>\n",
       "      <td>0.198180</td>\n",
       "      <td>-0.135618</td>\n",
       "      <td>-0.150224</td>\n",
       "      <td>-1.440153</td>\n",
       "      <td>-0.347175</td>\n",
       "      <td>-1.701537</td>\n",
       "      <td>-1.097669</td>\n",
       "      <td>-0.698937</td>\n",
       "      <td>-1.168271</td>\n",
       "      <td>-0.703666</td>\n",
       "    </tr>\n",
       "    <tr>\n",
       "      <th>4669</th>\n",
       "      <td>1</td>\n",
       "      <td>1</td>\n",
       "      <td>1</td>\n",
       "      <td>1</td>\n",
       "      <td>1</td>\n",
       "      <td>1</td>\n",
       "      <td>1</td>\n",
       "      <td>1</td>\n",
       "      <td>1</td>\n",
       "      <td>1</td>\n",
       "      <td>...</td>\n",
       "      <td>0.828630</td>\n",
       "      <td>0.239296</td>\n",
       "      <td>-0.388763</td>\n",
       "      <td>-0.693851</td>\n",
       "      <td>-0.447481</td>\n",
       "      <td>-1.141513</td>\n",
       "      <td>0.326920</td>\n",
       "      <td>1.747370</td>\n",
       "      <td>0.596157</td>\n",
       "      <td>1.649102</td>\n",
       "    </tr>\n",
       "    <tr>\n",
       "      <th>9372</th>\n",
       "      <td>1</td>\n",
       "      <td>1</td>\n",
       "      <td>1</td>\n",
       "      <td>1</td>\n",
       "      <td>1</td>\n",
       "      <td>1</td>\n",
       "      <td>1</td>\n",
       "      <td>1</td>\n",
       "      <td>1</td>\n",
       "      <td>1</td>\n",
       "      <td>...</td>\n",
       "      <td>0.113656</td>\n",
       "      <td>-0.212510</td>\n",
       "      <td>-0.494273</td>\n",
       "      <td>-0.618461</td>\n",
       "      <td>-0.481456</td>\n",
       "      <td>-0.854501</td>\n",
       "      <td>-0.850118</td>\n",
       "      <td>0.865550</td>\n",
       "      <td>-0.739386</td>\n",
       "      <td>0.520620</td>\n",
       "    </tr>\n",
       "    <tr>\n",
       "      <th>8853</th>\n",
       "      <td>1</td>\n",
       "      <td>1</td>\n",
       "      <td>1</td>\n",
       "      <td>1</td>\n",
       "      <td>1</td>\n",
       "      <td>1</td>\n",
       "      <td>1</td>\n",
       "      <td>1</td>\n",
       "      <td>1</td>\n",
       "      <td>1</td>\n",
       "      <td>...</td>\n",
       "      <td>-0.339624</td>\n",
       "      <td>-0.495840</td>\n",
       "      <td>-0.510098</td>\n",
       "      <td>0.265641</td>\n",
       "      <td>-0.597941</td>\n",
       "      <td>0.482557</td>\n",
       "      <td>-0.396322</td>\n",
       "      <td>-1.231970</td>\n",
       "      <td>-0.335835</td>\n",
       "      <td>-0.816615</td>\n",
       "    </tr>\n",
       "    <tr>\n",
       "      <th>5874</th>\n",
       "      <td>1</td>\n",
       "      <td>1</td>\n",
       "      <td>1</td>\n",
       "      <td>1</td>\n",
       "      <td>1</td>\n",
       "      <td>1</td>\n",
       "      <td>1</td>\n",
       "      <td>1</td>\n",
       "      <td>1</td>\n",
       "      <td>1</td>\n",
       "      <td>...</td>\n",
       "      <td>-2.113849</td>\n",
       "      <td>-0.468058</td>\n",
       "      <td>2.030004</td>\n",
       "      <td>0.454517</td>\n",
       "      <td>2.843215</td>\n",
       "      <td>1.378596</td>\n",
       "      <td>-0.440604</td>\n",
       "      <td>-1.199216</td>\n",
       "      <td>-0.572277</td>\n",
       "      <td>-1.987452</td>\n",
       "    </tr>\n",
       "    <tr>\n",
       "      <th>3138</th>\n",
       "      <td>1</td>\n",
       "      <td>1</td>\n",
       "      <td>1</td>\n",
       "      <td>1</td>\n",
       "      <td>1</td>\n",
       "      <td>1</td>\n",
       "      <td>1</td>\n",
       "      <td>1</td>\n",
       "      <td>1</td>\n",
       "      <td>1</td>\n",
       "      <td>...</td>\n",
       "      <td>-0.958099</td>\n",
       "      <td>-1.153927</td>\n",
       "      <td>0.036587</td>\n",
       "      <td>-0.862679</td>\n",
       "      <td>-0.161123</td>\n",
       "      <td>1.140586</td>\n",
       "      <td>0.724039</td>\n",
       "      <td>0.546168</td>\n",
       "      <td>1.109485</td>\n",
       "      <td>0.583146</td>\n",
       "    </tr>\n",
       "    <tr>\n",
       "      <th>1160</th>\n",
       "      <td>1</td>\n",
       "      <td>1</td>\n",
       "      <td>1</td>\n",
       "      <td>1</td>\n",
       "      <td>1</td>\n",
       "      <td>1</td>\n",
       "      <td>1</td>\n",
       "      <td>1</td>\n",
       "      <td>1</td>\n",
       "      <td>1</td>\n",
       "      <td>...</td>\n",
       "      <td>2.629162</td>\n",
       "      <td>-0.349639</td>\n",
       "      <td>-0.486957</td>\n",
       "      <td>0.663796</td>\n",
       "      <td>-0.418360</td>\n",
       "      <td>0.384553</td>\n",
       "      <td>-0.805086</td>\n",
       "      <td>1.155745</td>\n",
       "      <td>-0.706498</td>\n",
       "      <td>0.753578</td>\n",
       "    </tr>\n",
       "  </tbody>\n",
       "</table>\n",
       "<p>10 rows × 32 columns</p>\n",
       "</div>"
      ],
      "text/plain": [
       "      instrument_id  symbol  ts_eventYear  ts_eventMonth  ts_eventWeek  \\\n",
       "419               1       1             1              1             1   \n",
       "8058              1       1             1              1             1   \n",
       "5277              1       1             1              1             1   \n",
       "9786              1       1             1              1             1   \n",
       "4669              1       1             1              1             1   \n",
       "9372              1       1             1              1             1   \n",
       "8853              1       1             1              1             1   \n",
       "5874              1       1             1              1             1   \n",
       "3138              1       1             1              1             1   \n",
       "1160              1       1             1              1             1   \n",
       "\n",
       "      ts_eventDay  ts_eventDayofweek  ts_eventDayofyear  ts_eventIs_month_end  \\\n",
       "419             1                  1                  1                     1   \n",
       "8058            1                  1                  1                     1   \n",
       "5277            1                  1                  1                     1   \n",
       "9786            1                  1                  1                     1   \n",
       "4669            1                  1                  1                     1   \n",
       "9372            1                  1                  1                     1   \n",
       "8853            1                  1                  1                     1   \n",
       "5874            1                  1                  1                     1   \n",
       "3138            1                  1                  1                     1   \n",
       "1160            1                  1                  1                     1   \n",
       "\n",
       "      ts_eventIs_month_start  ...  bid_weight_log  ask_weight_log  \\\n",
       "419                        1  ...        0.989316       -0.929643   \n",
       "8058                       1  ...        0.531724       -0.319442   \n",
       "5277                       1  ...       -0.277267        1.514075   \n",
       "9786                       1  ...        0.198180       -0.135618   \n",
       "4669                       1  ...        0.828630        0.239296   \n",
       "9372                       1  ...        0.113656       -0.212510   \n",
       "8853                       1  ...       -0.339624       -0.495840   \n",
       "5874                       1  ...       -2.113849       -0.468058   \n",
       "3138                       1  ...       -0.958099       -1.153927   \n",
       "1160                       1  ...        2.629162       -0.349639   \n",
       "\n",
       "      rolling_30s_bid_size  rolling_30s_ask_size  rolling_30s_bid_cnt  \\\n",
       "419              -0.598467             -0.972831            -0.740311   \n",
       "8058             -0.411706              1.058706            -0.513813   \n",
       "5277             -0.221419             -1.252122            -0.330996   \n",
       "9786             -0.150224             -1.440153            -0.347175   \n",
       "4669             -0.388763             -0.693851            -0.447481   \n",
       "9372             -0.494273             -0.618461            -0.481456   \n",
       "8853             -0.510098              0.265641            -0.597941   \n",
       "5874              2.030004              0.454517             2.843215   \n",
       "3138              0.036587             -0.862679            -0.161123   \n",
       "1160             -0.486957              0.663796            -0.418360   \n",
       "\n",
       "      rolling_30s_ask_cnt  rolling_5min_bid_size  rolling_5min_ask_size  \\\n",
       "419             -0.966506              -1.166131              -0.380371   \n",
       "8058             0.643564               0.309216               1.851080   \n",
       "5277            -1.267519               0.009125               1.299003   \n",
       "9786            -1.701537              -1.097669              -0.698937   \n",
       "4669            -1.141513               0.326920               1.747370   \n",
       "9372            -0.854501              -0.850118               0.865550   \n",
       "8853             0.482557              -0.396322              -1.231970   \n",
       "5874             1.378596              -0.440604              -1.199216   \n",
       "3138             1.140586               0.724039               0.546168   \n",
       "1160             0.384553              -0.805086               1.155745   \n",
       "\n",
       "      rolling_5min_bid_cnt  rolling_5min_ask_cnt  \n",
       "419              -1.216715             -0.631056  \n",
       "8058              0.591268              1.777178  \n",
       "5277              0.188605              1.221509  \n",
       "9786             -1.168271             -0.703666  \n",
       "4669              0.596157              1.649102  \n",
       "9372             -0.739386              0.520620  \n",
       "8853             -0.335835             -0.816615  \n",
       "5874             -0.572277             -1.987452  \n",
       "3138              1.109485              0.583146  \n",
       "1160             -0.706498              0.753578  \n",
       "\n",
       "[10 rows x 32 columns]"
      ]
     },
     "execution_count": 92,
     "metadata": {},
     "output_type": "execute_result"
    }
   ],
   "source": [
    "type(to)\n",
    "to.train.xs.ts_eventIs_quarter_start.unique()\n",
    "to.train.xs.shape, to.valid.xs.shape\n",
    "to.valid.xs.head(10)"
   ]
  }
 ],
 "metadata": {
  "kernelspec": {
   "display_name": "ai",
   "language": "python",
   "name": "python3"
  },
  "language_info": {
   "codemirror_mode": {
    "name": "ipython",
    "version": 3
   },
   "file_extension": ".py",
   "mimetype": "text/x-python",
   "name": "python",
   "nbconvert_exporter": "python",
   "pygments_lexer": "ipython3",
   "version": "3.10.16"
  }
 },
 "nbformat": 4,
 "nbformat_minor": 2
}
