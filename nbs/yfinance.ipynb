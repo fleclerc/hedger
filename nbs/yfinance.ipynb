{
 "cells": [
  {
   "cell_type": "code",
   "execution_count": 1,
   "metadata": {},
   "outputs": [
    {
     "data": {
      "application/vnd.microsoft.datawrangler.viewer.v0+json": {
       "columns": [
        {
         "name": "Date",
         "rawType": "datetime64[ns, UTC]",
         "type": "unknown"
        },
        {
         "name": "Open",
         "rawType": "float64",
         "type": "float"
        },
        {
         "name": "High",
         "rawType": "float64",
         "type": "float"
        },
        {
         "name": "Low",
         "rawType": "float64",
         "type": "float"
        },
        {
         "name": "Close",
         "rawType": "float64",
         "type": "float"
        },
        {
         "name": "Volume",
         "rawType": "int64",
         "type": "integer"
        },
        {
         "name": "Dividends",
         "rawType": "float64",
         "type": "float"
        },
        {
         "name": "Stock Splits",
         "rawType": "float64",
         "type": "float"
        }
       ],
       "conversionMethod": "pd.DataFrame",
       "ref": "a69bdb3d-eba8-45f5-934f-94eeb71d83e8",
       "rows": [
        [
         "2020-03-17 00:00:00+00:00",
         "5002.578125",
         "5371.3486328125",
         "4981.9091796875",
         "5225.62939453125",
         "38622642935",
         "0.0",
         "0.0"
        ],
        [
         "2020-03-18 00:00:00+00:00",
         "5227.11376953125",
         "5331.833984375",
         "5069.3359375",
         "5238.4384765625",
         "37878801016",
         "0.0",
         "0.0"
        ],
        [
         "2020-03-19 00:00:00+00:00",
         "5245.41650390625",
         "6329.73583984375",
         "5236.96875",
         "6191.19287109375",
         "51000731797",
         "0.0",
         "0.0"
        ],
        [
         "2020-03-20 00:00:00+00:00",
         "6191.65380859375",
         "6844.26171875",
         "5865.78173828125",
         "6198.7783203125",
         "54442976103",
         "0.0",
         "0.0"
        ],
        [
         "2020-03-21 00:00:00+00:00",
         "6206.521484375",
         "6378.13525390625",
         "5932.8232421875",
         "6185.06640625",
         "42494390880",
         "0.0",
         "0.0"
        ],
        [
         "2020-03-22 00:00:00+00:00",
         "6185.55810546875",
         "6359.697265625",
         "5823.7138671875",
         "5830.2548828125",
         "40099664740",
         "0.0",
         "0.0"
        ],
        [
         "2020-03-23 00:00:00+00:00",
         "5831.37451171875",
         "6443.9345703125",
         "5785.00439453125",
         "6416.31494140625",
         "46491916000",
         "0.0",
         "0.0"
        ],
        [
         "2020-03-24 00:00:00+00:00",
         "6436.642578125",
         "6789.02294921875",
         "6411.06640625",
         "6734.8037109375",
         "48221910672",
         "0.0",
         "0.0"
        ],
        [
         "2020-03-25 00:00:00+00:00",
         "6738.716796875",
         "6892.51123046875",
         "6536.92626953125",
         "6681.06298828125",
         "44590107888",
         "0.0",
         "0.0"
        ],
        [
         "2020-03-26 00:00:00+00:00",
         "6675.1708984375",
         "6735.4638671875",
         "6590.962890625",
         "6716.4404296875",
         "35319797642",
         "0.0",
         "0.0"
        ],
        [
         "2020-03-27 00:00:00+00:00",
         "6719.38916015625",
         "6793.83642578125",
         "6466.70166015625",
         "6469.79833984375",
         "34585598367",
         "0.0",
         "0.0"
        ],
        [
         "2020-03-28 00:00:00+00:00",
         "6467.25390625",
         "6467.5009765625",
         "6117.837890625",
         "6242.19384765625",
         "34885225901",
         "0.0",
         "0.0"
        ],
        [
         "2020-03-29 00:00:00+00:00",
         "6245.62451171875",
         "6250.46728515625",
         "5920.0859375",
         "5922.04296875",
         "28373690931",
         "0.0",
         "0.0"
        ],
        [
         "2020-03-30 00:00:00+00:00",
         "5925.53857421875",
         "6517.19580078125",
         "5903.234375",
         "6429.841796875",
         "37101651525",
         "0.0",
         "0.0"
        ],
        [
         "2020-03-31 00:00:00+00:00",
         "6430.6064453125",
         "6504.51513671875",
         "6374.162109375",
         "6438.64453125",
         "32786468812",
         "0.0",
         "0.0"
        ],
        [
         "2020-04-01 00:00:00+00:00",
         "6437.3193359375",
         "6612.57373046875",
         "6202.37353515625",
         "6606.7763671875",
         "40346426266",
         "0.0",
         "0.0"
        ],
        [
         "2020-04-02 00:00:00+00:00",
         "6606.7763671875",
         "7088.24755859375",
         "6595.91845703125",
         "6793.62451171875",
         "47660646124",
         "0.0",
         "0.0"
        ],
        [
         "2020-04-03 00:00:00+00:00",
         "6797.396484375",
         "7003.220703125",
         "6673.3359375",
         "6733.38720703125",
         "38976504903",
         "0.0",
         "0.0"
        ],
        [
         "2020-04-04 00:00:00+00:00",
         "6738.3828125",
         "6878.95361328125",
         "6696.48486328125",
         "6867.52734375",
         "33185988584",
         "0.0",
         "0.0"
        ],
        [
         "2020-04-05 00:00:00+00:00",
         "6862.53759765625",
         "6883.4140625",
         "6715.92919921875",
         "6791.12939453125",
         "29510409856",
         "0.0",
         "0.0"
        ],
        [
         "2020-04-06 00:00:00+00:00",
         "6788.0498046875",
         "7271.78125",
         "6782.8896484375",
         "7271.78125",
         "46896904615",
         "0.0",
         "0.0"
        ],
        [
         "2020-04-07 00:00:00+00:00",
         "7273.64404296875",
         "7427.939453125",
         "7136.71435546875",
         "7176.41455078125",
         "44243482668",
         "0.0",
         "0.0"
        ],
        [
         "2020-04-08 00:00:00+00:00",
         "7179.283203125",
         "7356.2236328125",
         "7153.3056640625",
         "7334.0986328125",
         "37563249549",
         "0.0",
         "0.0"
        ],
        [
         "2020-04-09 00:00:00+00:00",
         "7337.96630859375",
         "7341.4482421875",
         "7179.09423828125",
         "7302.08935546875",
         "34815139178",
         "0.0",
         "0.0"
        ],
        [
         "2020-04-10 00:00:00+00:00",
         "7303.8154296875",
         "7303.8154296875",
         "6802.47509765625",
         "6865.4931640625",
         "43622840992",
         "0.0",
         "0.0"
        ],
        [
         "2020-04-11 00:00:00+00:00",
         "6867.4404296875",
         "6926.06982421875",
         "6789.9208984375",
         "6859.0830078125",
         "31222085946",
         "0.0",
         "0.0"
        ],
        [
         "2020-04-12 00:00:00+00:00",
         "6858.06787109375",
         "7119.947265625",
         "6811.078125",
         "6971.091796875",
         "35759567632",
         "0.0",
         "0.0"
        ],
        [
         "2020-04-13 00:00:00+00:00",
         "6965.61669921875",
         "6965.61669921875",
         "6668.259765625",
         "6845.03759765625",
         "38619308647",
         "0.0",
         "0.0"
        ],
        [
         "2020-04-14 00:00:00+00:00",
         "6843.28173828125",
         "6958.55712890625",
         "6793.8212890625",
         "6842.427734375",
         "34110434052",
         "0.0",
         "0.0"
        ],
        [
         "2020-04-15 00:00:00+00:00",
         "6845.5615234375",
         "6928.66455078125",
         "6633.40283203125",
         "6642.10986328125",
         "32288311031",
         "0.0",
         "0.0"
        ],
        [
         "2020-04-16 00:00:00+00:00",
         "6640.4541015625",
         "7134.45068359375",
         "6555.50439453125",
         "7116.80419921875",
         "46783242377",
         "0.0",
         "0.0"
        ],
        [
         "2020-04-17 00:00:00+00:00",
         "7116.552734375",
         "7167.18310546875",
         "7050.33203125",
         "7096.1845703125",
         "32513423567",
         "0.0",
         "0.0"
        ],
        [
         "2020-04-18 00:00:00+00:00",
         "7092.29150390625",
         "7269.95654296875",
         "7089.2470703125",
         "7257.6650390625",
         "32447188386",
         "0.0",
         "0.0"
        ],
        [
         "2020-04-19 00:00:00+00:00",
         "7260.92236328125",
         "7280.52197265625",
         "7167.0546875",
         "7189.4248046875",
         "31311210215",
         "0.0",
         "0.0"
        ],
        [
         "2020-04-20 00:00:00+00:00",
         "7186.87353515625",
         "7240.29052734375",
         "6835.5029296875",
         "6881.95849609375",
         "37747113936",
         "0.0",
         "0.0"
        ],
        [
         "2020-04-21 00:00:00+00:00",
         "6879.7841796875",
         "6934.5517578125",
         "6834.4423828125",
         "6880.3232421875",
         "32589741511",
         "0.0",
         "0.0"
        ],
        [
         "2020-04-22 00:00:00+00:00",
         "6879.4404296875",
         "7145.86572265625",
         "6867.78173828125",
         "7117.20751953125",
         "33249153866",
         "0.0",
         "0.0"
        ],
        [
         "2020-04-23 00:00:00+00:00",
         "7121.30615234375",
         "7491.78515625",
         "7081.5947265625",
         "7429.724609375",
         "43500782316",
         "0.0",
         "0.0"
        ],
        [
         "2020-04-24 00:00:00+00:00",
         "7434.181640625",
         "7574.19580078125",
         "7434.181640625",
         "7550.90087890625",
         "34636526286",
         "0.0",
         "0.0"
        ],
        [
         "2020-04-25 00:00:00+00:00",
         "7550.48291015625",
         "7641.36376953125",
         "7521.67236328125",
         "7569.93603515625",
         "32941541447",
         "0.0",
         "0.0"
        ],
        [
         "2020-04-26 00:00:00+00:00",
         "7570.13916015625",
         "7700.59423828125",
         "7561.40771484375",
         "7679.8671875",
         "33070154491",
         "0.0",
         "0.0"
        ],
        [
         "2020-04-27 00:00:00+00:00",
         "7679.4189453125",
         "7795.60107421875",
         "7679.4189453125",
         "7795.60107421875",
         "36162144725",
         "0.0",
         "0.0"
        ],
        [
         "2020-04-28 00:00:00+00:00",
         "7796.97021484375",
         "7814.52734375",
         "7730.806640625",
         "7807.05859375",
         "33187959921",
         "0.0",
         "0.0"
        ],
        [
         "2020-04-29 00:00:00+00:00",
         "7806.71240234375",
         "8871.75390625",
         "7786.04931640625",
         "8801.0380859375",
         "60201052203",
         "0.0",
         "0.0"
        ],
        [
         "2020-04-30 00:00:00+00:00",
         "8797.669921875",
         "9440.650390625",
         "8533.255859375",
         "8658.5537109375",
         "66964629541",
         "0.0",
         "0.0"
        ],
        [
         "2020-05-01 00:00:00+00:00",
         "8672.7822265625",
         "9048.0234375",
         "8667.763671875",
         "8864.7666015625",
         "44068389997",
         "0.0",
         "0.0"
        ],
        [
         "2020-05-02 00:00:00+00:00",
         "8869.0576171875",
         "9007.1875",
         "8811.3662109375",
         "8988.5966796875",
         "40134388683",
         "0.0",
         "0.0"
        ],
        [
         "2020-05-03 00:00:00+00:00",
         "8983.6142578125",
         "9167.78125",
         "8830.9716796875",
         "8897.46875",
         "47101785174",
         "0.0",
         "0.0"
        ],
        [
         "2020-05-04 00:00:00+00:00",
         "8895.7451171875",
         "8956.90625",
         "8645.0244140625",
         "8912.654296875",
         "45718796276",
         "0.0",
         "0.0"
        ],
        [
         "2020-05-05 00:00:00+00:00",
         "8912.83203125",
         "9062.4150390625",
         "8856.8271484375",
         "9003.0703125",
         "43148462663",
         "0.0",
         "0.0"
        ]
       ],
       "shape": {
        "columns": 7,
        "rows": 1827
       }
      },
      "text/html": [
       "<div>\n",
       "<style scoped>\n",
       "    .dataframe tbody tr th:only-of-type {\n",
       "        vertical-align: middle;\n",
       "    }\n",
       "\n",
       "    .dataframe tbody tr th {\n",
       "        vertical-align: top;\n",
       "    }\n",
       "\n",
       "    .dataframe thead th {\n",
       "        text-align: right;\n",
       "    }\n",
       "</style>\n",
       "<table border=\"1\" class=\"dataframe\">\n",
       "  <thead>\n",
       "    <tr style=\"text-align: right;\">\n",
       "      <th></th>\n",
       "      <th>Open</th>\n",
       "      <th>High</th>\n",
       "      <th>Low</th>\n",
       "      <th>Close</th>\n",
       "      <th>Volume</th>\n",
       "      <th>Dividends</th>\n",
       "      <th>Stock Splits</th>\n",
       "    </tr>\n",
       "    <tr>\n",
       "      <th>Date</th>\n",
       "      <th></th>\n",
       "      <th></th>\n",
       "      <th></th>\n",
       "      <th></th>\n",
       "      <th></th>\n",
       "      <th></th>\n",
       "      <th></th>\n",
       "    </tr>\n",
       "  </thead>\n",
       "  <tbody>\n",
       "    <tr>\n",
       "      <th>2020-03-17 00:00:00+00:00</th>\n",
       "      <td>5002.578125</td>\n",
       "      <td>5371.348633</td>\n",
       "      <td>4981.909180</td>\n",
       "      <td>5225.629395</td>\n",
       "      <td>38622642935</td>\n",
       "      <td>0.0</td>\n",
       "      <td>0.0</td>\n",
       "    </tr>\n",
       "    <tr>\n",
       "      <th>2020-03-18 00:00:00+00:00</th>\n",
       "      <td>5227.113770</td>\n",
       "      <td>5331.833984</td>\n",
       "      <td>5069.335938</td>\n",
       "      <td>5238.438477</td>\n",
       "      <td>37878801016</td>\n",
       "      <td>0.0</td>\n",
       "      <td>0.0</td>\n",
       "    </tr>\n",
       "    <tr>\n",
       "      <th>2020-03-19 00:00:00+00:00</th>\n",
       "      <td>5245.416504</td>\n",
       "      <td>6329.735840</td>\n",
       "      <td>5236.968750</td>\n",
       "      <td>6191.192871</td>\n",
       "      <td>51000731797</td>\n",
       "      <td>0.0</td>\n",
       "      <td>0.0</td>\n",
       "    </tr>\n",
       "    <tr>\n",
       "      <th>2020-03-20 00:00:00+00:00</th>\n",
       "      <td>6191.653809</td>\n",
       "      <td>6844.261719</td>\n",
       "      <td>5865.781738</td>\n",
       "      <td>6198.778320</td>\n",
       "      <td>54442976103</td>\n",
       "      <td>0.0</td>\n",
       "      <td>0.0</td>\n",
       "    </tr>\n",
       "    <tr>\n",
       "      <th>2020-03-21 00:00:00+00:00</th>\n",
       "      <td>6206.521484</td>\n",
       "      <td>6378.135254</td>\n",
       "      <td>5932.823242</td>\n",
       "      <td>6185.066406</td>\n",
       "      <td>42494390880</td>\n",
       "      <td>0.0</td>\n",
       "      <td>0.0</td>\n",
       "    </tr>\n",
       "    <tr>\n",
       "      <th>...</th>\n",
       "      <td>...</td>\n",
       "      <td>...</td>\n",
       "      <td>...</td>\n",
       "      <td>...</td>\n",
       "      <td>...</td>\n",
       "      <td>...</td>\n",
       "      <td>...</td>\n",
       "    </tr>\n",
       "    <tr>\n",
       "      <th>2025-03-13 00:00:00+00:00</th>\n",
       "      <td>83724.921875</td>\n",
       "      <td>84301.695312</td>\n",
       "      <td>79931.851562</td>\n",
       "      <td>81066.703125</td>\n",
       "      <td>31412940153</td>\n",
       "      <td>0.0</td>\n",
       "      <td>0.0</td>\n",
       "    </tr>\n",
       "    <tr>\n",
       "      <th>2025-03-14 00:00:00+00:00</th>\n",
       "      <td>81066.992188</td>\n",
       "      <td>85263.289062</td>\n",
       "      <td>80797.562500</td>\n",
       "      <td>83969.101562</td>\n",
       "      <td>29588112414</td>\n",
       "      <td>0.0</td>\n",
       "      <td>0.0</td>\n",
       "    </tr>\n",
       "    <tr>\n",
       "      <th>2025-03-15 00:00:00+00:00</th>\n",
       "      <td>83968.406250</td>\n",
       "      <td>84672.671875</td>\n",
       "      <td>83639.593750</td>\n",
       "      <td>84343.109375</td>\n",
       "      <td>13650491277</td>\n",
       "      <td>0.0</td>\n",
       "      <td>0.0</td>\n",
       "    </tr>\n",
       "    <tr>\n",
       "      <th>2025-03-16 00:00:00+00:00</th>\n",
       "      <td>84333.320312</td>\n",
       "      <td>85051.601562</td>\n",
       "      <td>82017.906250</td>\n",
       "      <td>82579.687500</td>\n",
       "      <td>21330270174</td>\n",
       "      <td>0.0</td>\n",
       "      <td>0.0</td>\n",
       "    </tr>\n",
       "    <tr>\n",
       "      <th>2025-03-17 00:00:00+00:00</th>\n",
       "      <td>82571.148438</td>\n",
       "      <td>83818.281250</td>\n",
       "      <td>82571.148438</td>\n",
       "      <td>83585.375000</td>\n",
       "      <td>24877977600</td>\n",
       "      <td>0.0</td>\n",
       "      <td>0.0</td>\n",
       "    </tr>\n",
       "  </tbody>\n",
       "</table>\n",
       "<p>1827 rows × 7 columns</p>\n",
       "</div>"
      ],
      "text/plain": [
       "                                   Open          High           Low  \\\n",
       "Date                                                                  \n",
       "2020-03-17 00:00:00+00:00   5002.578125   5371.348633   4981.909180   \n",
       "2020-03-18 00:00:00+00:00   5227.113770   5331.833984   5069.335938   \n",
       "2020-03-19 00:00:00+00:00   5245.416504   6329.735840   5236.968750   \n",
       "2020-03-20 00:00:00+00:00   6191.653809   6844.261719   5865.781738   \n",
       "2020-03-21 00:00:00+00:00   6206.521484   6378.135254   5932.823242   \n",
       "...                                 ...           ...           ...   \n",
       "2025-03-13 00:00:00+00:00  83724.921875  84301.695312  79931.851562   \n",
       "2025-03-14 00:00:00+00:00  81066.992188  85263.289062  80797.562500   \n",
       "2025-03-15 00:00:00+00:00  83968.406250  84672.671875  83639.593750   \n",
       "2025-03-16 00:00:00+00:00  84333.320312  85051.601562  82017.906250   \n",
       "2025-03-17 00:00:00+00:00  82571.148438  83818.281250  82571.148438   \n",
       "\n",
       "                                  Close       Volume  Dividends  Stock Splits  \n",
       "Date                                                                           \n",
       "2020-03-17 00:00:00+00:00   5225.629395  38622642935        0.0           0.0  \n",
       "2020-03-18 00:00:00+00:00   5238.438477  37878801016        0.0           0.0  \n",
       "2020-03-19 00:00:00+00:00   6191.192871  51000731797        0.0           0.0  \n",
       "2020-03-20 00:00:00+00:00   6198.778320  54442976103        0.0           0.0  \n",
       "2020-03-21 00:00:00+00:00   6185.066406  42494390880        0.0           0.0  \n",
       "...                                 ...          ...        ...           ...  \n",
       "2025-03-13 00:00:00+00:00  81066.703125  31412940153        0.0           0.0  \n",
       "2025-03-14 00:00:00+00:00  83969.101562  29588112414        0.0           0.0  \n",
       "2025-03-15 00:00:00+00:00  84343.109375  13650491277        0.0           0.0  \n",
       "2025-03-16 00:00:00+00:00  82579.687500  21330270174        0.0           0.0  \n",
       "2025-03-17 00:00:00+00:00  83585.375000  24877977600        0.0           0.0  \n",
       "\n",
       "[1827 rows x 7 columns]"
      ]
     },
     "execution_count": 1,
     "metadata": {},
     "output_type": "execute_result"
    }
   ],
   "source": [
    "import yfinance as yf\n",
    "btc = yf.Ticker(\"BTC-USD\")\n",
    "data = btc.history(period=\"5y\")  # Get last 5 years of data\n",
    "data"
   ]
  },
  {
   "cell_type": "code",
   "execution_count": 2,
   "metadata": {},
   "outputs": [
    {
     "data": {
      "text/plain": [
       "<Axes: xlabel='Date'>"
      ]
     },
     "execution_count": 2,
     "metadata": {},
     "output_type": "execute_result"
    },
    {
     "data": {
      "image/png": "[encoded data removed]",
      "text/plain": [
       "<Figure size 640x480 with 1 Axes>"
      ]
     },
     "metadata": {},
     "output_type": "display_data"
    }
   ],
   "source": [
    "data['Daily Return'] = data['Close'].pct_change()\n",
    "data['Daily Return'].plot()"
   ]
  },
  {
   "cell_type": "code",
   "execution_count": 3,
   "metadata": {},
   "outputs": [
    {
     "data": {
      "text/plain": [
       "array([<Axes: xlabel='Date'>, <Axes: xlabel='Date'>], dtype=object)"
      ]
     },
     "execution_count": 3,
     "metadata": {},
     "output_type": "execute_result"
    },
    {
     "data": {
      "image/png": "[encoded data removed]",
      "text/plain": [
       "<Figure size 640x480 with 2 Axes>"
      ]
     },
     "metadata": {},
     "output_type": "display_data"
    }
   ],
   "source": [
    "# Calculate rolling 60-day standard deviation of daily returns\n",
    "data['Rolling 60d Volatility'] = data['Daily Return'].rolling(window=60).std()\n",
    "\n",
    "# Annualize the rolling volatility (assuming 252 trading days in a year)\n",
    "data['Annualized Rolling 60d Volatility'] = data['Rolling 60d Volatility'] * (252 ** 0.5)\n",
    "\n",
    "data[['Rolling 60d Volatility', 'Annualized Rolling 60d Volatility']].plot(subplots=True)"
   ]
  },
  {
   "cell_type": "code",
   "execution_count": 4,
   "metadata": {},
   "outputs": [
    {
     "name": "stdout",
     "output_type": "stream",
     "text": [
      "21 available expiration dates: ('2025-03-21', '2025-03-28', '2025-04-04', '2025-04-11', '2025-04-17', '2025-04-25', '2025-05-02', '2025-05-16', '2025-06-20', '2025-07-18', '2025-08-15', '2025-09-19', '2025-10-17', '2025-12-19', '2026-01-16', '2026-03-20', '2026-06-18', '2026-12-18', '2027-01-15', '2027-06-17', '2027-12-17')\n",
      "Calls:\n",
      "        contractSymbol             lastTradeDate  strike  lastPrice  bid  ask  \\\n",
      "0  MSFT250321C00200000 2025-03-13 19:45:31+00:00   200.0     178.30  0.0  0.0   \n",
      "1  MSFT250321C00210000 2025-03-11 19:20:09+00:00   210.0     174.07  0.0  0.0   \n",
      "2  MSFT250321C00220000 2025-03-05 15:11:09+00:00   220.0     172.41  0.0  0.0   \n",
      "3  MSFT250321C00230000 2025-02-19 17:17:44+00:00   230.0     180.74  0.0  0.0   \n",
      "4  MSFT250321C00240000 2025-02-25 15:23:08+00:00   240.0     160.00  0.0  0.0   \n",
      "\n",
      "   change  percentChange  volume  openInterest  impliedVolatility  inTheMoney  \\\n",
      "0     0.0            0.0     6.0           438            0.00001        True   \n",
      "1     0.0            0.0     1.0             0            0.00001        True   \n",
      "2     0.0            0.0     5.0            15            0.00001        True   \n",
      "3     0.0            0.0     2.0             0            0.00001        True   \n",
      "4     0.0            0.0     1.0             0            0.00001        True   \n",
      "\n",
      "  contractSize currency  \n",
      "0      REGULAR      USD  \n",
      "1      REGULAR      USD  \n",
      "2      REGULAR      USD  \n",
      "3      REGULAR      USD  \n",
      "4      REGULAR      USD  \n",
      "\n",
      "Puts:\n",
      "        contractSymbol             lastTradeDate  strike  lastPrice  bid  ask  \\\n",
      "0  MSFT250321P00200000 2025-03-12 13:30:06+00:00   200.0       0.02  0.0  0.0   \n",
      "1  MSFT250321P00210000 2025-03-07 19:15:30+00:00   210.0       0.02  0.0  0.0   \n",
      "2  MSFT250321P00220000 2025-03-04 17:42:35+00:00   220.0       0.01  0.0  0.0   \n",
      "3  MSFT250321P00230000 2025-03-14 19:58:53+00:00   230.0       0.01  0.0  0.0   \n",
      "4  MSFT250321P00240000 2025-03-13 19:07:07+00:00   240.0       0.01  0.0  0.0   \n",
      "\n",
      "   change  percentChange  volume  openInterest  impliedVolatility  inTheMoney  \\\n",
      "0     0.0            0.0     1.0          1235           0.500005       False   \n",
      "1     0.0            0.0     3.0           794           0.500005       False   \n",
      "2     0.0            0.0     2.0           921           0.500005       False   \n",
      "3     0.0            0.0   604.0             0           0.500005       False   \n",
      "4     0.0            0.0    47.0             0           0.500005       False   \n",
      "\n",
      "  contractSize currency  \n",
      "0      REGULAR      USD  \n",
      "1      REGULAR      USD  \n",
      "2      REGULAR      USD  \n",
      "3      REGULAR      USD  \n",
      "4      REGULAR      USD  \n"
     ]
    }
   ],
   "source": [
    "msft = yf.Ticker(\"MSFT\")\n",
    "\n",
    "expirations = msft.options\n",
    "print(f\"{len(expirations)} available expiration dates:\", expirations)\n",
    "\n",
    "# Choose an expiration date (for example, the first available one)\n",
    "expiration_date = expirations[0]\n",
    "\n",
    "# Fetch the option chain for the chosen expiration date\n",
    "option_chain = msft.option_chain(expiration_date)\n",
    "\n",
    "# Display the calls and puts\n",
    "calls = option_chain.calls\n",
    "puts = option_chain.puts\n",
    "\n",
    "print(\"Calls:\")\n",
    "print(calls.head())\n",
    "\n",
    "print(\"\\nPuts:\")\n",
    "print(puts.head())"
   ]
  },
  {
   "cell_type": "code",
   "execution_count": 10,
   "metadata": {},
   "outputs": [
    {
     "name": "stdout",
     "output_type": "stream",
     "text": [
      "March 18th, 2025\n"
     ]
    },
    {
     "data": {
      "text/plain": [
       "(1.936881186984444, 0.4848689043481677)"
      ]
     },
     "execution_count": 10,
     "metadata": {},
     "output_type": "execute_result"
    }
   ],
   "source": [
    "import QuantLib as ql\n",
    "\n",
    "spot = 100\n",
    "strike = 100\n",
    "rate = 0.035\n",
    "div_yield = 0.05\n",
    "volatility = 0.1\n",
    "maturity = ql.Date(30,6,2025)\n",
    "\n",
    "calculation_date = ql.Date().todaysDate()  # Arbitrary calculation date\n",
    "print(calculation_date)\n",
    "ql.Settings.instance().evaluationDate = calculation_date\n",
    "\n",
    "payoff = ql.PlainVanillaPayoff(ql.Option.Call, strike)\n",
    "exercise = ql.AmericanExercise(\n",
    "    calculation_date, maturity\n",
    ")\n",
    "\n",
    "option = ql.VanillaOption(payoff, exercise)\n",
    "\n",
    "today = ql.Date().todaysDate()\n",
    "riskFreeTS = ql.YieldTermStructureHandle(ql.FlatForward(today, rate, ql.Actual365Fixed()))\n",
    "dividendTS = ql.YieldTermStructureHandle(ql.FlatForward(today, div_yield, ql.Actual365Fixed()))\n",
    "volatility = ql.BlackVolTermStructureHandle(ql.BlackConstantVol(today, ql.NullCalendar(), volatility, ql.Actual365Fixed()))\n",
    "initialValue = ql.QuoteHandle(ql.SimpleQuote(spot))\n",
    "process = ql.BlackScholesMertonProcess(initialValue, dividendTS, riskFreeTS, volatility)\n",
    "\n",
    "tGrid, xGrid = 2000, 200\n",
    "engine = ql.FdBlackScholesVanillaEngine(process, tGrid, xGrid)\n",
    "option.setPricingEngine(engine)\n",
    "\n",
    "option.NPV(), option.delta()"
   ]
  },
  {
   "cell_type": "code",
   "execution_count": 11,
   "metadata": {},
   "outputs": [],
   "source": [
    "dividend_dates = [ql.Date(1, ql.June, 2025)]\n",
    "dividends = [5.0]\n"
   ]
  },
  {
   "cell_type": "code",
   "execution_count": null,
   "metadata": {},
   "outputs": [
    {
     "data": {
      "text/plain": [
       "0.9656054162575665"
      ]
     },
     "execution_count": 19,
     "metadata": {},
     "output_type": "execute_result"
    }
   ],
   "source": [
    "\n",
    "calculation_date = ql.Date().todaysDate()  # Arbitrary calculation date\n",
    "ql.Settings.instance().evaluationDate = calculation_date\n",
    "day_counter = ql.Actual365Fixed()\n",
    "discount_curve = ql.FlatForward(today, 0.035, day_counter)\n",
    "oneyear = ql.Date().todaysDate() + ql.Period(1, ql.Years)\n",
    "discount_curve.discount(oneyear)\n",
    "\n",
    "\n"
   ]
  },
  {
   "cell_type": "code",
   "execution_count": 20,
   "metadata": {},
   "outputs": [
    {
     "name": "stdout",
     "output_type": "stream",
     "text": [
      "0.9928340181498791 [1.0, 0.7942672145199033]\n"
     ]
    }
   ],
   "source": [
    "day_counter = ql.Actual365Fixed()\n",
    "calendar = ql.NullCalendar()\n",
    "discount_curve = ql.FlatForward(today, rate, day_counter)\n",
    "discount_dates = [today]  # Start with the reference date\n",
    "discount_factors = [1.0]    \n",
    "for dividend_date, dividend_amount in zip(dividend_dates, dividends):\n",
    "    discount_dates.append(dividend_date)\n",
    "    discount_factor_before = discount_curve.discount(dividend_date)\n",
    "    #We add the dividend as a negative discount factor. Effectively lowering the discount factor at the dividend date.\n",
    "    discount_factors.append(discount_factor_before - (1/dividend_amount)*discount_factor_before)\n",
    "    print(discount_factor_before, discount_factors)\n",
    "# Create the DiscountCurve and YieldTermStructureHandle\n",
    "dividend_curve = ql.DiscountCurve(discount_dates, discount_factors, day_counter, calendar)\n",
    "dividend_curve_handle = ql.YieldTermStructureHandle(dividend_curve)"
   ]
  },
  {
   "cell_type": "code",
   "execution_count": 9,
   "metadata": {},
   "outputs": [
    {
     "ename": "NameError",
     "evalue": "name 'ql' is not defined",
     "output_type": "error",
     "traceback": [
      "\u001b[0;31m---------------------------------------------------------------------------\u001b[0m",
      "\u001b[0;31mNameError\u001b[0m                                 Traceback (most recent call last)",
      "Cell \u001b[0;32mIn[9], line 1\u001b[0m\n\u001b[0;32m----> 1\u001b[0m dividend_curve \u001b[38;5;241m=\u001b[39m \u001b[43mql\u001b[49m\u001b[38;5;241m.\u001b[39mZeroCurve(dividend_curve_dates, dividend_curve_rates, ql\u001b[38;5;241m.\u001b[39mActual365Fixed())\n\u001b[1;32m      2\u001b[0m risk_free_rate_ts \u001b[38;5;241m=\u001b[39m ql\u001b[38;5;241m.\u001b[39mFlatForward(today, rate, ql\u001b[38;5;241m.\u001b[39mActual365Fixed())\n\u001b[1;32m      4\u001b[0m \u001b[38;5;66;03m# Adjust the dividend yield curve for the discrete dividends\u001b[39;00m\n",
      "\u001b[0;31mNameError\u001b[0m: name 'ql' is not defined"
     ]
    }
   ],
   "source": [
    "\n",
    "dividend_curve = ql.ZeroCurve(dividend_curve_dates, dividend_curve_rates, ql.Actual365Fixed())\n",
    "risk_free_rate_ts = ql.FlatForward(today, rate, ql.Actual365Fixed())\n",
    "\n",
    "# Adjust the dividend yield curve for the discrete dividends\n",
    "adjusted_rates = []\n",
    "for date, dividend in zip(dividend_curve_dates, dividend_curve_amount):\n",
    "    if date in dividend_dates:\n",
    "        discount_factor = risk_free_rate_ts.discount(date)\n",
    "        dividend_yield_adjustment = dividend / (spot * discount_factor)\n",
    "        adjusted_rate = div_yield + dividend_yield_adjustment\n",
    "        print(dividend, discount_factor, dividend_yield_adjustment, adjusted_rate)\n",
    "    else:\n",
    "        adjusted_rate = div_yield\n",
    "    adjusted_rates.append(adjusted_rate)\n",
    "print(adjusted_rates)\n",
    "adjusted_dividend_curve = ql.ZeroCurve(dividend_curve_dates, adjusted_rates, ql.Actual365Fixed())\n",
    "dividend_yield_ts = ql.YieldTermStructureHandle(adjusted_dividend_curve)"
   ]
  },
  {
   "cell_type": "code",
   "execution_count": 51,
   "metadata": {},
   "outputs": [
    {
     "data": {
      "text/plain": [
       "(1.0, 0.0)"
      ]
     },
     "execution_count": 51,
     "metadata": {},
     "output_type": "execute_result"
    }
   ],
   "source": [
    "dividend_yield_ts.discount(ql.Date(30, ql.June, 2025)), dividend_yield_ts.zeroRate(ql.Date(30, ql.June, 2025), ql.Actual365Fixed(), ql.Continuous).rate()"
   ]
  },
  {
   "cell_type": "code",
   "execution_count": 31,
   "metadata": {},
   "outputs": [
    {
     "data": {
      "text/plain": [
       "(2.6673560091708706, 0.5850199599027576)"
      ]
     },
     "execution_count": 31,
     "metadata": {},
     "output_type": "execute_result"
    }
   ],
   "source": [
    "process = ql.BlackScholesMertonProcess(initialValue, dividend_yield_ts, riskFreeTS, volatility)\n",
    "\n",
    "engine = ql.FdBlackScholesVanillaEngine(process, tGrid, xGrid)\n",
    "option2 = ql.VanillaOption(payoff, exercise)\n",
    "option2.setPricingEngine(engine)\n",
    "option2.NPV(), option2.delta()"
   ]
  },
  {
   "cell_type": "code",
   "execution_count": null,
   "metadata": {},
   "outputs": [],
   "source": []
  },
  {
   "cell_type": "markdown",
   "metadata": {},
   "source": [
    "### Stock forward value"
   ]
  },
  {
   "cell_type": "code",
   "execution_count": 52,
   "metadata": {},
   "outputs": [
    {
     "name": "stdout",
     "output_type": "stream",
     "text": [
      "Forward stock value: 104.62789401666697 1.0\n"
     ]
    }
   ],
   "source": [
    "import QuantLib as ql\n",
    "\n",
    "def calculate_forward_stock_value(\n",
    "    valuation_date,\n",
    "    spot_price,\n",
    "    dividend_dates,\n",
    "    dividend_amounts,\n",
    "    risk_free_curve,\n",
    "    forward_date,\n",
    "):\n",
    "    \"\"\"\n",
    "    Calculates the forward value of a stock using QuantLib.\n",
    "\n",
    "    Args:\n",
    "        valuation_date (ql.Date): The valuation date.\n",
    "        spot_price (float): The current spot price of the stock.\n",
    "        dividend_dates (list of ql.Date): A list of dividend dates.\n",
    "        dividend_amounts (list of float): A list of dividend amounts corresponding to the dividend dates.\n",
    "        risk_free_curve (ql.YieldTermStructure): The risk-free yield curve.\n",
    "        forward_date (ql.Date): The forward date.\n",
    "\n",
    "    Returns:\n",
    "        float: The forward value of the stock.\n",
    "    \"\"\"\n",
    "\n",
    "    ql.Settings.instance().evaluationDate = valuation_date\n",
    "\n",
    "    # Calculate the present value of dividends\n",
    "    dividend_pv = 0.0\n",
    "    for date, amount in zip(dividend_dates, dividend_amounts):\n",
    "        dividend_pv += amount * risk_free_curve.discount(date)\n",
    "\n",
    "    # Calculate the forward factor\n",
    "    forward_factor = risk_free_curve.discount(forward_date) / risk_free_curve.discount(valuation_date)\n",
    "\n",
    "    # Calculate the forward price\n",
    "    forward_price = (spot_price - dividend_pv * risk_free_curve.discount(valuation_date)) / forward_factor\n",
    "\n",
    "    return forward_price\n",
    "\n",
    "# Example usage\n",
    "valuation_date = ql.Date(15, 1, 2024)\n",
    "spot_price = 100.0\n",
    "dividend_dates = [ql.Date(15, 3, 2024), ql.Date(15, 9, 2024)]\n",
    "dividend_amounts = [0.2, 0.3]\n",
    "forward_date = ql.Date(15, 1, 2025)\n",
    "\n",
    "# Create a flat yield curve for simplicity\n",
    "rate = 0.05  # 5% annual rate\n",
    "day_count = ql.Actual365Fixed()\n",
    "calendar = ql.NullCalendar()\n",
    "risk_free_curve = ql.FlatForward(valuation_date, rate, day_count)\n",
    "\n",
    "# Calculate the forward stock value\n",
    "forward_value = calculate_forward_stock_value(\n",
    "    valuation_date,\n",
    "    spot_price,\n",
    "    dividend_dates,\n",
    "    dividend_amounts,\n",
    "    risk_free_curve,\n",
    "    forward_date,\n",
    ")\n",
    "\n",
    "print(f\"Forward stock value: {forward_value} {risk_free_curve.discount(valuation_date)}\")"
   ]
  },
  {
   "cell_type": "code",
   "execution_count": 26,
   "metadata": {},
   "outputs": [
    {
     "name": "stdout",
     "output_type": "stream",
     "text": [
      "0.9899142197731114 1.0040630263221775 0.9939362673047474 -0.0040220475316359305\n",
      "0.9775168728661981 1.2109648604795542 1.1837385835668257 -0.20622171070062756\n",
      "0.9652747860891632 1.1156611246560404 1.0769195534503546 -0.11164476736119144\n"
     ]
    },
    {
     "ename": "RuntimeError",
     "evalue": "negative discount",
     "output_type": "error",
     "traceback": [
      "\u001b[0;31m---------------------------------------------------------------------------\u001b[0m",
      "\u001b[0;31mRuntimeError\u001b[0m                              Traceback (most recent call last)",
      "\u001b[0;32m/tmp/ipykernel_1017693/253135206.py\u001b[0m in \u001b[0;36m?\u001b[0;34m()\u001b[0m\n\u001b[1;32m     56\u001b[0m \u001b[0mdividend_amounts\u001b[0m \u001b[0;34m=\u001b[0m \u001b[0;34m[\u001b[0m\u001b[0;36m1.0\u001b[0m\u001b[0;34m,\u001b[0m \u001b[0;36m1.2\u001b[0m\u001b[0;34m,\u001b[0m \u001b[0;36m1.1\u001b[0m\u001b[0;34m]\u001b[0m\u001b[0;34m\u001b[0m\u001b[0;34m\u001b[0m\u001b[0m\n\u001b[1;32m     57\u001b[0m \u001b[0mrisk_free_rate\u001b[0m \u001b[0;34m=\u001b[0m \u001b[0;36m0.05\u001b[0m\u001b[0;34m\u001b[0m\u001b[0;34m\u001b[0m\u001b[0m\n\u001b[1;32m     58\u001b[0m \u001b[0mdividend_yield\u001b[0m \u001b[0;34m=\u001b[0m \u001b[0;36m0.02\u001b[0m\u001b[0;34m\u001b[0m\u001b[0;34m\u001b[0m\u001b[0m\n\u001b[1;32m     59\u001b[0m \u001b[0;34m\u001b[0m\u001b[0m\n\u001b[0;32m---> 60\u001b[0;31m dividend_curve_handle = build_forward_dividend_curve_handle(\n\u001b[0m\u001b[1;32m     61\u001b[0m     \u001b[0mdividend_dates\u001b[0m\u001b[0;34m,\u001b[0m \u001b[0mdividend_amounts\u001b[0m\u001b[0;34m,\u001b[0m \u001b[0mreference_date\u001b[0m\u001b[0;34m,\u001b[0m \u001b[0mrisk_free_rate\u001b[0m\u001b[0;34m,\u001b[0m \u001b[0mdividend_yield\u001b[0m\u001b[0;34m\u001b[0m\u001b[0;34m\u001b[0m\u001b[0m\n\u001b[1;32m     62\u001b[0m )\n\u001b[1;32m     63\u001b[0m \u001b[0;34m\u001b[0m\u001b[0m\n",
      "\u001b[0;32m/tmp/ipykernel_1017693/253135206.py\u001b[0m in \u001b[0;36m?\u001b[0;34m(dividend_dates, dividend_amounts, reference_date, risk_free_rate, dividend_yield)\u001b[0m\n\u001b[1;32m     44\u001b[0m         \u001b[0mextra_date\u001b[0m \u001b[0;34m=\u001b[0m \u001b[0mql\u001b[0m\u001b[0;34m.\u001b[0m\u001b[0mDate\u001b[0m\u001b[0;34m(\u001b[0m\u001b[0mlast_dividend_date\u001b[0m\u001b[0;34m.\u001b[0m\u001b[0mdayOfMonth\u001b[0m\u001b[0;34m(\u001b[0m\u001b[0;34m)\u001b[0m\u001b[0;34m,\u001b[0m \u001b[0mlast_dividend_date\u001b[0m\u001b[0;34m.\u001b[0m\u001b[0mmonth\u001b[0m\u001b[0;34m(\u001b[0m\u001b[0;34m)\u001b[0m\u001b[0;34m,\u001b[0m \u001b[0mlast_dividend_date\u001b[0m\u001b[0;34m.\u001b[0m\u001b[0myear\u001b[0m\u001b[0;34m(\u001b[0m\u001b[0;34m)\u001b[0m\u001b[0;34m+\u001b[0m\u001b[0;36m1\u001b[0m\u001b[0;34m)\u001b[0m\u001b[0;34m\u001b[0m\u001b[0;34m\u001b[0m\u001b[0m\n\u001b[1;32m     45\u001b[0m         \u001b[0mdiscount_dates\u001b[0m\u001b[0;34m.\u001b[0m\u001b[0mappend\u001b[0m\u001b[0;34m(\u001b[0m\u001b[0mextra_date\u001b[0m\u001b[0;34m)\u001b[0m\u001b[0;34m\u001b[0m\u001b[0;34m\u001b[0m\u001b[0m\n\u001b[1;32m     46\u001b[0m         \u001b[0mdiscount_factors\u001b[0m\u001b[0;34m.\u001b[0m\u001b[0mappend\u001b[0m\u001b[0;34m(\u001b[0m\u001b[0mrisk_free_curve\u001b[0m\u001b[0;34m.\u001b[0m\u001b[0mdiscount\u001b[0m\u001b[0;34m(\u001b[0m\u001b[0mextra_date\u001b[0m\u001b[0;34m)\u001b[0m\u001b[0;34m)\u001b[0m\u001b[0;34m\u001b[0m\u001b[0;34m\u001b[0m\u001b[0m\n\u001b[1;32m     47\u001b[0m \u001b[0;34m\u001b[0m\u001b[0m\n\u001b[0;32m---> 48\u001b[0;31m     \u001b[0mdividend_curve\u001b[0m \u001b[0;34m=\u001b[0m \u001b[0mql\u001b[0m\u001b[0;34m.\u001b[0m\u001b[0mDiscountCurve\u001b[0m\u001b[0;34m(\u001b[0m\u001b[0mdiscount_dates\u001b[0m\u001b[0;34m,\u001b[0m \u001b[0mdiscount_factors\u001b[0m\u001b[0;34m,\u001b[0m \u001b[0mday_counter\u001b[0m\u001b[0;34m,\u001b[0m \u001b[0mcalendar\u001b[0m\u001b[0;34m)\u001b[0m\u001b[0;34m\u001b[0m\u001b[0;34m\u001b[0m\u001b[0m\n\u001b[0m\u001b[1;32m     49\u001b[0m     \u001b[0mdividend_curve_handle\u001b[0m \u001b[0;34m=\u001b[0m \u001b[0mql\u001b[0m\u001b[0;34m.\u001b[0m\u001b[0mYieldTermStructureHandle\u001b[0m\u001b[0;34m(\u001b[0m\u001b[0mdividend_curve\u001b[0m\u001b[0;34m)\u001b[0m\u001b[0;34m\u001b[0m\u001b[0;34m\u001b[0m\u001b[0m\n\u001b[1;32m     50\u001b[0m \u001b[0;34m\u001b[0m\u001b[0m\n\u001b[1;32m     51\u001b[0m     \u001b[0;32mreturn\u001b[0m \u001b[0mdividend_curve_handle\u001b[0m\u001b[0;34m\u001b[0m\u001b[0;34m\u001b[0m\u001b[0m\n",
      "\u001b[0;32m~/miniconda3/envs/ai/lib/python3.10/site-packages/QuantLib/QuantLib.py\u001b[0m in \u001b[0;36m?\u001b[0;34m(self, *args)\u001b[0m\n\u001b[1;32m  29778\u001b[0m     \u001b[0;32mdef\u001b[0m \u001b[0m__init__\u001b[0m\u001b[0;34m(\u001b[0m\u001b[0mself\u001b[0m\u001b[0;34m,\u001b[0m \u001b[0;34m*\u001b[0m\u001b[0margs\u001b[0m\u001b[0;34m)\u001b[0m\u001b[0;34m:\u001b[0m\u001b[0;34m\u001b[0m\u001b[0;34m\u001b[0m\u001b[0m\n\u001b[1;32m  29779\u001b[0m         \u001b[0;34mr\"\"\"__init__(DiscountCurve self, DateVector dates, DoubleVector discounts, DayCounter dayCounter, Calendar calendar=Calendar(), LogLinear i=LogLinear()) -> DiscountCurve\"\"\"\u001b[0m\u001b[0;34m\u001b[0m\u001b[0;34m\u001b[0m\u001b[0m\n\u001b[0;32m> 29780\u001b[0;31m         \u001b[0m_QuantLib\u001b[0m\u001b[0;34m.\u001b[0m\u001b[0mDiscountCurve_swiginit\u001b[0m\u001b[0;34m(\u001b[0m\u001b[0mself\u001b[0m\u001b[0;34m,\u001b[0m \u001b[0m_QuantLib\u001b[0m\u001b[0;34m.\u001b[0m\u001b[0mnew_DiscountCurve\u001b[0m\u001b[0;34m(\u001b[0m\u001b[0;34m*\u001b[0m\u001b[0margs\u001b[0m\u001b[0;34m)\u001b[0m\u001b[0;34m)\u001b[0m\u001b[0;34m\u001b[0m\u001b[0;34m\u001b[0m\u001b[0m\n\u001b[0m",
      "\u001b[0;31mRuntimeError\u001b[0m: negative discount"
     ]
    }
   ],
   "source": [
    "import QuantLib as ql\n",
    "import math\n",
    "\n",
    "def build_forward_dividend_curve_handle(dividend_dates, dividend_amounts, reference_date, risk_free_rate, dividend_yield):\n",
    "    \"\"\"\n",
    "    Builds a YieldTermStructureHandle representing a forward dividend curve.\n",
    "\n",
    "    Args:\n",
    "        dividend_dates: A list of dividend dates (QuantLib Date objects).\n",
    "        dividend_amounts: A list of dividend amounts (floats).\n",
    "        reference_date: The reference date (QuantLib Date object).\n",
    "        risk_free_rate: The risk-free rate (float).\n",
    "        dividend_yield: The dividend yield (float).\n",
    "\n",
    "    Returns:\n",
    "        A YieldTermStructureHandle representing the forward dividend curve.\n",
    "    \"\"\"\n",
    "\n",
    "    ql.Settings.instance().evaluationDate = reference_date\n",
    "    day_counter = ql.Actual365Fixed()\n",
    "    calendar = ql.NullCalendar()\n",
    "    risk_free_curve = ql.FlatForward(reference_date, risk_free_rate, day_counter)\n",
    "\n",
    "    discount_dates = [reference_date]\n",
    "    discount_factors = [1.0]\n",
    "\n",
    "    for dividend_date, dividend_amount in zip(dividend_dates, dividend_amounts):\n",
    "        # Calculate the discount factor from the reference date to the dividend date using risk free rate.\n",
    "        discount_factor_risk_free = risk_free_curve.discount(dividend_date)\n",
    "\n",
    "        # Calculate the forward dividend amount, incorporating dividend yield growth.\n",
    "        time_to_dividend = day_counter.yearFraction(reference_date, dividend_date)\n",
    "        forward_dividend_amount = dividend_amount * math.exp(dividend_yield * time_to_dividend)\n",
    "\n",
    "        # Build the discount curve, reflecting the forward dividend.\n",
    "        adjusted_discount_factor = discount_factor_risk_free - forward_dividend_amount * discount_factor_risk_free\n",
    "        print(discount_factor_risk_free, forward_dividend_amount, forward_dividend_amount * discount_factor_risk_free, adjusted_discount_factor)\n",
    "        discount_dates.append(dividend_date)\n",
    "        discount_factors.append(adjusted_discount_factor)\n",
    "\n",
    "    # Add a final date to ensure the curve extends beyond the last dividend.\n",
    "    if len(dividend_dates)>0:\n",
    "        last_dividend_date = dividend_dates[-1]\n",
    "        extra_date = ql.Date(last_dividend_date.dayOfMonth(), last_dividend_date.month(), last_dividend_date.year()+1)\n",
    "        discount_dates.append(extra_date)\n",
    "        discount_factors.append(risk_free_curve.discount(extra_date))\n",
    "\n",
    "    dividend_curve = ql.DiscountCurve(discount_dates, discount_factors, day_counter, calendar)\n",
    "    dividend_curve_handle = ql.YieldTermStructureHandle(dividend_curve)\n",
    "\n",
    "    return dividend_curve_handle\n",
    "\n",
    "# Example Usage\n",
    "reference_date = ql.Date(1, 1, 2024)\n",
    "dividend_dates = [ql.Date(15, 3, 2024), ql.Date(15, 6, 2024), ql.Date(15, 9, 2024)]\n",
    "dividend_amounts = [1.0, 1.2, 1.1]\n",
    "risk_free_rate = 0.05\n",
    "dividend_yield = 0.02\n",
    "\n",
    "dividend_curve_handle = build_forward_dividend_curve_handle(\n",
    "    dividend_dates, dividend_amounts, reference_date, risk_free_rate, dividend_yield\n",
    ")\n",
    "\n",
    "# Example to demonstrate a discount factor.\n",
    "test_date = ql.Date(16, 3, 2024)\n",
    "print(dividend_curve_handle.discount(test_date))\n",
    "\n",
    "test_date_before_div = ql.Date(14,3,2024);\n",
    "test_date_after_div = ql.Date(16,3,2024);\n",
    "\n",
    "print(\"Discount before div: \", dividend_curve_handle.discount(test_date_before_div))\n",
    "print(\"Discount after div: \", dividend_curve_handle.discount(test_date_after_div))"
   ]
  },
  {
   "cell_type": "code",
   "execution_count": 39,
   "metadata": {},
   "outputs": [
    {
     "data": {
      "text/plain": [
       "(0.029999999999999978, 0.9409800567170211, 0.9035815717171762)"
      ]
     },
     "execution_count": 39,
     "metadata": {},
     "output_type": "execute_result"
    }
   ],
   "source": [
    "dates = [ql.Date(15,6,2020), ql.Date(15,6,2022), ql.Date(15,6,2023)]\n",
    "rates = [0.02, 0.03, 0.04]\n",
    "\n",
    "curve = ql.ForwardCurve(dates, rates, ql.Actual360())\n",
    "curve.forwardRate(ql.Date(15,7,2020), ql.Date(17,6,2021), ql.Actual360(), ql.Continuous, ql.Annual).rate(), curve.discount(ql.Date(15,6,2022)), curve.discount(ql.Date(15,6,2023))"
   ]
  },
  {
   "cell_type": "code",
   "execution_count": null,
   "metadata": {},
   "outputs": [
    {
     "name": "stdout",
     "output_type": "stream",
     "text": [
      "09:31:00,770  BUY_PRICE=68.78, SELL_PRICE=None, LAST=None\n",
      "09:31:00,770  BUY_PRICE=68.78, SELL_PRICE=68.85, LAST=None\n",
      "09:31:00,771  BUY_PRICE=68.78, SELL_PRICE=68.84, LAST=None\n",
      "09:31:00,771  BUY_PRICE=68.78, SELL_PRICE=68.85, LAST=None\n",
      "09:31:00,771  BUY_PRICE=68.79, SELL_PRICE=68.85, LAST=None\n",
      "09:31:00,772  BUY_PRICE=68.79, SELL_PRICE=68.86, LAST=None\n",
      "09:31:00,830  BUY_PRICE=68.82, SELL_PRICE=68.86, LAST=None\n",
      "09:31:00,830  BUY_PRICE=68.81, SELL_PRICE=68.86, LAST=68.82\n",
      "09:31:00,832  BUY_PRICE=68.8, SELL_PRICE=68.86, LAST=68.82\n",
      "09:31:00,832  BUY_PRICE=68.79, SELL_PRICE=68.86, LAST=68.82\n",
      "09:31:00,832  BUY_PRICE=68.81, SELL_PRICE=68.86, LAST=68.82\n",
      "09:31:00,832  BUY_PRICE=68.79, SELL_PRICE=68.86, LAST=68.82\n",
      "09:31:00,843  BUY_PRICE=68.78, SELL_PRICE=68.86, LAST=68.82\n"
     ]
    }
   ],
   "source": [
    "import re\n",
    "import sys\n",
    "\n",
    "def reconstruct_order_book_from_stdin():\n",
    "    \"\"\"\n",
    "    Reconstructs the order book from standard input.\n",
    "    \"\"\"\n",
    "\n",
    "    order_book = {\n",
    "        \"BUY_PRICE\": None,\n",
    "        \"SELL_PRICE\": None,\n",
    "        \"LAST\": None,\n",
    "    }\n",
    "\n",
    "    with open(\"log.log\", \"r\") as f:\n",
    "        for line in f:\n",
    "            match = re.search(r\"SUMMARY\\[QH-TSX:.*\\] (.*)\", line)\n",
    "            if match:\n",
    "                fields = match.group(1).split()\n",
    "                time = line[11:24]\n",
    "                updated = False\n",
    "                for field in fields:\n",
    "                    if \"=\" in field:\n",
    "                        key, value = field.split(\"=\")\n",
    "                        if key in order_book:\n",
    "                            try:\n",
    "                                order_book[key] = float(value)\n",
    "                                updated = True\n",
    "                            except ValueError:\n",
    "                                # Handle cases where value is not a float (e.g., LAST_QTY, VOLUME)\n",
    "                                pass\n",
    "                if updated:\n",
    "                    spot = (order_book['BUY_PRICE'] + order_book['SELL_PRICE'])/2\n",
    "                    print(\n",
    "                        \n",
    "                        f\"{time} spot={spot} BUY_PRICE={order_book['BUY_PRICE']}, SELL_PRICE={order_book['SELL_PRICE']}, LAST={order_book['LAST']}\"\n",
    "                    )\n",
    "\n",
    "# Example usage:\n",
    "reconstruct_order_book_from_stdin()"
   ]
  }
 ],
 "metadata": {
  "kernelspec": {
   "display_name": "ai",
   "language": "python",
   "name": "python3"
  },
  "language_info": {
   "codemirror_mode": {
    "name": "ipython",
    "version": 3
   },
   "file_extension": ".py",
   "mimetype": "text/x-python",
   "name": "python",
   "nbconvert_exporter": "python",
   "pygments_lexer": "ipython3",
   "version": "3.13.0"
  }
 },
 "nbformat": 4,
 "nbformat_minor": 2
}
